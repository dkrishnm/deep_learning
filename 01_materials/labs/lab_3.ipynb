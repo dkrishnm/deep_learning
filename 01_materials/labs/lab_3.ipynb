{
 "cells": [
  {
   "cell_type": "markdown",
   "metadata": {},
   "source": [
    "# Recommender Systems\n",
    "\n",
    "In this lab, we'll be using Keras to build a recommender system. We'll be using the MovieLens dataset, a common benchmark dataset for recommender systems. \n",
    "\n",
    "MovieLens is a web-based recommender system and virtual community that recommends movies for its users to watch, based on their film preferences using collaborative filtering of members' movie ratings and movie reviews. You can check out the website here: https://movielens.org/\n",
    "\n",
    "We will download a subset of the dataset containing 100k ratings. There are tens of millions of ratings in the full dataset, spanning hundreds of thousands of users and movies. The subset we'll be using is a good example to demonstrate the concepts in this lab."
   ]
  },
  {
   "cell_type": "code",
   "execution_count": 1,
   "metadata": {},
   "outputs": [],
   "source": [
    "%matplotlib inline\n",
    "import matplotlib.pyplot as plt\n",
    "import numpy as np\n",
    "from zipfile import ZipFile\n",
    "from urllib.request import urlretrieve\n",
    "from pathlib import Path\n",
    "\n",
    "ML_100K_URL = \"http://files.grouplens.org/datasets/movielens/ml-100k.zip\"\n",
    "ML_100K_FILENAME = Path(\"ml-100k.zip\")\n",
    "ML_100K_FOLDER = Path(\"ml-100k\")\n",
    "\n",
    "if not ML_100K_FOLDER.exists():\n",
    "    if not ML_100K_FILENAME.exists():\n",
    "        urlretrieve(ML_100K_URL, ML_100K_FILENAME.name)\n",
    "    with ZipFile(ML_100K_FILENAME.name) as zips:\n",
    "        zips.extractall()"
   ]
  },
  {
   "cell_type": "markdown",
   "metadata": {},
   "source": [
    "The goal of MovieLens is to enable models to predict the rating a user would give to a movie they have not yet watched. This is a classic example of a recommendation system. The dataset is huge, and contains many parts giving information about the movies, the users, and the ratings. To begin with, we will look at the ratings file. Each line in the ratings file (u.data) is formatted as:\n",
    "\n",
    "`user_id, item_id, rating, timestamp`\n",
    "\n",
    "Which tells us a single user's rating of a single movie.\n",
    "\n",
    "We will start by loading the ratings data into a pandas dataframe and then take a look at the first few rows. If you haven't used Pandas before, it's an extremely powerful library for dealing with tabular data. You can think of it as a Python version of Excel."
   ]
  },
  {
   "cell_type": "code",
   "execution_count": 2,
   "metadata": {},
   "outputs": [
    {
     "data": {
      "text/html": [
       "<div>\n",
       "<style scoped>\n",
       "    .dataframe tbody tr th:only-of-type {\n",
       "        vertical-align: middle;\n",
       "    }\n",
       "\n",
       "    .dataframe tbody tr th {\n",
       "        vertical-align: top;\n",
       "    }\n",
       "\n",
       "    .dataframe thead th {\n",
       "        text-align: right;\n",
       "    }\n",
       "</style>\n",
       "<table border=\"1\" class=\"dataframe\">\n",
       "  <thead>\n",
       "    <tr style=\"text-align: right;\">\n",
       "      <th></th>\n",
       "      <th>user_id</th>\n",
       "      <th>item_id</th>\n",
       "      <th>rating</th>\n",
       "      <th>timestamp</th>\n",
       "    </tr>\n",
       "  </thead>\n",
       "  <tbody>\n",
       "    <tr>\n",
       "      <th>0</th>\n",
       "      <td>196</td>\n",
       "      <td>242</td>\n",
       "      <td>3</td>\n",
       "      <td>881250949</td>\n",
       "    </tr>\n",
       "    <tr>\n",
       "      <th>1</th>\n",
       "      <td>186</td>\n",
       "      <td>302</td>\n",
       "      <td>3</td>\n",
       "      <td>891717742</td>\n",
       "    </tr>\n",
       "    <tr>\n",
       "      <th>2</th>\n",
       "      <td>22</td>\n",
       "      <td>377</td>\n",
       "      <td>1</td>\n",
       "      <td>878887116</td>\n",
       "    </tr>\n",
       "    <tr>\n",
       "      <th>3</th>\n",
       "      <td>244</td>\n",
       "      <td>51</td>\n",
       "      <td>2</td>\n",
       "      <td>880606923</td>\n",
       "    </tr>\n",
       "    <tr>\n",
       "      <th>4</th>\n",
       "      <td>166</td>\n",
       "      <td>346</td>\n",
       "      <td>1</td>\n",
       "      <td>886397596</td>\n",
       "    </tr>\n",
       "    <tr>\n",
       "      <th>...</th>\n",
       "      <td>...</td>\n",
       "      <td>...</td>\n",
       "      <td>...</td>\n",
       "      <td>...</td>\n",
       "    </tr>\n",
       "    <tr>\n",
       "      <th>99995</th>\n",
       "      <td>880</td>\n",
       "      <td>476</td>\n",
       "      <td>3</td>\n",
       "      <td>880175444</td>\n",
       "    </tr>\n",
       "    <tr>\n",
       "      <th>99996</th>\n",
       "      <td>716</td>\n",
       "      <td>204</td>\n",
       "      <td>5</td>\n",
       "      <td>879795543</td>\n",
       "    </tr>\n",
       "    <tr>\n",
       "      <th>99997</th>\n",
       "      <td>276</td>\n",
       "      <td>1090</td>\n",
       "      <td>1</td>\n",
       "      <td>874795795</td>\n",
       "    </tr>\n",
       "    <tr>\n",
       "      <th>99998</th>\n",
       "      <td>13</td>\n",
       "      <td>225</td>\n",
       "      <td>2</td>\n",
       "      <td>882399156</td>\n",
       "    </tr>\n",
       "    <tr>\n",
       "      <th>99999</th>\n",
       "      <td>12</td>\n",
       "      <td>203</td>\n",
       "      <td>3</td>\n",
       "      <td>879959583</td>\n",
       "    </tr>\n",
       "  </tbody>\n",
       "</table>\n",
       "<p>100000 rows × 4 columns</p>\n",
       "</div>"
      ],
      "text/plain": [
       "       user_id  item_id  rating  timestamp\n",
       "0          196      242       3  881250949\n",
       "1          186      302       3  891717742\n",
       "2           22      377       1  878887116\n",
       "3          244       51       2  880606923\n",
       "4          166      346       1  886397596\n",
       "...        ...      ...     ...        ...\n",
       "99995      880      476       3  880175444\n",
       "99996      716      204       5  879795543\n",
       "99997      276     1090       1  874795795\n",
       "99998       13      225       2  882399156\n",
       "99999       12      203       3  879959583\n",
       "\n",
       "[100000 rows x 4 columns]"
      ]
     },
     "execution_count": 2,
     "metadata": {},
     "output_type": "execute_result"
    }
   ],
   "source": [
    "import pandas as pd\n",
    "\n",
    "raw_ratings = pd.read_csv(ML_100K_FOLDER / \"u.data\", sep='\\t',\n",
    "                          names=[\"user_id\", \"item_id\", \"rating\", \"timestamp\"])\n",
    "raw_ratings"
   ]
  },
  {
   "cell_type": "markdown",
   "metadata": {},
   "source": [
    "The second file we'll look at is the movie metadata. This file (u.item) contains information about each movie, including the title and release date. Each line in the file is formatted as:\n",
    "\n",
    "`movie_id | movie_title | release_date | video_release_date | IMDb_URL | unknown | Action | Adventure | Animation | Children's | Comedy | Crime | Documentary | Drama | Fantasy | Film-Noir | Horror | Musical | Mystery | Romance | Sci-Fi | Thriller | War | Western`\n",
    "\n",
    "As you can see, the genres are binary variables. As with one-hot encoding, a 1 indicates that the movie is of that genre, and a 0 indicates that it is not. We aren't going to work with the genre data in this lab, but it's easy to imagine that it could be useful in a real-world recommendation system."
   ]
  },
  {
   "cell_type": "code",
   "execution_count": 3,
   "metadata": {},
   "outputs": [
    {
     "data": {
      "text/html": [
       "<div>\n",
       "<style scoped>\n",
       "    .dataframe tbody tr th:only-of-type {\n",
       "        vertical-align: middle;\n",
       "    }\n",
       "\n",
       "    .dataframe tbody tr th {\n",
       "        vertical-align: top;\n",
       "    }\n",
       "\n",
       "    .dataframe thead th {\n",
       "        text-align: right;\n",
       "    }\n",
       "</style>\n",
       "<table border=\"1\" class=\"dataframe\">\n",
       "  <thead>\n",
       "    <tr style=\"text-align: right;\">\n",
       "      <th></th>\n",
       "      <th>item_id</th>\n",
       "      <th>title</th>\n",
       "      <th>release_date</th>\n",
       "      <th>video_release_date</th>\n",
       "      <th>imdb_url</th>\n",
       "    </tr>\n",
       "  </thead>\n",
       "  <tbody>\n",
       "    <tr>\n",
       "      <th>0</th>\n",
       "      <td>1</td>\n",
       "      <td>Toy Story (1995)</td>\n",
       "      <td>01-Jan-1995</td>\n",
       "      <td>NaN</td>\n",
       "      <td>http://us.imdb.com/M/title-exact?Toy%20Story%2...</td>\n",
       "    </tr>\n",
       "    <tr>\n",
       "      <th>1</th>\n",
       "      <td>2</td>\n",
       "      <td>GoldenEye (1995)</td>\n",
       "      <td>01-Jan-1995</td>\n",
       "      <td>NaN</td>\n",
       "      <td>http://us.imdb.com/M/title-exact?GoldenEye%20(...</td>\n",
       "    </tr>\n",
       "    <tr>\n",
       "      <th>2</th>\n",
       "      <td>3</td>\n",
       "      <td>Four Rooms (1995)</td>\n",
       "      <td>01-Jan-1995</td>\n",
       "      <td>NaN</td>\n",
       "      <td>http://us.imdb.com/M/title-exact?Four%20Rooms%...</td>\n",
       "    </tr>\n",
       "    <tr>\n",
       "      <th>3</th>\n",
       "      <td>4</td>\n",
       "      <td>Get Shorty (1995)</td>\n",
       "      <td>01-Jan-1995</td>\n",
       "      <td>NaN</td>\n",
       "      <td>http://us.imdb.com/M/title-exact?Get%20Shorty%...</td>\n",
       "    </tr>\n",
       "    <tr>\n",
       "      <th>4</th>\n",
       "      <td>5</td>\n",
       "      <td>Copycat (1995)</td>\n",
       "      <td>01-Jan-1995</td>\n",
       "      <td>NaN</td>\n",
       "      <td>http://us.imdb.com/M/title-exact?Copycat%20(1995)</td>\n",
       "    </tr>\n",
       "    <tr>\n",
       "      <th>...</th>\n",
       "      <td>...</td>\n",
       "      <td>...</td>\n",
       "      <td>...</td>\n",
       "      <td>...</td>\n",
       "      <td>...</td>\n",
       "    </tr>\n",
       "    <tr>\n",
       "      <th>1677</th>\n",
       "      <td>1678</td>\n",
       "      <td>Mat' i syn (1997)</td>\n",
       "      <td>06-Feb-1998</td>\n",
       "      <td>NaN</td>\n",
       "      <td>http://us.imdb.com/M/title-exact?Mat%27+i+syn+...</td>\n",
       "    </tr>\n",
       "    <tr>\n",
       "      <th>1678</th>\n",
       "      <td>1679</td>\n",
       "      <td>B. Monkey (1998)</td>\n",
       "      <td>06-Feb-1998</td>\n",
       "      <td>NaN</td>\n",
       "      <td>http://us.imdb.com/M/title-exact?B%2E+Monkey+(...</td>\n",
       "    </tr>\n",
       "    <tr>\n",
       "      <th>1679</th>\n",
       "      <td>1680</td>\n",
       "      <td>Sliding Doors (1998)</td>\n",
       "      <td>01-Jan-1998</td>\n",
       "      <td>NaN</td>\n",
       "      <td>http://us.imdb.com/Title?Sliding+Doors+(1998)</td>\n",
       "    </tr>\n",
       "    <tr>\n",
       "      <th>1680</th>\n",
       "      <td>1681</td>\n",
       "      <td>You So Crazy (1994)</td>\n",
       "      <td>01-Jan-1994</td>\n",
       "      <td>NaN</td>\n",
       "      <td>http://us.imdb.com/M/title-exact?You%20So%20Cr...</td>\n",
       "    </tr>\n",
       "    <tr>\n",
       "      <th>1681</th>\n",
       "      <td>1682</td>\n",
       "      <td>Scream of Stone (Schrei aus Stein) (1991)</td>\n",
       "      <td>08-Mar-1996</td>\n",
       "      <td>NaN</td>\n",
       "      <td>http://us.imdb.com/M/title-exact?Schrei%20aus%...</td>\n",
       "    </tr>\n",
       "  </tbody>\n",
       "</table>\n",
       "<p>1682 rows × 5 columns</p>\n",
       "</div>"
      ],
      "text/plain": [
       "      item_id                                      title release_date  \\\n",
       "0           1                           Toy Story (1995)  01-Jan-1995   \n",
       "1           2                           GoldenEye (1995)  01-Jan-1995   \n",
       "2           3                          Four Rooms (1995)  01-Jan-1995   \n",
       "3           4                          Get Shorty (1995)  01-Jan-1995   \n",
       "4           5                             Copycat (1995)  01-Jan-1995   \n",
       "...       ...                                        ...          ...   \n",
       "1677     1678                          Mat' i syn (1997)  06-Feb-1998   \n",
       "1678     1679                           B. Monkey (1998)  06-Feb-1998   \n",
       "1679     1680                       Sliding Doors (1998)  01-Jan-1998   \n",
       "1680     1681                        You So Crazy (1994)  01-Jan-1994   \n",
       "1681     1682  Scream of Stone (Schrei aus Stein) (1991)  08-Mar-1996   \n",
       "\n",
       "      video_release_date                                           imdb_url  \n",
       "0                    NaN  http://us.imdb.com/M/title-exact?Toy%20Story%2...  \n",
       "1                    NaN  http://us.imdb.com/M/title-exact?GoldenEye%20(...  \n",
       "2                    NaN  http://us.imdb.com/M/title-exact?Four%20Rooms%...  \n",
       "3                    NaN  http://us.imdb.com/M/title-exact?Get%20Shorty%...  \n",
       "4                    NaN  http://us.imdb.com/M/title-exact?Copycat%20(1995)  \n",
       "...                  ...                                                ...  \n",
       "1677                 NaN  http://us.imdb.com/M/title-exact?Mat%27+i+syn+...  \n",
       "1678                 NaN  http://us.imdb.com/M/title-exact?B%2E+Monkey+(...  \n",
       "1679                 NaN      http://us.imdb.com/Title?Sliding+Doors+(1998)  \n",
       "1680                 NaN  http://us.imdb.com/M/title-exact?You%20So%20Cr...  \n",
       "1681                 NaN  http://us.imdb.com/M/title-exact?Schrei%20aus%...  \n",
       "\n",
       "[1682 rows x 5 columns]"
      ]
     },
     "execution_count": 3,
     "metadata": {},
     "output_type": "execute_result"
    }
   ],
   "source": [
    "columns_to_keep = ['item_id', 'title', 'release_date', 'video_release_date', 'imdb_url']\n",
    "items = pd.read_csv(ML_100K_FOLDER / \"u.item\", sep='|', names=columns_to_keep,\n",
    "                    encoding='latin-1', usecols=range(5))\n",
    "items"
   ]
  },
  {
   "cell_type": "markdown",
   "metadata": {},
   "source": [
    "By default, the `release_date` column is a string. We can convert it to a `datetime` object using the `pd.to_datetime` function. This will make it easier to work with in the future (if we want to do things like check which date came first, for example).\n",
    " \n",
    "We can also extract the year from the date and store it in a separate column. This will make it easier to do things like plot the number of movies released each year."
   ]
  },
  {
   "cell_type": "code",
   "execution_count": 4,
   "metadata": {},
   "outputs": [],
   "source": [
    "items['release_date'] = pd.to_datetime(items['release_date']) # Pandas makes this easy!\n",
    "items['release_year'] = items['release_date'].dt.year # For later use"
   ]
  },
  {
   "cell_type": "markdown",
   "metadata": {},
   "source": [
    "For our purposes, it will be easier to work with the data if we merge our two dataframes into a single dataframe. We can do this using the `merge` method. We'll merge the `items` dataframe into the `raw_ratings` dataframe, using the `item_id` column as the key. This will add the movie title and release year to each rating."
   ]
  },
  {
   "cell_type": "code",
   "execution_count": 5,
   "metadata": {},
   "outputs": [],
   "source": [
    "all_ratings = pd.merge(items, raw_ratings)"
   ]
  },
  {
   "cell_type": "code",
   "execution_count": 6,
   "metadata": {},
   "outputs": [
    {
     "data": {
      "text/html": [
       "<div>\n",
       "<style scoped>\n",
       "    .dataframe tbody tr th:only-of-type {\n",
       "        vertical-align: middle;\n",
       "    }\n",
       "\n",
       "    .dataframe tbody tr th {\n",
       "        vertical-align: top;\n",
       "    }\n",
       "\n",
       "    .dataframe thead th {\n",
       "        text-align: right;\n",
       "    }\n",
       "</style>\n",
       "<table border=\"1\" class=\"dataframe\">\n",
       "  <thead>\n",
       "    <tr style=\"text-align: right;\">\n",
       "      <th></th>\n",
       "      <th>item_id</th>\n",
       "      <th>title</th>\n",
       "      <th>release_date</th>\n",
       "      <th>video_release_date</th>\n",
       "      <th>imdb_url</th>\n",
       "      <th>release_year</th>\n",
       "      <th>user_id</th>\n",
       "      <th>rating</th>\n",
       "      <th>timestamp</th>\n",
       "    </tr>\n",
       "  </thead>\n",
       "  <tbody>\n",
       "    <tr>\n",
       "      <th>0</th>\n",
       "      <td>1</td>\n",
       "      <td>Toy Story (1995)</td>\n",
       "      <td>1995-01-01</td>\n",
       "      <td>NaN</td>\n",
       "      <td>http://us.imdb.com/M/title-exact?Toy%20Story%2...</td>\n",
       "      <td>1995.0</td>\n",
       "      <td>308</td>\n",
       "      <td>4</td>\n",
       "      <td>887736532</td>\n",
       "    </tr>\n",
       "    <tr>\n",
       "      <th>1</th>\n",
       "      <td>1</td>\n",
       "      <td>Toy Story (1995)</td>\n",
       "      <td>1995-01-01</td>\n",
       "      <td>NaN</td>\n",
       "      <td>http://us.imdb.com/M/title-exact?Toy%20Story%2...</td>\n",
       "      <td>1995.0</td>\n",
       "      <td>287</td>\n",
       "      <td>5</td>\n",
       "      <td>875334088</td>\n",
       "    </tr>\n",
       "    <tr>\n",
       "      <th>2</th>\n",
       "      <td>1</td>\n",
       "      <td>Toy Story (1995)</td>\n",
       "      <td>1995-01-01</td>\n",
       "      <td>NaN</td>\n",
       "      <td>http://us.imdb.com/M/title-exact?Toy%20Story%2...</td>\n",
       "      <td>1995.0</td>\n",
       "      <td>148</td>\n",
       "      <td>4</td>\n",
       "      <td>877019411</td>\n",
       "    </tr>\n",
       "    <tr>\n",
       "      <th>3</th>\n",
       "      <td>1</td>\n",
       "      <td>Toy Story (1995)</td>\n",
       "      <td>1995-01-01</td>\n",
       "      <td>NaN</td>\n",
       "      <td>http://us.imdb.com/M/title-exact?Toy%20Story%2...</td>\n",
       "      <td>1995.0</td>\n",
       "      <td>280</td>\n",
       "      <td>4</td>\n",
       "      <td>891700426</td>\n",
       "    </tr>\n",
       "    <tr>\n",
       "      <th>4</th>\n",
       "      <td>1</td>\n",
       "      <td>Toy Story (1995)</td>\n",
       "      <td>1995-01-01</td>\n",
       "      <td>NaN</td>\n",
       "      <td>http://us.imdb.com/M/title-exact?Toy%20Story%2...</td>\n",
       "      <td>1995.0</td>\n",
       "      <td>66</td>\n",
       "      <td>3</td>\n",
       "      <td>883601324</td>\n",
       "    </tr>\n",
       "  </tbody>\n",
       "</table>\n",
       "</div>"
      ],
      "text/plain": [
       "   item_id             title release_date  video_release_date  \\\n",
       "0        1  Toy Story (1995)   1995-01-01                 NaN   \n",
       "1        1  Toy Story (1995)   1995-01-01                 NaN   \n",
       "2        1  Toy Story (1995)   1995-01-01                 NaN   \n",
       "3        1  Toy Story (1995)   1995-01-01                 NaN   \n",
       "4        1  Toy Story (1995)   1995-01-01                 NaN   \n",
       "\n",
       "                                            imdb_url  release_year  user_id  \\\n",
       "0  http://us.imdb.com/M/title-exact?Toy%20Story%2...        1995.0      308   \n",
       "1  http://us.imdb.com/M/title-exact?Toy%20Story%2...        1995.0      287   \n",
       "2  http://us.imdb.com/M/title-exact?Toy%20Story%2...        1995.0      148   \n",
       "3  http://us.imdb.com/M/title-exact?Toy%20Story%2...        1995.0      280   \n",
       "4  http://us.imdb.com/M/title-exact?Toy%20Story%2...        1995.0       66   \n",
       "\n",
       "   rating  timestamp  \n",
       "0       4  887736532  \n",
       "1       5  875334088  \n",
       "2       4  877019411  \n",
       "3       4  891700426  \n",
       "4       3  883601324  "
      ]
     },
     "execution_count": 6,
     "metadata": {},
     "output_type": "execute_result"
    }
   ],
   "source": [
    "all_ratings.head()"
   ]
  },
  {
   "cell_type": "markdown",
   "metadata": {},
   "source": [
    "### Data preprocessing\n",
    "\n",
    "It's always important to understand the data you've collected. Thankfully, Pandas continues to make this easy for us. Using the `describe` method, we can get a quick statistical summary of the data."
   ]
  },
  {
   "cell_type": "code",
   "execution_count": 7,
   "metadata": {},
   "outputs": [
    {
     "data": {
      "text/html": [
       "<div>\n",
       "<style scoped>\n",
       "    .dataframe tbody tr th:only-of-type {\n",
       "        vertical-align: middle;\n",
       "    }\n",
       "\n",
       "    .dataframe tbody tr th {\n",
       "        vertical-align: top;\n",
       "    }\n",
       "\n",
       "    .dataframe thead th {\n",
       "        text-align: right;\n",
       "    }\n",
       "</style>\n",
       "<table border=\"1\" class=\"dataframe\">\n",
       "  <thead>\n",
       "    <tr style=\"text-align: right;\">\n",
       "      <th></th>\n",
       "      <th>item_id</th>\n",
       "      <th>release_date</th>\n",
       "      <th>video_release_date</th>\n",
       "      <th>release_year</th>\n",
       "      <th>user_id</th>\n",
       "      <th>rating</th>\n",
       "      <th>timestamp</th>\n",
       "    </tr>\n",
       "  </thead>\n",
       "  <tbody>\n",
       "    <tr>\n",
       "      <th>count</th>\n",
       "      <td>100000.000000</td>\n",
       "      <td>99991</td>\n",
       "      <td>0.0</td>\n",
       "      <td>99991.000000</td>\n",
       "      <td>100000.00000</td>\n",
       "      <td>100000.000000</td>\n",
       "      <td>1.000000e+05</td>\n",
       "    </tr>\n",
       "    <tr>\n",
       "      <th>mean</th>\n",
       "      <td>425.530130</td>\n",
       "      <td>1988-02-09 00:43:11.369223296</td>\n",
       "      <td>NaN</td>\n",
       "      <td>1987.956216</td>\n",
       "      <td>462.48475</td>\n",
       "      <td>3.529860</td>\n",
       "      <td>8.835289e+08</td>\n",
       "    </tr>\n",
       "    <tr>\n",
       "      <th>min</th>\n",
       "      <td>1.000000</td>\n",
       "      <td>1922-01-01 00:00:00</td>\n",
       "      <td>NaN</td>\n",
       "      <td>1922.000000</td>\n",
       "      <td>1.00000</td>\n",
       "      <td>1.000000</td>\n",
       "      <td>8.747247e+08</td>\n",
       "    </tr>\n",
       "    <tr>\n",
       "      <th>25%</th>\n",
       "      <td>175.000000</td>\n",
       "      <td>1986-01-01 00:00:00</td>\n",
       "      <td>NaN</td>\n",
       "      <td>1986.000000</td>\n",
       "      <td>254.00000</td>\n",
       "      <td>3.000000</td>\n",
       "      <td>8.794487e+08</td>\n",
       "    </tr>\n",
       "    <tr>\n",
       "      <th>50%</th>\n",
       "      <td>322.000000</td>\n",
       "      <td>1994-01-01 00:00:00</td>\n",
       "      <td>NaN</td>\n",
       "      <td>1994.000000</td>\n",
       "      <td>447.00000</td>\n",
       "      <td>4.000000</td>\n",
       "      <td>8.828269e+08</td>\n",
       "    </tr>\n",
       "    <tr>\n",
       "      <th>75%</th>\n",
       "      <td>631.000000</td>\n",
       "      <td>1996-09-28 00:00:00</td>\n",
       "      <td>NaN</td>\n",
       "      <td>1996.000000</td>\n",
       "      <td>682.00000</td>\n",
       "      <td>4.000000</td>\n",
       "      <td>8.882600e+08</td>\n",
       "    </tr>\n",
       "    <tr>\n",
       "      <th>max</th>\n",
       "      <td>1682.000000</td>\n",
       "      <td>1998-10-23 00:00:00</td>\n",
       "      <td>NaN</td>\n",
       "      <td>1998.000000</td>\n",
       "      <td>943.00000</td>\n",
       "      <td>5.000000</td>\n",
       "      <td>8.932866e+08</td>\n",
       "    </tr>\n",
       "    <tr>\n",
       "      <th>std</th>\n",
       "      <td>330.798356</td>\n",
       "      <td>NaN</td>\n",
       "      <td>NaN</td>\n",
       "      <td>14.155523</td>\n",
       "      <td>266.61442</td>\n",
       "      <td>1.125674</td>\n",
       "      <td>5.343856e+06</td>\n",
       "    </tr>\n",
       "  </tbody>\n",
       "</table>\n",
       "</div>"
      ],
      "text/plain": [
       "             item_id                   release_date  video_release_date  \\\n",
       "count  100000.000000                          99991                 0.0   \n",
       "mean      425.530130  1988-02-09 00:43:11.369223296                 NaN   \n",
       "min         1.000000            1922-01-01 00:00:00                 NaN   \n",
       "25%       175.000000            1986-01-01 00:00:00                 NaN   \n",
       "50%       322.000000            1994-01-01 00:00:00                 NaN   \n",
       "75%       631.000000            1996-09-28 00:00:00                 NaN   \n",
       "max      1682.000000            1998-10-23 00:00:00                 NaN   \n",
       "std       330.798356                            NaN                 NaN   \n",
       "\n",
       "       release_year       user_id         rating     timestamp  \n",
       "count  99991.000000  100000.00000  100000.000000  1.000000e+05  \n",
       "mean    1987.956216     462.48475       3.529860  8.835289e+08  \n",
       "min     1922.000000       1.00000       1.000000  8.747247e+08  \n",
       "25%     1986.000000     254.00000       3.000000  8.794487e+08  \n",
       "50%     1994.000000     447.00000       4.000000  8.828269e+08  \n",
       "75%     1996.000000     682.00000       4.000000  8.882600e+08  \n",
       "max     1998.000000     943.00000       5.000000  8.932866e+08  \n",
       "std       14.155523     266.61442       1.125674  5.343856e+06  "
      ]
     },
     "execution_count": 7,
     "metadata": {},
     "output_type": "execute_result"
    }
   ],
   "source": [
    "all_ratings.describe()"
   ]
  },
  {
   "cell_type": "markdown",
   "metadata": {},
   "source": [
    "Let's do a bit more pandas magic to compute the popularity of each movie (number of ratings). We will use the `groupby` method to group the dataframe by the `item_id` column and then use the `size` method to compute the number of ratings for each movie. We will use the `reset_index` method to convert the resulting Series into a dataframe with an `item_id` column."
   ]
  },
  {
   "cell_type": "code",
   "execution_count": 8,
   "metadata": {},
   "outputs": [],
   "source": [
    "popularity = all_ratings.groupby('item_id').size().reset_index(name='popularity')\n",
    "items = pd.merge(popularity, items)"
   ]
  },
  {
   "cell_type": "code",
   "execution_count": 9,
   "metadata": {},
   "outputs": [
    {
     "data": {
      "image/png": "[encoded data removed]",
      "text/plain": [
       "<Figure size 640x480 with 1 Axes>"
      ]
     },
     "metadata": {},
     "output_type": "display_data"
    }
   ],
   "source": [
    "items['popularity'].plot.hist(bins=30);"
   ]
  },
  {
   "cell_type": "code",
   "execution_count": 10,
   "metadata": {},
   "outputs": [
    {
     "data": {
      "text/plain": [
       "141"
      ]
     },
     "execution_count": 10,
     "metadata": {},
     "output_type": "execute_result"
    }
   ],
   "source": [
    "(items['popularity'] == 1).sum() # Number of movies with only one rating"
   ]
  },
  {
   "cell_type": "code",
   "execution_count": 11,
   "metadata": {},
   "outputs": [
    {
     "data": {
      "text/plain": [
       "49                  Star Wars (1977)\n",
       "257                   Contact (1997)\n",
       "99                      Fargo (1996)\n",
       "180        Return of the Jedi (1983)\n",
       "293                 Liar Liar (1997)\n",
       "285      English Patient, The (1996)\n",
       "287                    Scream (1996)\n",
       "0                   Toy Story (1995)\n",
       "299             Air Force One (1997)\n",
       "120    Independence Day (ID4) (1996)\n",
       "Name: title, dtype: object"
      ]
     },
     "execution_count": 11,
     "metadata": {},
     "output_type": "execute_result"
    }
   ],
   "source": [
    "items.nlargest(10, 'popularity')['title'] # Get the 10 most popular movies"
   ]
  },
  {
   "cell_type": "code",
   "execution_count": 12,
   "metadata": {},
   "outputs": [
    {
     "data": {
      "text/html": [
       "<div>\n",
       "<style scoped>\n",
       "    .dataframe tbody tr th:only-of-type {\n",
       "        vertical-align: middle;\n",
       "    }\n",
       "\n",
       "    .dataframe tbody tr th {\n",
       "        vertical-align: top;\n",
       "    }\n",
       "\n",
       "    .dataframe thead th {\n",
       "        text-align: right;\n",
       "    }\n",
       "</style>\n",
       "<table border=\"1\" class=\"dataframe\">\n",
       "  <thead>\n",
       "    <tr style=\"text-align: right;\">\n",
       "      <th></th>\n",
       "      <th>item_id</th>\n",
       "      <th>popularity</th>\n",
       "      <th>release_date</th>\n",
       "      <th>video_release_date</th>\n",
       "      <th>release_year</th>\n",
       "      <th>user_id</th>\n",
       "      <th>rating</th>\n",
       "      <th>timestamp</th>\n",
       "    </tr>\n",
       "  </thead>\n",
       "  <tbody>\n",
       "    <tr>\n",
       "      <th>count</th>\n",
       "      <td>100000.000000</td>\n",
       "      <td>100000.000000</td>\n",
       "      <td>99991</td>\n",
       "      <td>0.0</td>\n",
       "      <td>99991.000000</td>\n",
       "      <td>100000.00000</td>\n",
       "      <td>100000.000000</td>\n",
       "      <td>1.000000e+05</td>\n",
       "    </tr>\n",
       "    <tr>\n",
       "      <th>mean</th>\n",
       "      <td>425.530130</td>\n",
       "      <td>168.071900</td>\n",
       "      <td>1988-02-09 00:43:11.369223296</td>\n",
       "      <td>NaN</td>\n",
       "      <td>1987.956216</td>\n",
       "      <td>462.48475</td>\n",
       "      <td>3.529860</td>\n",
       "      <td>8.835289e+08</td>\n",
       "    </tr>\n",
       "    <tr>\n",
       "      <th>min</th>\n",
       "      <td>1.000000</td>\n",
       "      <td>1.000000</td>\n",
       "      <td>1922-01-01 00:00:00</td>\n",
       "      <td>NaN</td>\n",
       "      <td>1922.000000</td>\n",
       "      <td>1.00000</td>\n",
       "      <td>1.000000</td>\n",
       "      <td>8.747247e+08</td>\n",
       "    </tr>\n",
       "    <tr>\n",
       "      <th>25%</th>\n",
       "      <td>175.000000</td>\n",
       "      <td>71.000000</td>\n",
       "      <td>1986-01-01 00:00:00</td>\n",
       "      <td>NaN</td>\n",
       "      <td>1986.000000</td>\n",
       "      <td>254.00000</td>\n",
       "      <td>3.000000</td>\n",
       "      <td>8.794487e+08</td>\n",
       "    </tr>\n",
       "    <tr>\n",
       "      <th>50%</th>\n",
       "      <td>322.000000</td>\n",
       "      <td>145.000000</td>\n",
       "      <td>1994-01-01 00:00:00</td>\n",
       "      <td>NaN</td>\n",
       "      <td>1994.000000</td>\n",
       "      <td>447.00000</td>\n",
       "      <td>4.000000</td>\n",
       "      <td>8.828269e+08</td>\n",
       "    </tr>\n",
       "    <tr>\n",
       "      <th>75%</th>\n",
       "      <td>631.000000</td>\n",
       "      <td>239.000000</td>\n",
       "      <td>1996-09-28 00:00:00</td>\n",
       "      <td>NaN</td>\n",
       "      <td>1996.000000</td>\n",
       "      <td>682.00000</td>\n",
       "      <td>4.000000</td>\n",
       "      <td>8.882600e+08</td>\n",
       "    </tr>\n",
       "    <tr>\n",
       "      <th>max</th>\n",
       "      <td>1682.000000</td>\n",
       "      <td>583.000000</td>\n",
       "      <td>1998-10-23 00:00:00</td>\n",
       "      <td>NaN</td>\n",
       "      <td>1998.000000</td>\n",
       "      <td>943.00000</td>\n",
       "      <td>5.000000</td>\n",
       "      <td>8.932866e+08</td>\n",
       "    </tr>\n",
       "    <tr>\n",
       "      <th>std</th>\n",
       "      <td>330.798356</td>\n",
       "      <td>121.784558</td>\n",
       "      <td>NaN</td>\n",
       "      <td>NaN</td>\n",
       "      <td>14.155523</td>\n",
       "      <td>266.61442</td>\n",
       "      <td>1.125674</td>\n",
       "      <td>5.343856e+06</td>\n",
       "    </tr>\n",
       "  </tbody>\n",
       "</table>\n",
       "</div>"
      ],
      "text/plain": [
       "             item_id     popularity                   release_date  \\\n",
       "count  100000.000000  100000.000000                          99991   \n",
       "mean      425.530130     168.071900  1988-02-09 00:43:11.369223296   \n",
       "min         1.000000       1.000000            1922-01-01 00:00:00   \n",
       "25%       175.000000      71.000000            1986-01-01 00:00:00   \n",
       "50%       322.000000     145.000000            1994-01-01 00:00:00   \n",
       "75%       631.000000     239.000000            1996-09-28 00:00:00   \n",
       "max      1682.000000     583.000000            1998-10-23 00:00:00   \n",
       "std       330.798356     121.784558                            NaN   \n",
       "\n",
       "       video_release_date  release_year       user_id         rating  \\\n",
       "count                 0.0  99991.000000  100000.00000  100000.000000   \n",
       "mean                  NaN   1987.956216     462.48475       3.529860   \n",
       "min                   NaN   1922.000000       1.00000       1.000000   \n",
       "25%                   NaN   1986.000000     254.00000       3.000000   \n",
       "50%                   NaN   1994.000000     447.00000       4.000000   \n",
       "75%                   NaN   1996.000000     682.00000       4.000000   \n",
       "max                   NaN   1998.000000     943.00000       5.000000   \n",
       "std                   NaN     14.155523     266.61442       1.125674   \n",
       "\n",
       "          timestamp  \n",
       "count  1.000000e+05  \n",
       "mean   8.835289e+08  \n",
       "min    8.747247e+08  \n",
       "25%    8.794487e+08  \n",
       "50%    8.828269e+08  \n",
       "75%    8.882600e+08  \n",
       "max    8.932866e+08  \n",
       "std    5.343856e+06  "
      ]
     },
     "execution_count": 12,
     "metadata": {},
     "output_type": "execute_result"
    }
   ],
   "source": [
    "all_ratings = pd.merge(popularity, all_ratings)\n",
    "all_ratings.describe()"
   ]
  },
  {
   "cell_type": "code",
   "execution_count": 13,
   "metadata": {
    "collapsed": false
   },
   "outputs": [],
   "source": [
    "indexed_items = items.set_index('item_id')"
   ]
  },
  {
   "cell_type": "code",
   "execution_count": 14,
   "metadata": {},
   "outputs": [
    {
     "data": {
      "text/html": [
       "<div>\n",
       "<style scoped>\n",
       "    .dataframe tbody tr th:only-of-type {\n",
       "        vertical-align: middle;\n",
       "    }\n",
       "\n",
       "    .dataframe tbody tr th {\n",
       "        vertical-align: top;\n",
       "    }\n",
       "\n",
       "    .dataframe thead th {\n",
       "        text-align: right;\n",
       "    }\n",
       "</style>\n",
       "<table border=\"1\" class=\"dataframe\">\n",
       "  <thead>\n",
       "    <tr style=\"text-align: right;\">\n",
       "      <th></th>\n",
       "      <th>item_id</th>\n",
       "      <th>popularity</th>\n",
       "      <th>title</th>\n",
       "      <th>release_date</th>\n",
       "      <th>video_release_date</th>\n",
       "      <th>imdb_url</th>\n",
       "      <th>release_year</th>\n",
       "      <th>user_id</th>\n",
       "      <th>rating</th>\n",
       "      <th>timestamp</th>\n",
       "    </tr>\n",
       "  </thead>\n",
       "  <tbody>\n",
       "    <tr>\n",
       "      <th>0</th>\n",
       "      <td>1</td>\n",
       "      <td>452</td>\n",
       "      <td>Toy Story (1995)</td>\n",
       "      <td>1995-01-01</td>\n",
       "      <td>NaN</td>\n",
       "      <td>http://us.imdb.com/M/title-exact?Toy%20Story%2...</td>\n",
       "      <td>1995.0</td>\n",
       "      <td>308</td>\n",
       "      <td>4</td>\n",
       "      <td>887736532</td>\n",
       "    </tr>\n",
       "    <tr>\n",
       "      <th>1</th>\n",
       "      <td>1</td>\n",
       "      <td>452</td>\n",
       "      <td>Toy Story (1995)</td>\n",
       "      <td>1995-01-01</td>\n",
       "      <td>NaN</td>\n",
       "      <td>http://us.imdb.com/M/title-exact?Toy%20Story%2...</td>\n",
       "      <td>1995.0</td>\n",
       "      <td>287</td>\n",
       "      <td>5</td>\n",
       "      <td>875334088</td>\n",
       "    </tr>\n",
       "    <tr>\n",
       "      <th>2</th>\n",
       "      <td>1</td>\n",
       "      <td>452</td>\n",
       "      <td>Toy Story (1995)</td>\n",
       "      <td>1995-01-01</td>\n",
       "      <td>NaN</td>\n",
       "      <td>http://us.imdb.com/M/title-exact?Toy%20Story%2...</td>\n",
       "      <td>1995.0</td>\n",
       "      <td>148</td>\n",
       "      <td>4</td>\n",
       "      <td>877019411</td>\n",
       "    </tr>\n",
       "    <tr>\n",
       "      <th>3</th>\n",
       "      <td>1</td>\n",
       "      <td>452</td>\n",
       "      <td>Toy Story (1995)</td>\n",
       "      <td>1995-01-01</td>\n",
       "      <td>NaN</td>\n",
       "      <td>http://us.imdb.com/M/title-exact?Toy%20Story%2...</td>\n",
       "      <td>1995.0</td>\n",
       "      <td>280</td>\n",
       "      <td>4</td>\n",
       "      <td>891700426</td>\n",
       "    </tr>\n",
       "    <tr>\n",
       "      <th>4</th>\n",
       "      <td>1</td>\n",
       "      <td>452</td>\n",
       "      <td>Toy Story (1995)</td>\n",
       "      <td>1995-01-01</td>\n",
       "      <td>NaN</td>\n",
       "      <td>http://us.imdb.com/M/title-exact?Toy%20Story%2...</td>\n",
       "      <td>1995.0</td>\n",
       "      <td>66</td>\n",
       "      <td>3</td>\n",
       "      <td>883601324</td>\n",
       "    </tr>\n",
       "  </tbody>\n",
       "</table>\n",
       "</div>"
      ],
      "text/plain": [
       "   item_id  popularity             title release_date  video_release_date  \\\n",
       "0        1         452  Toy Story (1995)   1995-01-01                 NaN   \n",
       "1        1         452  Toy Story (1995)   1995-01-01                 NaN   \n",
       "2        1         452  Toy Story (1995)   1995-01-01                 NaN   \n",
       "3        1         452  Toy Story (1995)   1995-01-01                 NaN   \n",
       "4        1         452  Toy Story (1995)   1995-01-01                 NaN   \n",
       "\n",
       "                                            imdb_url  release_year  user_id  \\\n",
       "0  http://us.imdb.com/M/title-exact?Toy%20Story%2...        1995.0      308   \n",
       "1  http://us.imdb.com/M/title-exact?Toy%20Story%2...        1995.0      287   \n",
       "2  http://us.imdb.com/M/title-exact?Toy%20Story%2...        1995.0      148   \n",
       "3  http://us.imdb.com/M/title-exact?Toy%20Story%2...        1995.0      280   \n",
       "4  http://us.imdb.com/M/title-exact?Toy%20Story%2...        1995.0       66   \n",
       "\n",
       "   rating  timestamp  \n",
       "0       4  887736532  \n",
       "1       5  875334088  \n",
       "2       4  877019411  \n",
       "3       4  891700426  \n",
       "4       3  883601324  "
      ]
     },
     "execution_count": 14,
     "metadata": {},
     "output_type": "execute_result"
    }
   ],
   "source": [
    "all_ratings.head()"
   ]
  },
  {
   "cell_type": "markdown",
   "metadata": {
    "collapsed": false
   },
   "source": [
    "**Quick Exercise**:\n",
    "\n",
    "As we have seen, the `groupby` method is a powerful tool to quickly compute statistics on the data. Use it to compute the average rating for each movie.\n",
    "\n",
    "**Hint**: you can use the `mean` method after the `groupby` method."
   ]
  },
  {
   "cell_type": "code",
   "execution_count": 15,
   "metadata": {
    "collapsed": false
   },
   "outputs": [
    {
     "name": "stdout",
     "output_type": "stream",
     "text": [
      "      item_id    rating                                      title\n",
      "0           1  3.878319                           Toy Story (1995)\n",
      "1           2  3.206107                           GoldenEye (1995)\n",
      "2           3  3.033333                          Four Rooms (1995)\n",
      "3           4  3.550239                          Get Shorty (1995)\n",
      "4           5  3.302326                             Copycat (1995)\n",
      "...       ...       ...                                        ...\n",
      "1677     1678  1.000000                          Mat' i syn (1997)\n",
      "1678     1679  3.000000                           B. Monkey (1998)\n",
      "1679     1680  2.000000                       Sliding Doors (1998)\n",
      "1680     1681  3.000000                        You So Crazy (1994)\n",
      "1681     1682  3.000000  Scream of Stone (Schrei aus Stein) (1991)\n",
      "\n",
      "[1682 rows x 3 columns]\n"
     ]
    }
   ],
   "source": [
    "# Your code here\n",
    "print(pd.merge(all_ratings.groupby('item_id')['rating'].mean(), all_ratings[['title', 'item_id']].drop_duplicates(), on='item_id'))"
   ]
  },
  {
   "cell_type": "markdown",
   "metadata": {},
   "source": [
    "Let's split the enriched data in a train / test split to make it possible to do predictive modeling:"
   ]
  },
  {
   "cell_type": "code",
   "execution_count": 16,
   "metadata": {},
   "outputs": [],
   "source": [
    "from sklearn.model_selection import train_test_split\n",
    "\n",
    "ratings_train, ratings_test = train_test_split(\n",
    "    all_ratings, test_size=0.2, random_state=0)\n",
    "\n",
    "user_id_train = np.array(ratings_train['user_id'])\n",
    "item_id_train = np.array(ratings_train['item_id'])\n",
    "rating_train = np.array(ratings_train['rating'])\n",
    "\n",
    "user_id_test = np.array(ratings_test['user_id'])\n",
    "item_id_test = np.array(ratings_test['item_id'])\n",
    "rating_test = np.array(ratings_test['rating'])"
   ]
  },
  {
   "cell_type": "markdown",
   "metadata": {},
   "source": [
    "# Explicit feedback: supervised ratings prediction\n",
    "\n",
    "Now let's begin to do some recommendation! We will build a model that takes a user and a movie as input and outputs a predicted rating. We will be taking advantage of embeddings to represent users and movies. That means that each movie and user will have an abstract representation in a continuous vector space. The model will learn these representations based on the ratings."
   ]
  },
  {
   "cell_type": "markdown",
   "metadata": {},
   "source": [
    "## Predictive ratings  as a regression problem\n",
    "\n",
    "The following code implements the following architecture:\n",
    "\n",
    "<img src=\"https://raw.githubusercontent.com/UofT-DSI/deep_learning/main/notebooks/images/rec_archi_1.svg\" style=\"width: 600px;\" />"
   ]
  },
  {
   "cell_type": "code",
   "execution_count": 17,
   "metadata": {},
   "outputs": [
    {
     "name": "stderr",
     "output_type": "stream",
     "text": [
      "2024-08-04 01:17:23.175386: I tensorflow/core/platform/cpu_feature_guard.cc:182] This TensorFlow binary is optimized to use available CPU instructions in performance-critical operations.\n",
      "To enable the following instructions: SSE4.1 SSE4.2 AVX AVX2 FMA, in other operations, rebuild TensorFlow with the appropriate compiler flags.\n"
     ]
    }
   ],
   "source": [
    "from tensorflow.keras.layers import Embedding, Flatten, Dense, Dropout\n",
    "from tensorflow.keras.layers import Dot\n",
    "from tensorflow.keras.models import Model"
   ]
  },
  {
   "cell_type": "code",
   "execution_count": 18,
   "metadata": {},
   "outputs": [],
   "source": [
    "# For each sample we input the integer identifiers\n",
    "# of a single user and a single item\n",
    "class RegressionModel(Model):\n",
    "    def __init__(self, embedding_size, max_user_id, max_item_id):\n",
    "        super().__init__()\n",
    "        \n",
    "        self.user_embedding = Embedding(output_dim=embedding_size,\n",
    "                                        input_dim=max_user_id + 1,\n",
    "                                        input_length=1,\n",
    "                                        name='user_embedding')\n",
    "        self.item_embedding = Embedding(output_dim=embedding_size,\n",
    "                                        input_dim=max_item_id + 1,\n",
    "                                        input_length=1,\n",
    "                                        name='item_embedding')\n",
    "        \n",
    "        # The following two layers don't have parameters.\n",
    "        self.flatten = Flatten()\n",
    "        self.dot = Dot(axes=1)\n",
    "        \n",
    "    def call(self, inputs):\n",
    "        user_inputs = inputs[0]\n",
    "        item_inputs = inputs[1]\n",
    "        \n",
    "        user_vecs = self.flatten(self.user_embedding(user_inputs))\n",
    "        item_vecs = self.flatten(self.item_embedding(item_inputs))\n",
    "        \n",
    "        y = self.dot([user_vecs, item_vecs])\n",
    "        return y\n",
    "\n",
    "\n",
    "model = RegressionModel(embedding_size=64, max_user_id=all_ratings['user_id'].max(), max_item_id=all_ratings['item_id'].max())\n",
    "model.compile(optimizer=\"adam\", loss='mae')"
   ]
  },
  {
   "cell_type": "markdown",
   "metadata": {},
   "source": [
    "### Monitoring runs\n",
    "\n",
    "When training a model with Keras, we get a `history` object back that contains lots of information about the training run. We can use this to plot the training and validation loss to see how the model has improved during training."
   ]
  },
  {
   "cell_type": "code",
   "execution_count": 19,
   "metadata": {},
   "outputs": [
    {
     "name": "stdout",
     "output_type": "stream",
     "text": [
      "Epoch 1/10\n",
      "1125/1125 [==============================] - 3s 2ms/step - loss: 2.6153 - val_loss: 1.0435\n",
      "Epoch 2/10\n",
      "1125/1125 [==============================] - 2s 2ms/step - loss: 0.8491 - val_loss: 0.7968\n",
      "Epoch 3/10\n",
      "1125/1125 [==============================] - 2s 2ms/step - loss: 0.7556 - val_loss: 0.7679\n",
      "Epoch 4/10\n",
      "1125/1125 [==============================] - 2s 2ms/step - loss: 0.7298 - val_loss: 0.7616\n",
      "Epoch 5/10\n",
      "1125/1125 [==============================] - 2s 2ms/step - loss: 0.7085 - val_loss: 0.7512\n",
      "Epoch 6/10\n",
      "1125/1125 [==============================] - 2s 2ms/step - loss: 0.6865 - val_loss: 0.7455\n",
      "Epoch 7/10\n",
      "1125/1125 [==============================] - 2s 2ms/step - loss: 0.6644 - val_loss: 0.7390\n",
      "Epoch 8/10\n",
      "1125/1125 [==============================] - 2s 2ms/step - loss: 0.6430 - val_loss: 0.7405\n",
      "Epoch 9/10\n",
      "1125/1125 [==============================] - 2s 2ms/step - loss: 0.6196 - val_loss: 0.7397\n",
      "Epoch 10/10\n",
      "1125/1125 [==============================] - 2s 2ms/step - loss: 0.5960 - val_loss: 0.7413\n",
      "CPU times: user 45.3 s, sys: 7.88 s, total: 53.2 s\n",
      "Wall time: 19.9 s\n"
     ]
    }
   ],
   "source": [
    "%%time\n",
    "\n",
    "# Training the model\n",
    "history = model.fit([user_id_train, item_id_train], rating_train,\n",
    "                    batch_size=64, epochs=10, validation_split=0.1,\n",
    "                    shuffle=True)"
   ]
  },
  {
   "cell_type": "code",
   "execution_count": 20,
   "metadata": {},
   "outputs": [
    {
     "data": {
      "text/plain": [
       "Text(0.5, 1.0, 'Loss')"
      ]
     },
     "execution_count": 20,
     "metadata": {},
     "output_type": "execute_result"
    },
    {
     "data": {
      "image/png": "[encoded data removed]",
      "text/plain": [
       "<Figure size 640x480 with 1 Axes>"
      ]
     },
     "metadata": {},
     "output_type": "display_data"
    }
   ],
   "source": [
    "plt.plot(history.history['loss'], label='train')\n",
    "plt.plot(history.history['val_loss'], label='validation')\n",
    "plt.ylim(0, 2)\n",
    "plt.legend(loc='best')\n",
    "plt.title('Loss')"
   ]
  },
  {
   "cell_type": "markdown",
   "metadata": {},
   "source": [
    "**Questions**:\n",
    "\n",
    "- Does it look like our model has overfit? Why or why not?\n",
    "- Suggest something we could do to prevent overfitting.\n",
    "\n",
    "\n",
    "Now that the model is trained, let's check out the quality of predictions:"
   ]
  },
  {
   "cell_type": "code",
   "execution_count": 21,
   "metadata": {},
   "outputs": [],
   "source": [
    "def plot_predictions(y_true, y_pred):\n",
    "    plt.figure(figsize=(4, 4))\n",
    "    plt.xlim(-1, 6)\n",
    "    plt.xlabel(\"True rating\")\n",
    "    plt.ylim(-1, 6)\n",
    "    plt.ylabel(\"Predicted rating\")\n",
    "    plt.scatter(y_true, y_pred, s=60, alpha=0.01)"
   ]
  },
  {
   "cell_type": "code",
   "execution_count": 22,
   "metadata": {},
   "outputs": [
    {
     "name": "stdout",
     "output_type": "stream",
     "text": [
      "625/625 [==============================] - 1s 824us/step\n",
      "Final test MSE: 0.910\n",
      "Final test MAE: 0.736\n"
     ]
    },
    {
     "data": {
      "image/png": "[encoded data removed]",
      "text/plain": [
       "<Figure size 400x400 with 1 Axes>"
      ]
     },
     "metadata": {},
     "output_type": "display_data"
    }
   ],
   "source": [
    "from sklearn.metrics import mean_squared_error\n",
    "from sklearn.metrics import mean_absolute_error\n",
    "\n",
    "test_preds = model.predict([user_id_test, item_id_test])\n",
    "print(\"Final test MSE: %0.3f\" % mean_squared_error(test_preds, rating_test))\n",
    "print(\"Final test MAE: %0.3f\" % mean_absolute_error(test_preds, rating_test))\n",
    "plot_predictions(rating_test, test_preds)"
   ]
  },
  {
   "cell_type": "markdown",
   "metadata": {
    "collapsed": false
   },
   "source": [
    "This graph shows us the range of predicted ratings our model gives, organized by the true rating. We can see that generally, the higher the true rating the higher the predicted rating, although there is quite a range of predictions for each instance. That's okay - our model is very simple, and human preferences are very complex!\n",
    "\n",
    "Taking a look at the Mean Absolute Error, hopefully you got something around 0.75. This means that, on average, our predicted ratings are about 0.75 stars off from the true ratings. This is a pretty good result for a first attempt. We could probably do better with a more complex model, but we'll leave that for another time."
   ]
  },
  {
   "cell_type": "markdown",
   "metadata": {},
   "source": [
    "### Model Embeddings\n",
    "\n",
    "Our model was built with two embedding layers. These layers have learned a representation of both the users and the movies in our dataset. We can extract these representations and use them to find similar movies or users. We can also do interesting exploratory analysis, like finding the most popular movies among our users, or finding the users that are most interested in a given movie."
   ]
  },
  {
   "cell_type": "code",
   "execution_count": 23,
   "metadata": {},
   "outputs": [
    {
     "data": {
      "text/plain": [
       "[(944, 64), (1683, 64)]"
      ]
     },
     "execution_count": 23,
     "metadata": {},
     "output_type": "execute_result"
    }
   ],
   "source": [
    "# weights and shape\n",
    "weights = model.get_weights()\n",
    "[w.shape for w in weights]"
   ]
  },
  {
   "cell_type": "code",
   "execution_count": 24,
   "metadata": {},
   "outputs": [],
   "source": [
    "user_embeddings = weights[0]\n",
    "item_embeddings = weights[1]"
   ]
  },
  {
   "cell_type": "code",
   "execution_count": 25,
   "metadata": {},
   "outputs": [
    {
     "name": "stdout",
     "output_type": "stream",
     "text": [
      "Title for item_id=181: Return of the Jedi (1983)\n"
     ]
    }
   ],
   "source": [
    "item_id = 181\n",
    "print(f\"Title for item_id={item_id}: {indexed_items['title'][item_id]}\")"
   ]
  },
  {
   "cell_type": "code",
   "execution_count": 26,
   "metadata": {},
   "outputs": [
    {
     "name": "stdout",
     "output_type": "stream",
     "text": [
      "Embedding vector for item_id=181\n",
      "[-0.33786237 -0.34626272  0.5906087   0.36236352 -0.2358938  -0.33976978\n",
      " -0.19154425  0.53178257 -0.37188745  0.07730927  0.1000499  -0.3034895\n",
      "  0.36475888 -0.40384814 -0.45590508  0.13230076 -0.02065749  0.40791625\n",
      "  0.14117998 -0.48909396  0.22390847 -0.12524699  0.53797483 -0.1314831\n",
      " -0.40240133 -0.21545836  0.04768494 -0.48560256  0.49039474 -0.05088601\n",
      "  0.10256909  0.36923006  0.28536665  0.43147936 -0.34103033  0.24362826\n",
      "  0.33275366 -0.08542338 -0.36765867 -0.33613884 -0.35517675  0.4616333\n",
      " -0.15318616  0.54797596  0.20016995 -0.26259392 -0.24542755 -0.03327937\n",
      " -0.12526098 -0.37669542 -0.20059712 -0.3690597   0.43569046  0.24517688\n",
      "  0.36143962 -0.5825159   0.17663282  0.118589   -0.12281118 -0.18014942\n",
      " -0.23322695  0.4048483  -0.13349888 -0.2544536 ]\n",
      "shape: (64,)\n"
     ]
    }
   ],
   "source": [
    "print(f\"Embedding vector for item_id={item_id}\")\n",
    "print(item_embeddings[item_id])\n",
    "print(\"shape:\", item_embeddings[item_id].shape)"
   ]
  },
  {
   "cell_type": "markdown",
   "metadata": {
    "collapsed": false
   },
   "source": [
    "As we discussed in lecture, our embeddings are not directly interpretable - we can't look at, say, a value of 0.297 in the embedding vector and say \"this means that the movie is a drama\". As an aside, there is a field of research dedicated to making _interpretable_ embeddings, but it's not something we'll cover in this course. "
   ]
  },
  {
   "cell_type": "markdown",
   "metadata": {},
   "source": [
    "### Finding our most similar items\n",
    "\n",
    "Now we can have some fun, investigating the embeddings we've learned. We can start by finding the most similar items to a given item. We can do this by computing the cosine similarity between the item's embedding and the embedding of every other item. We can use the `cosine_similarity` function from `sklearn` to do this."
   ]
  },
  {
   "cell_type": "code",
   "execution_count": 27,
   "metadata": {
    "collapsed": false
   },
   "outputs": [],
   "source": [
    "from sklearn.metrics.pairwise import cosine_similarity\n",
    "\n",
    "def cosine(a, b):\n",
    "    # Reshape to the shape our function expects\n",
    "    a = a.reshape(1, -1)\n",
    "    b = b.reshape(1, -1)\n",
    "    return cosine_similarity(a, b)[0, 0]"
   ]
  },
  {
   "cell_type": "code",
   "execution_count": 28,
   "metadata": {},
   "outputs": [
    {
     "name": "stdout",
     "output_type": "stream",
     "text": [
      "Star Wars (1977)\n",
      "Return of the Jedi (1983)\n",
      "Cosine similarity: 0.904\n"
     ]
    }
   ],
   "source": [
    "def print_similarity(item_a, item_b, item_embeddings, titles):\n",
    "    print(titles[item_a])\n",
    "    print(titles[item_b])\n",
    "    similarity = cosine(item_embeddings[item_a],\n",
    "                        item_embeddings[item_b])\n",
    "    print(f\"Cosine similarity: {similarity:.3}\")\n",
    "    \n",
    "print_similarity(50, 181, item_embeddings, indexed_items[\"title\"])"
   ]
  },
  {
   "cell_type": "markdown",
   "metadata": {
    "collapsed": false
   },
   "source": [
    "It makes sense that the original Star Wars, and its later sequel Return of the Jedi have a high similarity. Let's try some other examples:"
   ]
  },
  {
   "cell_type": "code",
   "execution_count": 29,
   "metadata": {},
   "outputs": [
    {
     "name": "stdout",
     "output_type": "stream",
     "text": [
      "Return of the Jedi (1983)\n",
      "Scream (1996)\n",
      "Cosine similarity: 0.773\n"
     ]
    }
   ],
   "source": [
    "print_similarity(181, 288, item_embeddings, indexed_items[\"title\"])"
   ]
  },
  {
   "cell_type": "code",
   "execution_count": 30,
   "metadata": {},
   "outputs": [
    {
     "name": "stdout",
     "output_type": "stream",
     "text": [
      "Return of the Jedi (1983)\n",
      "Toy Story (1995)\n",
      "Cosine similarity: 0.825\n"
     ]
    }
   ],
   "source": [
    "print_similarity(181, 1, item_embeddings, indexed_items[\"title\"])"
   ]
  },
  {
   "cell_type": "code",
   "execution_count": 31,
   "metadata": {},
   "outputs": [
    {
     "name": "stdout",
     "output_type": "stream",
     "text": [
      "Return of the Jedi (1983)\n",
      "Return of the Jedi (1983)\n",
      "Cosine similarity: 1.0\n"
     ]
    }
   ],
   "source": [
    "print_similarity(181, 181, item_embeddings, indexed_items[\"title\"])"
   ]
  },
  {
   "cell_type": "markdown",
   "metadata": {
    "collapsed": false
   },
   "source": [
    "*Quick Exercise*:\n",
    "\n",
    "- Find some other films and compare their similarity. Do the results make sense to you? Can you find a pair of films that are very _dissimilar_?"
   ]
  },
  {
   "cell_type": "code",
   "execution_count": 32,
   "metadata": {
    "collapsed": false
   },
   "outputs": [
    {
     "data": {
      "text/html": [
       "<div>\n",
       "<style scoped>\n",
       "    .dataframe tbody tr th:only-of-type {\n",
       "        vertical-align: middle;\n",
       "    }\n",
       "\n",
       "    .dataframe tbody tr th {\n",
       "        vertical-align: top;\n",
       "    }\n",
       "\n",
       "    .dataframe thead th {\n",
       "        text-align: right;\n",
       "    }\n",
       "</style>\n",
       "<table border=\"1\" class=\"dataframe\">\n",
       "  <thead>\n",
       "    <tr style=\"text-align: right;\">\n",
       "      <th></th>\n",
       "      <th>popularity</th>\n",
       "      <th>title</th>\n",
       "      <th>release_date</th>\n",
       "      <th>video_release_date</th>\n",
       "      <th>imdb_url</th>\n",
       "      <th>release_year</th>\n",
       "    </tr>\n",
       "    <tr>\n",
       "      <th>item_id</th>\n",
       "      <th></th>\n",
       "      <th></th>\n",
       "      <th></th>\n",
       "      <th></th>\n",
       "      <th></th>\n",
       "      <th></th>\n",
       "    </tr>\n",
       "  </thead>\n",
       "  <tbody>\n",
       "    <tr>\n",
       "      <th>50</th>\n",
       "      <td>583</td>\n",
       "      <td>Star Wars (1977)</td>\n",
       "      <td>1977-01-01</td>\n",
       "      <td>NaN</td>\n",
       "      <td>http://us.imdb.com/M/title-exact?Star%20Wars%2...</td>\n",
       "      <td>1977.0</td>\n",
       "    </tr>\n",
       "    <tr>\n",
       "      <th>62</th>\n",
       "      <td>127</td>\n",
       "      <td>Stargate (1994)</td>\n",
       "      <td>1994-01-01</td>\n",
       "      <td>NaN</td>\n",
       "      <td>http://us.imdb.com/M/title-exact?Stargate%20(1...</td>\n",
       "      <td>1994.0</td>\n",
       "    </tr>\n",
       "    <tr>\n",
       "      <th>124</th>\n",
       "      <td>187</td>\n",
       "      <td>Lone Star (1996)</td>\n",
       "      <td>1996-06-21</td>\n",
       "      <td>NaN</td>\n",
       "      <td>http://us.imdb.com/M/title-exact?Lone%20Star%2...</td>\n",
       "      <td>1996.0</td>\n",
       "    </tr>\n",
       "    <tr>\n",
       "      <th>146</th>\n",
       "      <td>10</td>\n",
       "      <td>Unhook the Stars (1996)</td>\n",
       "      <td>1996-10-30</td>\n",
       "      <td>NaN</td>\n",
       "      <td>http://us.imdb.com/M/title-exact?Unhook%20the%...</td>\n",
       "      <td>1996.0</td>\n",
       "    </tr>\n",
       "    <tr>\n",
       "      <th>222</th>\n",
       "      <td>365</td>\n",
       "      <td>Star Trek: First Contact (1996)</td>\n",
       "      <td>1996-11-22</td>\n",
       "      <td>NaN</td>\n",
       "      <td>http://us.imdb.com/M/title-exact?Star%20Trek:%...</td>\n",
       "      <td>1996.0</td>\n",
       "    </tr>\n",
       "    <tr>\n",
       "      <th>227</th>\n",
       "      <td>161</td>\n",
       "      <td>Star Trek VI: The Undiscovered Country (1991)</td>\n",
       "      <td>1991-01-01</td>\n",
       "      <td>NaN</td>\n",
       "      <td>http://us.imdb.com/M/title-exact?Star%20Trek%2...</td>\n",
       "      <td>1991.0</td>\n",
       "    </tr>\n",
       "    <tr>\n",
       "      <th>228</th>\n",
       "      <td>244</td>\n",
       "      <td>Star Trek: The Wrath of Khan (1982)</td>\n",
       "      <td>1982-01-01</td>\n",
       "      <td>NaN</td>\n",
       "      <td>http://us.imdb.com/M/title-exact?Star%20Trek:%...</td>\n",
       "      <td>1982.0</td>\n",
       "    </tr>\n",
       "    <tr>\n",
       "      <th>229</th>\n",
       "      <td>171</td>\n",
       "      <td>Star Trek III: The Search for Spock (1984)</td>\n",
       "      <td>1984-01-01</td>\n",
       "      <td>NaN</td>\n",
       "      <td>http://us.imdb.com/M/title-exact?Star%20Trek%2...</td>\n",
       "      <td>1984.0</td>\n",
       "    </tr>\n",
       "    <tr>\n",
       "      <th>230</th>\n",
       "      <td>199</td>\n",
       "      <td>Star Trek IV: The Voyage Home (1986)</td>\n",
       "      <td>1986-01-01</td>\n",
       "      <td>NaN</td>\n",
       "      <td>http://us.imdb.com/M/title-exact?Star%20Trek%2...</td>\n",
       "      <td>1986.0</td>\n",
       "    </tr>\n",
       "    <tr>\n",
       "      <th>271</th>\n",
       "      <td>211</td>\n",
       "      <td>Starship Troopers (1997)</td>\n",
       "      <td>1997-01-01</td>\n",
       "      <td>NaN</td>\n",
       "      <td>http://us.imdb.com/M/title-exact?Starship+Troo...</td>\n",
       "      <td>1997.0</td>\n",
       "    </tr>\n",
       "    <tr>\n",
       "      <th>380</th>\n",
       "      <td>116</td>\n",
       "      <td>Star Trek: Generations (1994)</td>\n",
       "      <td>1994-01-01</td>\n",
       "      <td>NaN</td>\n",
       "      <td>http://us.imdb.com/M/title-exact?Star%20Trek:%...</td>\n",
       "      <td>1994.0</td>\n",
       "    </tr>\n",
       "    <tr>\n",
       "      <th>449</th>\n",
       "      <td>117</td>\n",
       "      <td>Star Trek: The Motion Picture (1979)</td>\n",
       "      <td>1979-01-01</td>\n",
       "      <td>NaN</td>\n",
       "      <td>http://us.imdb.com/M/title-exact?Star%20Trek:%...</td>\n",
       "      <td>1979.0</td>\n",
       "    </tr>\n",
       "    <tr>\n",
       "      <th>450</th>\n",
       "      <td>63</td>\n",
       "      <td>Star Trek V: The Final Frontier (1989)</td>\n",
       "      <td>1989-01-01</td>\n",
       "      <td>NaN</td>\n",
       "      <td>http://us.imdb.com/M/title-exact?Star%20Trek%2...</td>\n",
       "      <td>1989.0</td>\n",
       "    </tr>\n",
       "    <tr>\n",
       "      <th>1061</th>\n",
       "      <td>29</td>\n",
       "      <td>Evening Star, The (1996)</td>\n",
       "      <td>1996-12-25</td>\n",
       "      <td>NaN</td>\n",
       "      <td>http://us.imdb.com/M/title-exact?Evening%20Sta...</td>\n",
       "      <td>1996.0</td>\n",
       "    </tr>\n",
       "    <tr>\n",
       "      <th>1068</th>\n",
       "      <td>12</td>\n",
       "      <td>Star Maker, The (Uomo delle stelle, L') (1995)</td>\n",
       "      <td>1996-03-01</td>\n",
       "      <td>NaN</td>\n",
       "      <td>http://us.imdb.com/M/title-exact?Uomo%20delle%...</td>\n",
       "      <td>1996.0</td>\n",
       "    </tr>\n",
       "    <tr>\n",
       "      <th>1265</th>\n",
       "      <td>19</td>\n",
       "      <td>Star Maps (1997)</td>\n",
       "      <td>1997-01-01</td>\n",
       "      <td>NaN</td>\n",
       "      <td>http://us.imdb.com/M/title-exact?Star+Maps+(1997)</td>\n",
       "      <td>1997.0</td>\n",
       "    </tr>\n",
       "    <tr>\n",
       "      <th>1293</th>\n",
       "      <td>3</td>\n",
       "      <td>Star Kid (1997)</td>\n",
       "      <td>1998-01-16</td>\n",
       "      <td>NaN</td>\n",
       "      <td>http://us.imdb.com/M/title-exact?imdb-title-12...</td>\n",
       "      <td>1998.0</td>\n",
       "    </tr>\n",
       "    <tr>\n",
       "      <th>1464</th>\n",
       "      <td>3</td>\n",
       "      <td>Stars Fell on Henrietta, The (1995)</td>\n",
       "      <td>1995-01-01</td>\n",
       "      <td>NaN</td>\n",
       "      <td>http://us.imdb.com/Title?Stars+Fell+on+Henriet...</td>\n",
       "      <td>1995.0</td>\n",
       "    </tr>\n",
       "    <tr>\n",
       "      <th>1545</th>\n",
       "      <td>4</td>\n",
       "      <td>Frankie Starlight (1995)</td>\n",
       "      <td>1995-01-01</td>\n",
       "      <td>NaN</td>\n",
       "      <td>http://us.imdb.com/M/title-exact?Frankie%20Sta...</td>\n",
       "      <td>1995.0</td>\n",
       "    </tr>\n",
       "  </tbody>\n",
       "</table>\n",
       "</div>"
      ],
      "text/plain": [
       "         popularity                                           title  \\\n",
       "item_id                                                               \n",
       "50              583                                Star Wars (1977)   \n",
       "62              127                                 Stargate (1994)   \n",
       "124             187                                Lone Star (1996)   \n",
       "146              10                         Unhook the Stars (1996)   \n",
       "222             365                 Star Trek: First Contact (1996)   \n",
       "227             161   Star Trek VI: The Undiscovered Country (1991)   \n",
       "228             244             Star Trek: The Wrath of Khan (1982)   \n",
       "229             171      Star Trek III: The Search for Spock (1984)   \n",
       "230             199            Star Trek IV: The Voyage Home (1986)   \n",
       "271             211                        Starship Troopers (1997)   \n",
       "380             116                   Star Trek: Generations (1994)   \n",
       "449             117            Star Trek: The Motion Picture (1979)   \n",
       "450              63          Star Trek V: The Final Frontier (1989)   \n",
       "1061             29                        Evening Star, The (1996)   \n",
       "1068             12  Star Maker, The (Uomo delle stelle, L') (1995)   \n",
       "1265             19                                Star Maps (1997)   \n",
       "1293              3                                 Star Kid (1997)   \n",
       "1464              3             Stars Fell on Henrietta, The (1995)   \n",
       "1545              4                        Frankie Starlight (1995)   \n",
       "\n",
       "        release_date  video_release_date  \\\n",
       "item_id                                    \n",
       "50        1977-01-01                 NaN   \n",
       "62        1994-01-01                 NaN   \n",
       "124       1996-06-21                 NaN   \n",
       "146       1996-10-30                 NaN   \n",
       "222       1996-11-22                 NaN   \n",
       "227       1991-01-01                 NaN   \n",
       "228       1982-01-01                 NaN   \n",
       "229       1984-01-01                 NaN   \n",
       "230       1986-01-01                 NaN   \n",
       "271       1997-01-01                 NaN   \n",
       "380       1994-01-01                 NaN   \n",
       "449       1979-01-01                 NaN   \n",
       "450       1989-01-01                 NaN   \n",
       "1061      1996-12-25                 NaN   \n",
       "1068      1996-03-01                 NaN   \n",
       "1265      1997-01-01                 NaN   \n",
       "1293      1998-01-16                 NaN   \n",
       "1464      1995-01-01                 NaN   \n",
       "1545      1995-01-01                 NaN   \n",
       "\n",
       "                                                  imdb_url  release_year  \n",
       "item_id                                                                   \n",
       "50       http://us.imdb.com/M/title-exact?Star%20Wars%2...        1977.0  \n",
       "62       http://us.imdb.com/M/title-exact?Stargate%20(1...        1994.0  \n",
       "124      http://us.imdb.com/M/title-exact?Lone%20Star%2...        1996.0  \n",
       "146      http://us.imdb.com/M/title-exact?Unhook%20the%...        1996.0  \n",
       "222      http://us.imdb.com/M/title-exact?Star%20Trek:%...        1996.0  \n",
       "227      http://us.imdb.com/M/title-exact?Star%20Trek%2...        1991.0  \n",
       "228      http://us.imdb.com/M/title-exact?Star%20Trek:%...        1982.0  \n",
       "229      http://us.imdb.com/M/title-exact?Star%20Trek%2...        1984.0  \n",
       "230      http://us.imdb.com/M/title-exact?Star%20Trek%2...        1986.0  \n",
       "271      http://us.imdb.com/M/title-exact?Starship+Troo...        1997.0  \n",
       "380      http://us.imdb.com/M/title-exact?Star%20Trek:%...        1994.0  \n",
       "449      http://us.imdb.com/M/title-exact?Star%20Trek:%...        1979.0  \n",
       "450      http://us.imdb.com/M/title-exact?Star%20Trek%2...        1989.0  \n",
       "1061     http://us.imdb.com/M/title-exact?Evening%20Sta...        1996.0  \n",
       "1068     http://us.imdb.com/M/title-exact?Uomo%20delle%...        1996.0  \n",
       "1265     http://us.imdb.com/M/title-exact?Star+Maps+(1997)        1997.0  \n",
       "1293     http://us.imdb.com/M/title-exact?imdb-title-12...        1998.0  \n",
       "1464     http://us.imdb.com/Title?Stars+Fell+on+Henriet...        1995.0  \n",
       "1545     http://us.imdb.com/M/title-exact?Frankie%20Sta...        1995.0  "
      ]
     },
     "execution_count": 32,
     "metadata": {},
     "output_type": "execute_result"
    }
   ],
   "source": [
    "# Code to help you search for a movie title\n",
    "partial_title = \"Jedi\"\n",
    "indexed_items[indexed_items['title'].str.contains(partial_title)]\n",
    "\n",
    "# Your code here\n",
    "partial_title = \"Star\"\n",
    "indexed_items[indexed_items['title'].str.contains(partial_title)]"
   ]
  },
  {
   "cell_type": "markdown",
   "metadata": {
    "collapsed": false
   },
   "source": [
    "Sometimes, even without knowing anything about a user, we can recommend films by asking them about a film that they do like. The code below compares the similarity of a given film to all others, and returns the most similar films."
   ]
  },
  {
   "cell_type": "code",
   "execution_count": 33,
   "metadata": {},
   "outputs": [
    {
     "data": {
      "text/plain": [
       "[(50, 'Star Wars (1977)', 0.99999994),\n",
       " (172, 'Empire Strikes Back, The (1980)', 0.919833),\n",
       " (181, 'Return of the Jedi (1983)', 0.9042472),\n",
       " (96, 'Terminator 2: Judgment Day (1991)', 0.89426696),\n",
       " (127, 'Godfather, The (1972)', 0.87828857),\n",
       " (293, 'Donnie Brasco (1997)', 0.87133443),\n",
       " (1482, 'Gate of Heavenly Peace, The (1995)', 0.866723),\n",
       " (318, \"Schindler's List (1993)\", 0.8624437),\n",
       " (1, 'Toy Story (1995)', 0.8588783),\n",
       " (732, 'Dave (1993)', 0.8581383)]"
      ]
     },
     "execution_count": 33,
     "metadata": {},
     "output_type": "execute_result"
    }
   ],
   "source": [
    "def most_similar(item_id, item_embeddings, titles,\n",
    "                 top_n=30):\n",
    "    # Compute the cosine similarity between the item and all other items\n",
    "    sims = cosine_similarity(item_embeddings[item_id].reshape(1, -1),\n",
    "                             item_embeddings).ravel()\n",
    "    \n",
    "    # [::-1] makes it possible to reverse the order of a numpy\n",
    "    # array, this is required because most similar items have\n",
    "    # a larger cosine similarity value\n",
    "    sorted_indexes = np.argsort(sims)[::-1]\n",
    "    idxs = sorted_indexes[0:top_n]\n",
    "    return list(zip(idxs, titles[idxs], sims[idxs]))\n",
    "\n",
    "# Find the most similar films to \"Star Wars\"\n",
    "most_similar(50, item_embeddings, indexed_items[\"title\"], top_n=10)"
   ]
  },
  {
   "cell_type": "code",
   "execution_count": 34,
   "metadata": {},
   "outputs": [
    {
     "data": {
      "text/plain": [
       "[(227, 'Star Trek VI: The Undiscovered Country (1991)', 1.0),\n",
       " (230, 'Star Trek IV: The Voyage Home (1986)', 0.90718627),\n",
       " (228, 'Star Trek: The Wrath of Khan (1982)', 0.89666307),\n",
       " (1225, 'Angus (1995)', 0.88845825),\n",
       " (2, 'GoldenEye (1995)', 0.8881593),\n",
       " (399, 'Three Musketeers, The (1993)', 0.8874772),\n",
       " (778, 'Don Juan DeMarco (1995)', 0.8790344),\n",
       " (172, 'Empire Strikes Back, The (1980)', 0.8763),\n",
       " (809, 'Rising Sun (1993)', 0.87151873),\n",
       " (1657, 'Target (1995)', 0.8713795)]"
      ]
     },
     "execution_count": 34,
     "metadata": {},
     "output_type": "execute_result"
    }
   ],
   "source": [
    "# Find the most similar films to \"Star Trek VI: The Undiscovered Country\"\n",
    "most_similar(227, item_embeddings, indexed_items[\"title\"], top_n=10)"
   ]
  },
  {
   "cell_type": "markdown",
   "metadata": {},
   "source": [
    "The similarities do not always make sense: the number of ratings is low and the embedding  does not automatically capture semantic relationships in that context. Better representations arise with higher number of ratings, and less overfitting  in models or maybe better loss function, such as those based on implicit feedback."
   ]
  },
  {
   "cell_type": "markdown",
   "metadata": {},
   "source": [
    "### Visualizing embeddings using TSNE\n",
    "\n",
    "The [t-SNE](https://en.wikipedia.org/wiki/T-distributed_stochastic_neighbor_embedding) algorithm enables us to visualize high dimensional vectors in a 2D space by preserving local neighborhoods. We can use it to get a 2D visualization of the item embeddings and see if similar items are close in the embedding space."
   ]
  },
  {
   "cell_type": "code",
   "execution_count": 35,
   "metadata": {},
   "outputs": [],
   "source": [
    "from sklearn.manifold import TSNE\n",
    "\n",
    "item_tsne = TSNE(learning_rate=\"auto\", init=\"pca\", perplexity=30).fit_transform(item_embeddings)"
   ]
  },
  {
   "cell_type": "code",
   "execution_count": 36,
   "metadata": {},
   "outputs": [
    {
     "data": {
      "image/png": "[encoded data removed]",
      "text/plain": [
       "<Figure size 1000x1000 with 1 Axes>"
      ]
     },
     "metadata": {},
     "output_type": "display_data"
    }
   ],
   "source": [
    "import matplotlib.pyplot as plt\n",
    "\n",
    "plt.figure(figsize=(10, 10))\n",
    "plt.scatter(item_tsne[:, 0], item_tsne[:, 1]);\n",
    "plt.xticks(()); plt.yticks(());\n",
    "plt.show()"
   ]
  },
  {
   "cell_type": "code",
   "execution_count": 37,
   "metadata": {
    "tags": []
   },
   "outputs": [
    {
     "data": {
      "application/vnd.plotly.v1+json": {
       "config": {
        "plotlyServerURL": "https://plot.ly"
       },
       "data": [
        {
         "customdata": [
          [
           1,
           "Toy Story (1995)",
           452
          ],
          [
           2,
           "GoldenEye (1995)",
           131
          ],
          [
           3,
           "Four Rooms (1995)",
           90
          ],
          [
           4,
           "Get Shorty (1995)",
           209
          ],
          [
           5,
           "Copycat (1995)",
           86
          ],
          [
           6,
           "Shanghai Triad (Yao a yao yao dao waipo qiao) (1995)",
           26
          ],
          [
           7,
           "Twelve Monkeys (1995)",
           392
          ],
          [
           8,
           "Babe (1995)",
           219
          ],
          [
           9,
           "Dead Man Walking (1995)",
           299
          ],
          [
           10,
           "Richard III (1995)",
           89
          ],
          [
           11,
           "Seven (Se7en) (1995)",
           236
          ],
          [
           12,
           "Usual Suspects, The (1995)",
           267
          ],
          [
           13,
           "Mighty Aphrodite (1995)",
           184
          ],
          [
           14,
           "Postino, Il (1994)",
           183
          ],
          [
           15,
           "Mr. Holland's Opus (1995)",
           293
          ],
          [
           16,
           "French Twist (Gazon maudit) (1995)",
           39
          ],
          [
           17,
           "From Dusk Till Dawn (1996)",
           92
          ],
          [
           18,
           "White Balloon, The (1995)",
           10
          ],
          [
           19,
           "Antonia's Line (1995)",
           69
          ],
          [
           20,
           "Angels and Insects (1995)",
           72
          ],
          [
           21,
           "Muppet Treasure Island (1996)",
           84
          ],
          [
           22,
           "Braveheart (1995)",
           297
          ],
          [
           23,
           "Taxi Driver (1976)",
           182
          ],
          [
           24,
           "Rumble in the Bronx (1995)",
           174
          ],
          [
           25,
           "Birdcage, The (1996)",
           293
          ],
          [
           26,
           "Brothers McMullen, The (1995)",
           73
          ],
          [
           27,
           "Bad Boys (1995)",
           57
          ],
          [
           28,
           "Apollo 13 (1995)",
           276
          ],
          [
           29,
           "Batman Forever (1995)",
           114
          ],
          [
           30,
           "Belle de jour (1967)",
           37
          ],
          [
           31,
           "Crimson Tide (1995)",
           154
          ],
          [
           32,
           "Crumb (1994)",
           81
          ],
          [
           33,
           "Desperado (1995)",
           97
          ],
          [
           34,
           "Doom Generation, The (1995)",
           7
          ],
          [
           35,
           "Free Willy 2: The Adventure Home (1995)",
           11
          ],
          [
           36,
           "Mad Love (1995)",
           13
          ],
          [
           37,
           "Nadja (1994)",
           8
          ],
          [
           38,
           "Net, The (1995)",
           120
          ],
          [
           39,
           "Strange Days (1995)",
           87
          ],
          [
           40,
           "To Wong Foo, Thanks for Everything! Julie Newmar (1995)",
           57
          ],
          [
           41,
           "Billy Madison (1995)",
           37
          ],
          [
           42,
           "Clerks (1994)",
           148
          ],
          [
           43,
           "Disclosure (1994)",
           40
          ],
          [
           44,
           "Dolores Claiborne (1994)",
           79
          ],
          [
           45,
           "Eat Drink Man Woman (1994)",
           80
          ],
          [
           46,
           "Exotica (1994)",
           27
          ],
          [
           47,
           "Ed Wood (1994)",
           133
          ],
          [
           48,
           "Hoop Dreams (1994)",
           117
          ],
          [
           49,
           "I.Q. (1994)",
           81
          ],
          [
           50,
           "Star Wars (1977)",
           583
          ],
          [
           51,
           "Legends of the Fall (1994)",
           81
          ],
          [
           52,
           "Madness of King George, The (1994)",
           91
          ],
          [
           53,
           "Natural Born Killers (1994)",
           128
          ],
          [
           54,
           "Outbreak (1995)",
           104
          ],
          [
           55,
           "Professional, The (1994)",
           149
          ],
          [
           56,
           "Pulp Fiction (1994)",
           394
          ],
          [
           57,
           "Priest (1994)",
           40
          ],
          [
           58,
           "Quiz Show (1994)",
           175
          ],
          [
           59,
           "Three Colors: Red (1994)",
           83
          ],
          [
           60,
           "Three Colors: Blue (1993)",
           64
          ],
          [
           61,
           "Three Colors: White (1994)",
           59
          ],
          [
           62,
           "Stargate (1994)",
           127
          ],
          [
           63,
           "Santa Clause, The (1994)",
           82
          ],
          [
           64,
           "Shawshank Redemption, The (1994)",
           283
          ],
          [
           65,
           "What's Eating Gilbert Grape (1993)",
           115
          ],
          [
           66,
           "While You Were Sleeping (1995)",
           162
          ],
          [
           67,
           "Ace Ventura: Pet Detective (1994)",
           103
          ],
          [
           68,
           "Crow, The (1994)",
           134
          ],
          [
           69,
           "Forrest Gump (1994)",
           321
          ],
          [
           70,
           "Four Weddings and a Funeral (1994)",
           251
          ],
          [
           71,
           "Lion King, The (1994)",
           220
          ],
          [
           72,
           "Mask, The (1994)",
           129
          ],
          [
           73,
           "Maverick (1994)",
           128
          ],
          [
           74,
           "Faster Pussycat! Kill! Kill! (1965)",
           7
          ],
          [
           75,
           "Brother Minister: The Assassination of Malcolm X (1994)",
           5
          ],
          [
           76,
           "Carlito's Way (1993)",
           54
          ],
          [
           77,
           "Firm, The (1993)",
           151
          ],
          [
           78,
           "Free Willy (1993)",
           33
          ],
          [
           79,
           "Fugitive, The (1993)",
           336
          ],
          [
           80,
           "Hot Shots! Part Deux (1993)",
           68
          ],
          [
           81,
           "Hudsucker Proxy, The (1994)",
           110
          ],
          [
           82,
           "Jurassic Park (1993)",
           261
          ],
          [
           83,
           "Much Ado About Nothing (1993)",
           176
          ],
          [
           84,
           "Robert A. Heinlein's The Puppet Masters (1994)",
           18
          ],
          [
           85,
           "Ref, The (1994)",
           58
          ],
          [
           86,
           "Remains of the Day, The (1993)",
           150
          ],
          [
           87,
           "Searching for Bobby Fischer (1993)",
           138
          ],
          [
           88,
           "Sleepless in Seattle (1993)",
           213
          ],
          [
           89,
           "Blade Runner (1982)",
           275
          ],
          [
           90,
           "So I Married an Axe Murderer (1993)",
           95
          ],
          [
           91,
           "Nightmare Before Christmas, The (1993)",
           143
          ],
          [
           92,
           "True Romance (1993)",
           104
          ],
          [
           93,
           "Welcome to the Dollhouse (1995)",
           112
          ],
          [
           94,
           "Home Alone (1990)",
           137
          ],
          [
           95,
           "Aladdin (1992)",
           219
          ],
          [
           96,
           "Terminator 2: Judgment Day (1991)",
           295
          ],
          [
           97,
           "Dances with Wolves (1990)",
           256
          ],
          [
           98,
           "Silence of the Lambs, The (1991)",
           390
          ],
          [
           99,
           "Snow White and the Seven Dwarfs (1937)",
           172
          ],
          [
           100,
           "Fargo (1996)",
           508
          ],
          [
           101,
           "Heavy Metal (1981)",
           73
          ],
          [
           102,
           "Aristocats, The (1970)",
           54
          ],
          [
           103,
           "All Dogs Go to Heaven 2 (1996)",
           15
          ],
          [
           104,
           "Theodore Rex (1995)",
           5
          ],
          [
           105,
           "Sgt. Bilko (1996)",
           74
          ],
          [
           106,
           "Diabolique (1996)",
           71
          ],
          [
           107,
           "Moll Flanders (1996)",
           42
          ],
          [
           108,
           "Kids in the Hall: Brain Candy (1996)",
           65
          ],
          [
           109,
           "Mystery Science Theater 3000: The Movie (1996)",
           130
          ],
          [
           110,
           "Operation Dumbo Drop (1995)",
           31
          ],
          [
           111,
           "Truth About Cats & Dogs, The (1996)",
           272
          ],
          [
           112,
           "Flipper (1996)",
           20
          ],
          [
           113,
           "Horseman on the Roof, The (Hussard sur le toit, Le) (1995)",
           9
          ],
          [
           114,
           "Wallace & Gromit: The Best of Aardman Animation (1996)",
           67
          ],
          [
           115,
           "Haunted World of Edward D. Wood Jr., The (1995)",
           15
          ],
          [
           116,
           "Cold Comfort Farm (1995)",
           125
          ],
          [
           117,
           "Rock, The (1996)",
           378
          ],
          [
           118,
           "Twister (1996)",
           293
          ],
          [
           119,
           "Maya Lin: A Strong Clear Vision (1994)",
           4
          ],
          [
           120,
           "Striptease (1996)",
           67
          ],
          [
           121,
           "Independence Day (ID4) (1996)",
           429
          ],
          [
           122,
           "Cable Guy, The (1996)",
           106
          ],
          [
           123,
           "Frighteners, The (1996)",
           115
          ],
          [
           124,
           "Lone Star (1996)",
           187
          ],
          [
           125,
           "Phenomenon (1996)",
           244
          ],
          [
           126,
           "Spitfire Grill, The (1996)",
           97
          ],
          [
           127,
           "Godfather, The (1972)",
           413
          ],
          [
           128,
           "Supercop (1992)",
           65
          ],
          [
           129,
           "Bound (1996)",
           129
          ],
          [
           130,
           "Kansas City (1996)",
           23
          ],
          [
           131,
           "Breakfast at Tiffany's (1961)",
           95
          ],
          [
           132,
           "Wizard of Oz, The (1939)",
           246
          ],
          [
           133,
           "Gone with the Wind (1939)",
           171
          ],
          [
           134,
           "Citizen Kane (1941)",
           198
          ],
          [
           135,
           "2001: A Space Odyssey (1968)",
           259
          ],
          [
           136,
           "Mr. Smith Goes to Washington (1939)",
           105
          ],
          [
           137,
           "Big Night (1996)",
           171
          ],
          [
           138,
           "D3: The Mighty Ducks (1996)",
           19
          ],
          [
           139,
           "Love Bug, The (1969)",
           50
          ],
          [
           140,
           "Homeward Bound: The Incredible Journey (1993)",
           61
          ],
          [
           141,
           "20,000 Leagues Under the Sea (1954)",
           72
          ],
          [
           142,
           "Bedknobs and Broomsticks (1971)",
           57
          ],
          [
           143,
           "Sound of Music, The (1965)",
           222
          ],
          [
           144,
           "Die Hard (1988)",
           243
          ],
          [
           145,
           "Lawnmower Man, The (1992)",
           65
          ],
          [
           146,
           "Unhook the Stars (1996)",
           10
          ],
          [
           147,
           "Long Kiss Goodnight, The (1996)",
           185
          ],
          [
           148,
           "Ghost and the Darkness, The (1996)",
           128
          ],
          [
           149,
           "Jude (1996)",
           23
          ],
          [
           150,
           "Swingers (1996)",
           157
          ],
          [
           151,
           "Willy Wonka and the Chocolate Factory (1971)",
           326
          ],
          [
           152,
           "Sleeper (1973)",
           82
          ],
          [
           153,
           "Fish Called Wanda, A (1988)",
           247
          ],
          [
           154,
           "Monty Python's Life of Brian (1979)",
           174
          ],
          [
           155,
           "Dirty Dancing (1987)",
           98
          ],
          [
           156,
           "Reservoir Dogs (1992)",
           148
          ],
          [
           157,
           "Platoon (1986)",
           127
          ],
          [
           158,
           "Weekend at Bernie's (1989)",
           60
          ],
          [
           159,
           "Basic Instinct (1992)",
           101
          ],
          [
           160,
           "Glengarry Glen Ross (1992)",
           69
          ],
          [
           161,
           "Top Gun (1986)",
           220
          ],
          [
           162,
           "On Golden Pond (1981)",
           106
          ],
          [
           163,
           "Return of the Pink Panther, The (1974)",
           92
          ],
          [
           164,
           "Abyss, The (1989)",
           151
          ],
          [
           165,
           "Jean de Florette (1986)",
           64
          ],
          [
           166,
           "Manon of the Spring (Manon des sources) (1986)",
           58
          ],
          [
           167,
           "Private Benjamin (1980)",
           67
          ],
          [
           168,
           "Monty Python and the Holy Grail (1974)",
           316
          ],
          [
           169,
           "Wrong Trousers, The (1993)",
           118
          ],
          [
           170,
           "Cinema Paradiso (1988)",
           121
          ],
          [
           171,
           "Delicatessen (1991)",
           65
          ],
          [
           172,
           "Empire Strikes Back, The (1980)",
           367
          ],
          [
           173,
           "Princess Bride, The (1987)",
           324
          ],
          [
           174,
           "Raiders of the Lost Ark (1981)",
           420
          ],
          [
           175,
           "Brazil (1985)",
           208
          ],
          [
           176,
           "Aliens (1986)",
           284
          ],
          [
           177,
           "Good, The Bad and The Ugly, The (1966)",
           137
          ],
          [
           178,
           "12 Angry Men (1957)",
           125
          ],
          [
           179,
           "Clockwork Orange, A (1971)",
           221
          ],
          [
           180,
           "Apocalypse Now (1979)",
           221
          ],
          [
           181,
           "Return of the Jedi (1983)",
           507
          ],
          [
           182,
           "GoodFellas (1990)",
           226
          ],
          [
           183,
           "Alien (1979)",
           291
          ],
          [
           184,
           "Army of Darkness (1993)",
           116
          ],
          [
           185,
           "Psycho (1960)",
           239
          ],
          [
           186,
           "Blues Brothers, The (1980)",
           251
          ],
          [
           187,
           "Godfather: Part II, The (1974)",
           209
          ],
          [
           188,
           "Full Metal Jacket (1987)",
           170
          ],
          [
           189,
           "Grand Day Out, A (1992)",
           66
          ],
          [
           190,
           "Henry V (1989)",
           124
          ],
          [
           191,
           "Amadeus (1984)",
           276
          ],
          [
           192,
           "Raging Bull (1980)",
           116
          ],
          [
           193,
           "Right Stuff, The (1983)",
           157
          ],
          [
           194,
           "Sting, The (1973)",
           241
          ],
          [
           195,
           "Terminator, The (1984)",
           301
          ],
          [
           196,
           "Dead Poets Society (1989)",
           251
          ],
          [
           197,
           "Graduate, The (1967)",
           239
          ],
          [
           198,
           "Nikita (La Femme Nikita) (1990)",
           127
          ],
          [
           199,
           "Bridge on the River Kwai, The (1957)",
           165
          ],
          [
           200,
           "Shining, The (1980)",
           206
          ],
          [
           201,
           "Evil Dead II (1987)",
           89
          ],
          [
           202,
           "Groundhog Day (1993)",
           280
          ],
          [
           203,
           "Unforgiven (1992)",
           182
          ],
          [
           204,
           "Back to the Future (1985)",
           350
          ],
          [
           205,
           "Patton (1970)",
           136
          ],
          [
           206,
           "Akira (1988)",
           50
          ],
          [
           207,
           "Cyrano de Bergerac (1990)",
           66
          ],
          [
           208,
           "Young Frankenstein (1974)",
           200
          ],
          [
           209,
           "This Is Spinal Tap (1984)",
           191
          ],
          [
           210,
           "Indiana Jones and the Last Crusade (1989)",
           331
          ],
          [
           211,
           "M*A*S*H (1970)",
           206
          ],
          [
           212,
           "Unbearable Lightness of Being, The (1988)",
           92
          ],
          [
           213,
           "Room with a View, A (1986)",
           134
          ],
          [
           214,
           "Pink Floyd - The Wall (1982)",
           114
          ],
          [
           215,
           "Field of Dreams (1989)",
           212
          ],
          [
           216,
           "When Harry Met Sally... (1989)",
           290
          ],
          [
           217,
           "Bram Stoker's Dracula (1992)",
           120
          ],
          [
           218,
           "Cape Fear (1991)",
           171
          ],
          [
           219,
           "Nightmare on Elm Street, A (1984)",
           111
          ],
          [
           220,
           "Mirror Has Two Faces, The (1996)",
           66
          ],
          [
           221,
           "Breaking the Waves (1996)",
           74
          ],
          [
           222,
           "Star Trek: First Contact (1996)",
           365
          ],
          [
           223,
           "Sling Blade (1996)",
           136
          ],
          [
           224,
           "Ridicule (1996)",
           44
          ],
          [
           225,
           "101 Dalmatians (1996)",
           109
          ],
          [
           226,
           "Die Hard 2 (1990)",
           166
          ],
          [
           227,
           "Star Trek VI: The Undiscovered Country (1991)",
           161
          ],
          [
           228,
           "Star Trek: The Wrath of Khan (1982)",
           244
          ],
          [
           229,
           "Star Trek III: The Search for Spock (1984)",
           171
          ],
          [
           230,
           "Star Trek IV: The Voyage Home (1986)",
           199
          ],
          [
           231,
           "Batman Returns (1992)",
           142
          ],
          [
           232,
           "Young Guns (1988)",
           101
          ],
          [
           233,
           "Under Siege (1992)",
           124
          ],
          [
           234,
           "Jaws (1975)",
           280
          ],
          [
           235,
           "Mars Attacks! (1996)",
           217
          ],
          [
           236,
           "Citizen Ruth (1996)",
           45
          ],
          [
           237,
           "Jerry Maguire (1996)",
           384
          ],
          [
           238,
           "Raising Arizona (1987)",
           256
          ],
          [
           239,
           "Sneakers (1992)",
           150
          ],
          [
           240,
           "Beavis and Butt-head Do America (1996)",
           156
          ],
          [
           241,
           "Last of the Mohicans, The (1992)",
           128
          ],
          [
           242,
           "Kolya (1996)",
           117
          ],
          [
           243,
           "Jungle2Jungle (1997)",
           132
          ],
          [
           244,
           "Smilla's Sense of Snow (1997)",
           48
          ],
          [
           245,
           "Devil's Own, The (1997)",
           240
          ],
          [
           246,
           "Chasing Amy (1997)",
           124
          ],
          [
           247,
           "Turbo: A Power Rangers Movie (1997)",
           5
          ],
          [
           248,
           "Grosse Pointe Blank (1997)",
           160
          ],
          [
           249,
           "Austin Powers: International Man of Mystery (1997)",
           130
          ],
          [
           250,
           "Fifth Element, The (1997)",
           197
          ],
          [
           251,
           "Shall We Dance? (1996)",
           46
          ],
          [
           252,
           "Lost World: Jurassic Park, The (1997)",
           158
          ],
          [
           253,
           "Pillow Book, The (1995)",
           26
          ],
          [
           254,
           "Batman & Robin (1997)",
           62
          ],
          [
           255,
           "My Best Friend's Wedding (1997)",
           172
          ],
          [
           256,
           "When the Cats Away (Chacun cherche son chat) (1996)",
           16
          ],
          [
           257,
           "Men in Black (1997)",
           303
          ],
          [
           258,
           "Contact (1997)",
           509
          ],
          [
           259,
           "George of the Jungle (1997)",
           162
          ],
          [
           260,
           "Event Horizon (1997)",
           127
          ],
          [
           261,
           "Air Bud (1997)",
           43
          ],
          [
           262,
           "In the Company of Men (1997)",
           66
          ],
          [
           263,
           "Steel (1997)",
           19
          ],
          [
           264,
           "Mimic (1997)",
           101
          ],
          [
           265,
           "Hunt for Red October, The (1990)",
           227
          ],
          [
           266,
           "Kull the Conqueror (1997)",
           35
          ],
          [
           267,
           "unknown",
           9
          ],
          [
           268,
           "Chasing Amy (1997)",
           255
          ],
          [
           269,
           "Full Monty, The (1997)",
           315
          ],
          [
           270,
           "Gattaca (1997)",
           136
          ],
          [
           271,
           "Starship Troopers (1997)",
           211
          ],
          [
           272,
           "Good Will Hunting (1997)",
           198
          ],
          [
           273,
           "Heat (1995)",
           223
          ],
          [
           274,
           "Sabrina (1995)",
           190
          ],
          [
           275,
           "Sense and Sensibility (1995)",
           268
          ],
          [
           276,
           "Leaving Las Vegas (1995)",
           298
          ],
          [
           277,
           "Restoration (1995)",
           71
          ],
          [
           278,
           "Bed of Roses (1996)",
           60
          ],
          [
           279,
           "Once Upon a Time... When We Were Colored (1995)",
           28
          ],
          [
           280,
           "Up Close and Personal (1996)",
           85
          ],
          [
           281,
           "River Wild, The (1994)",
           146
          ],
          [
           282,
           "Time to Kill, A (1996)",
           232
          ],
          [
           283,
           "Emma (1996)",
           177
          ],
          [
           284,
           "Tin Cup (1996)",
           193
          ],
          [
           285,
           "Secrets & Lies (1996)",
           162
          ],
          [
           286,
           "English Patient, The (1996)",
           481
          ],
          [
           287,
           "Marvin's Room (1996)",
           78
          ],
          [
           288,
           "Scream (1996)",
           478
          ],
          [
           289,
           "Evita (1996)",
           259
          ],
          [
           290,
           "Fierce Creatures (1997)",
           96
          ],
          [
           291,
           "Absolute Power (1997)",
           127
          ],
          [
           292,
           "Rosewood (1997)",
           114
          ],
          [
           293,
           "Donnie Brasco (1997)",
           147
          ],
          [
           294,
           "Liar Liar (1997)",
           485
          ],
          [
           295,
           "Breakdown (1997)",
           77
          ],
          [
           296,
           "Promesse, La (1996)",
           6
          ],
          [
           297,
           "Ulee's Gold (1997)",
           50
          ],
          [
           298,
           "Face/Off (1997)",
           194
          ],
          [
           299,
           "Hoodlum (1997)",
           73
          ],
          [
           300,
           "Air Force One (1997)",
           431
          ],
          [
           301,
           "In & Out (1997)",
           230
          ],
          [
           302,
           "L.A. Confidential (1997)",
           297
          ],
          [
           303,
           "Ulee's Gold (1997)",
           134
          ],
          [
           304,
           "Fly Away Home (1996)",
           149
          ],
          [
           305,
           "Ice Storm, The (1997)",
           87
          ],
          [
           306,
           "Mrs. Brown (Her Majesty, Mrs. Brown) (1997)",
           96
          ],
          [
           307,
           "Devil's Advocate, The (1997)",
           188
          ],
          [
           308,
           "FairyTale: A True Story (1997)",
           30
          ],
          [
           309,
           "Deceiver (1997)",
           28
          ],
          [
           310,
           "Rainmaker, The (1997)",
           145
          ],
          [
           311,
           "Wings of the Dove, The (1997)",
           75
          ],
          [
           312,
           "Midnight in the Garden of Good and Evil (1997)",
           80
          ],
          [
           313,
           "Titanic (1997)",
           350
          ],
          [
           314,
           "3 Ninjas: High Noon At Mega Mountain (1998)",
           5
          ],
          [
           315,
           "Apt Pupil (1998)",
           160
          ],
          [
           316,
           "As Good As It Gets (1997)",
           112
          ],
          [
           317,
           "In the Name of the Father (1993)",
           102
          ],
          [
           318,
           "Schindler's List (1993)",
           298
          ],
          [
           319,
           "Everyone Says I Love You (1996)",
           168
          ],
          [
           320,
           "Paradise Lost: The Child Murders at Robin Hood Hills (1996)",
           20
          ],
          [
           321,
           "Mother (1996)",
           169
          ],
          [
           322,
           "Murder at 1600 (1997)",
           218
          ],
          [
           323,
           "Dante's Peak (1997)",
           240
          ],
          [
           324,
           "Lost Highway (1997)",
           125
          ],
          [
           325,
           "Crash (1996)",
           128
          ],
          [
           326,
           "G.I. Jane (1997)",
           175
          ],
          [
           327,
           "Cop Land (1997)",
           175
          ],
          [
           328,
           "Conspiracy Theory (1997)",
           295
          ],
          [
           329,
           "Desperate Measures (1998)",
           45
          ],
          [
           330,
           "187 (1997)",
           41
          ],
          [
           331,
           "Edge, The (1997)",
           113
          ],
          [
           332,
           "Kiss the Girls (1997)",
           143
          ],
          [
           333,
           "Game, The (1997)",
           251
          ],
          [
           334,
           "U Turn (1997)",
           64
          ],
          [
           335,
           "How to Be a Player (1997)",
           21
          ],
          [
           336,
           "Playing God (1997)",
           43
          ],
          [
           337,
           "House of Yes, The (1997)",
           18
          ],
          [
           338,
           "Bean (1997)",
           91
          ],
          [
           339,
           "Mad City (1997)",
           47
          ],
          [
           340,
           "Boogie Nights (1997)",
           189
          ],
          [
           341,
           "Critical Care (1997)",
           11
          ],
          [
           342,
           "Man Who Knew Too Little, The (1997)",
           52
          ],
          [
           343,
           "Alien: Resurrection (1997)",
           124
          ],
          [
           344,
           "Apostle, The (1997)",
           55
          ],
          [
           345,
           "Deconstructing Harry (1997)",
           65
          ],
          [
           346,
           "Jackie Brown (1997)",
           126
          ],
          [
           347,
           "Wag the Dog (1997)",
           137
          ],
          [
           348,
           "Desperate Measures (1998)",
           27
          ],
          [
           349,
           "Hard Rain (1998)",
           31
          ],
          [
           350,
           "Fallen (1998)",
           41
          ],
          [
           351,
           "Prophecy II, The (1998)",
           20
          ],
          [
           352,
           "Spice World (1997)",
           26
          ],
          [
           353,
           "Deep Rising (1998)",
           14
          ],
          [
           354,
           "Wedding Singer, The (1998)",
           72
          ],
          [
           355,
           "Sphere (1998)",
           41
          ],
          [
           356,
           "Client, The (1994)",
           97
          ],
          [
           357,
           "One Flew Over the Cuckoo's Nest (1975)",
           264
          ],
          [
           358,
           "Spawn (1997)",
           143
          ],
          [
           359,
           "Assignment, The (1997)",
           18
          ],
          [
           360,
           "Wonderland (1997)",
           10
          ],
          [
           361,
           "Incognito (1997)",
           10
          ],
          [
           362,
           "Blues Brothers 2000 (1998)",
           28
          ],
          [
           363,
           "Sudden Death (1995)",
           47
          ],
          [
           364,
           "Ace Ventura: When Nature Calls (1995)",
           37
          ],
          [
           365,
           "Powder (1995)",
           48
          ],
          [
           366,
           "Dangerous Minds (1995)",
           47
          ],
          [
           367,
           "Clueless (1995)",
           170
          ],
          [
           368,
           "Bio-Dome (1996)",
           31
          ],
          [
           369,
           "Black Sheep (1996)",
           55
          ],
          [
           370,
           "Mary Reilly (1996)",
           39
          ],
          [
           371,
           "Bridges of Madison County, The (1995)",
           67
          ],
          [
           372,
           "Jeffrey (1995)",
           34
          ],
          [
           373,
           "Judge Dredd (1995)",
           39
          ],
          [
           374,
           "Mighty Morphin Power Rangers: The Movie (1995)",
           11
          ],
          [
           375,
           "Showgirls (1995)",
           23
          ],
          [
           376,
           "Houseguest (1994)",
           24
          ],
          [
           377,
           "Heavyweights (1994)",
           13
          ],
          [
           378,
           "Miracle on 34th Street (1994)",
           101
          ],
          [
           379,
           "Tales From the Crypt Presents: Demon Knight (1995)",
           43
          ],
          [
           380,
           "Star Trek: Generations (1994)",
           116
          ],
          [
           381,
           "Muriel's Wedding (1994)",
           100
          ],
          [
           382,
           "Adventures of Priscilla, Queen of the Desert, The (1994)",
           111
          ],
          [
           383,
           "Flintstones, The (1994)",
           31
          ],
          [
           384,
           "Naked Gun 33 1/3: The Final Insult (1994)",
           69
          ],
          [
           385,
           "True Lies (1994)",
           208
          ],
          [
           386,
           "Addams Family Values (1993)",
           87
          ],
          [
           387,
           "Age of Innocence, The (1993)",
           65
          ],
          [
           388,
           "Beverly Hills Cop III (1994)",
           28
          ],
          [
           389,
           "Black Beauty (1994)",
           27
          ],
          [
           390,
           "Fear of a Black Hat (1993)",
           10
          ],
          [
           391,
           "Last Action Hero (1993)",
           59
          ],
          [
           392,
           "Man Without a Face, The (1993)",
           68
          ],
          [
           393,
           "Mrs. Doubtfire (1993)",
           192
          ],
          [
           394,
           "Radioland Murders (1994)",
           12
          ],
          [
           395,
           "Robin Hood: Men in Tights (1993)",
           56
          ],
          [
           396,
           "Serial Mom (1994)",
           54
          ],
          [
           397,
           "Striking Distance (1993)",
           12
          ],
          [
           398,
           "Super Mario Bros. (1993)",
           26
          ],
          [
           399,
           "Three Musketeers, The (1993)",
           89
          ],
          [
           400,
           "Little Rascals, The (1994)",
           18
          ],
          [
           401,
           "Brady Bunch Movie, The (1995)",
           76
          ],
          [
           402,
           "Ghost (1990)",
           170
          ],
          [
           403,
           "Batman (1989)",
           201
          ],
          [
           404,
           "Pinocchio (1940)",
           101
          ],
          [
           405,
           "Mission: Impossible (1996)",
           344
          ],
          [
           406,
           "Thinner (1996)",
           49
          ],
          [
           407,
           "Spy Hard (1996)",
           43
          ],
          [
           408,
           "Close Shave, A (1995)",
           112
          ],
          [
           409,
           "Jack (1996)",
           70
          ],
          [
           410,
           "Kingpin (1996)",
           162
          ],
          [
           411,
           "Nutty Professor, The (1996)",
           163
          ],
          [
           412,
           "Very Brady Sequel, A (1996)",
           93
          ],
          [
           413,
           "Tales from the Crypt Presents: Bordello of Blood (1996)",
           55
          ],
          [
           414,
           "My Favorite Year (1982)",
           62
          ],
          [
           415,
           "Apple Dumpling Gang, The (1975)",
           25
          ],
          [
           416,
           "Old Yeller (1957)",
           64
          ],
          [
           417,
           "Parent Trap, The (1961)",
           73
          ],
          [
           418,
           "Cinderella (1950)",
           129
          ],
          [
           419,
           "Mary Poppins (1964)",
           178
          ],
          [
           420,
           "Alice in Wonderland (1951)",
           81
          ],
          [
           421,
           "William Shakespeare's Romeo and Juliet (1996)",
           106
          ],
          [
           422,
           "Aladdin and the King of Thieves (1996)",
           26
          ],
          [
           423,
           "E.T. the Extra-Terrestrial (1982)",
           300
          ],
          [
           424,
           "Children of the Corn: The Gathering (1996)",
           19
          ],
          [
           425,
           "Bob Roberts (1992)",
           85
          ],
          [
           426,
           "Transformers: The Movie, The (1986)",
           32
          ],
          [
           427,
           "To Kill a Mockingbird (1962)",
           219
          ],
          [
           428,
           "Harold and Maude (1971)",
           121
          ],
          [
           429,
           "Day the Earth Stood Still, The (1951)",
           97
          ],
          [
           430,
           "Duck Soup (1933)",
           93
          ],
          [
           431,
           "Highlander (1986)",
           153
          ],
          [
           432,
           "Fantasia (1940)",
           174
          ],
          [
           433,
           "Heathers (1989)",
           171
          ],
          [
           434,
           "Forbidden Planet (1956)",
           67
          ],
          [
           435,
           "Butch Cassidy and the Sundance Kid (1969)",
           216
          ],
          [
           436,
           "American Werewolf in London, An (1981)",
           99
          ],
          [
           437,
           "Amityville 1992: It's About Time (1992)",
           5
          ],
          [
           438,
           "Amityville 3-D (1983)",
           6
          ],
          [
           439,
           "Amityville: A New Generation (1993)",
           5
          ],
          [
           440,
           "Amityville II: The Possession (1982)",
           14
          ],
          [
           441,
           "Amityville Horror, The (1979)",
           53
          ],
          [
           442,
           "Amityville Curse, The (1990)",
           4
          ],
          [
           443,
           "Birds, The (1963)",
           162
          ],
          [
           444,
           "Blob, The (1958)",
           46
          ],
          [
           445,
           "Body Snatcher, The (1945)",
           22
          ],
          [
           446,
           "Burnt Offerings (1976)",
           9
          ],
          [
           447,
           "Carrie (1976)",
           121
          ],
          [
           448,
           "Omen, The (1976)",
           85
          ],
          [
           449,
           "Star Trek: The Motion Picture (1979)",
           117
          ],
          [
           450,
           "Star Trek V: The Final Frontier (1989)",
           63
          ],
          [
           451,
           "Grease (1978)",
           170
          ],
          [
           452,
           "Jaws 2 (1978)",
           66
          ],
          [
           453,
           "Jaws 3-D (1983)",
           16
          ],
          [
           454,
           "Bastard Out of Carolina (1996)",
           16
          ],
          [
           455,
           "Jackie Chan's First Strike (1996)",
           145
          ],
          [
           456,
           "Beverly Hills Ninja (1997)",
           48
          ],
          [
           457,
           "Free Willy 3: The Rescue (1997)",
           27
          ],
          [
           458,
           "Nixon (1995)",
           90
          ],
          [
           459,
           "Cry, the Beloved Country (1995)",
           24
          ],
          [
           460,
           "Crossing Guard, The (1995)",
           28
          ],
          [
           461,
           "Smoke (1995)",
           74
          ],
          [
           462,
           "Like Water For Chocolate (Como agua para chocolate) (1992)",
           148
          ],
          [
           463,
           "Secret of Roan Inish, The (1994)",
           71
          ],
          [
           464,
           "Vanya on 42nd Street (1994)",
           27
          ],
          [
           465,
           "Jungle Book, The (1994)",
           85
          ],
          [
           466,
           "Red Rock West (1992)",
           52
          ],
          [
           467,
           "Bronx Tale, A (1993)",
           48
          ],
          [
           468,
           "Rudy (1993)",
           64
          ],
          [
           469,
           "Short Cuts (1993)",
           67
          ],
          [
           470,
           "Tombstone (1993)",
           108
          ],
          [
           471,
           "Courage Under Fire (1996)",
           221
          ],
          [
           472,
           "Dragonheart (1996)",
           158
          ],
          [
           473,
           "James and the Giant Peach (1996)",
           126
          ],
          [
           474,
           "Dr. Strangelove or: How I Learned to Stop Worrying and Love the Bomb (1963)",
           194
          ],
          [
           475,
           "Trainspotting (1996)",
           250
          ],
          [
           476,
           "First Wives Club, The (1996)",
           160
          ],
          [
           477,
           "Matilda (1996)",
           95
          ],
          [
           478,
           "Philadelphia Story, The (1940)",
           104
          ],
          [
           479,
           "Vertigo (1958)",
           179
          ],
          [
           480,
           "North by Northwest (1959)",
           179
          ],
          [
           481,
           "Apartment, The (1960)",
           63
          ],
          [
           482,
           "Some Like It Hot (1959)",
           128
          ],
          [
           483,
           "Casablanca (1942)",
           243
          ],
          [
           484,
           "Maltese Falcon, The (1941)",
           138
          ],
          [
           485,
           "My Fair Lady (1964)",
           125
          ],
          [
           486,
           "Sabrina (1954)",
           64
          ],
          [
           487,
           "Roman Holiday (1953)",
           68
          ],
          [
           488,
           "Sunset Blvd. (1950)",
           65
          ],
          [
           489,
           "Notorious (1946)",
           52
          ],
          [
           490,
           "To Catch a Thief (1955)",
           50
          ],
          [
           491,
           "Adventures of Robin Hood, The (1938)",
           67
          ],
          [
           492,
           "East of Eden (1955)",
           59
          ],
          [
           493,
           "Thin Man, The (1934)",
           60
          ],
          [
           494,
           "His Girl Friday (1940)",
           56
          ],
          [
           495,
           "Around the World in 80 Days (1956)",
           59
          ],
          [
           496,
           "It's a Wonderful Life (1946)",
           231
          ],
          [
           497,
           "Bringing Up Baby (1938)",
           68
          ],
          [
           498,
           "African Queen, The (1951)",
           152
          ],
          [
           499,
           "Cat on a Hot Tin Roof (1958)",
           62
          ],
          [
           500,
           "Fly Away Home (1996)",
           31
          ],
          [
           501,
           "Dumbo (1941)",
           123
          ],
          [
           502,
           "Bananas (1971)",
           57
          ],
          [
           503,
           "Candidate, The (1972)",
           39
          ],
          [
           504,
           "Bonnie and Clyde (1967)",
           122
          ],
          [
           505,
           "Dial M for Murder (1954)",
           68
          ],
          [
           506,
           "Rebel Without a Cause (1955)",
           90
          ],
          [
           507,
           "Streetcar Named Desire, A (1951)",
           98
          ],
          [
           508,
           "People vs. Larry Flynt, The (1996)",
           215
          ],
          [
           509,
           "My Left Foot (1989)",
           121
          ],
          [
           510,
           "Magnificent Seven, The (1954)",
           121
          ],
          [
           511,
           "Lawrence of Arabia (1962)",
           173
          ],
          [
           512,
           "Wings of Desire (1987)",
           57
          ],
          [
           513,
           "Third Man, The (1949)",
           72
          ],
          [
           514,
           "Annie Hall (1977)",
           180
          ],
          [
           515,
           "Boot, Das (1981)",
           201
          ],
          [
           516,
           "Local Hero (1983)",
           63
          ],
          [
           517,
           "Manhattan (1979)",
           91
          ],
          [
           518,
           "Miller's Crossing (1990)",
           89
          ],
          [
           519,
           "Treasure of the Sierra Madre, The (1948)",
           80
          ],
          [
           520,
           "Great Escape, The (1963)",
           124
          ],
          [
           521,
           "Deer Hunter, The (1978)",
           120
          ],
          [
           522,
           "Down by Law (1986)",
           35
          ],
          [
           523,
           "Cool Hand Luke (1967)",
           164
          ],
          [
           524,
           "Great Dictator, The (1940)",
           46
          ],
          [
           525,
           "Big Sleep, The (1946)",
           73
          ],
          [
           526,
           "Ben-Hur (1959)",
           124
          ],
          [
           527,
           "Gandhi (1982)",
           195
          ],
          [
           528,
           "Killing Fields, The (1984)",
           121
          ],
          [
           529,
           "My Life as a Dog (Mitt liv som hund) (1985)",
           93
          ],
          [
           530,
           "Man Who Would Be King, The (1975)",
           80
          ],
          [
           531,
           "Shine (1996)",
           129
          ],
          [
           532,
           "Kama Sutra: A Tale of Love (1996)",
           22
          ],
          [
           533,
           "Daytrippers, The (1996)",
           15
          ],
          [
           534,
           "Traveller (1997)",
           13
          ],
          [
           535,
           "Addicted to Love (1997)",
           54
          ],
          [
           536,
           "Ponette (1996)",
           10
          ],
          [
           537,
           "My Own Private Idaho (1991)",
           30
          ],
          [
           538,
           "Anastasia (1997)",
           66
          ],
          [
           539,
           "Mouse Hunt (1997)",
           44
          ],
          [
           540,
           "Money Train (1995)",
           43
          ],
          [
           541,
           "Mortal Kombat (1995)",
           49
          ],
          [
           542,
           "Pocahontas (1995)",
           51
          ],
          [
           543,
           "Misérables, Les (1995)",
           21
          ],
          [
           544,
           "Things to Do in Denver when You're Dead (1995)",
           71
          ],
          [
           545,
           "Vampire in Brooklyn (1995)",
           12
          ],
          [
           546,
           "Broken Arrow (1996)",
           254
          ],
          [
           547,
           "Young Poisoner's Handbook, The (1995)",
           41
          ],
          [
           548,
           "NeverEnding Story III, The (1994)",
           12
          ],
          [
           549,
           "Rob Roy (1995)",
           92
          ],
          [
           550,
           "Die Hard: With a Vengeance (1995)",
           151
          ],
          [
           551,
           "Lord of Illusions (1995)",
           24
          ],
          [
           552,
           "Species (1995)",
           45
          ],
          [
           553,
           "Walk in the Clouds, A (1995)",
           63
          ],
          [
           554,
           "Waterworld (1995)",
           102
          ],
          [
           555,
           "White Man's Burden (1995)",
           10
          ],
          [
           556,
           "Wild Bill (1995)",
           12
          ],
          [
           557,
           "Farinelli: il castrato (1994)",
           17
          ],
          [
           558,
           "Heavenly Creatures (1994)",
           70
          ],
          [
           559,
           "Interview with the Vampire (1994)",
           137
          ],
          [
           560,
           "Kid in King Arthur's Court, A (1995)",
           22
          ],
          [
           561,
           "Mary Shelley's Frankenstein (1994)",
           59
          ],
          [
           562,
           "Quick and the Dead, The (1995)",
           48
          ],
          [
           563,
           "Stephen King's The Langoliers (1995)",
           29
          ],
          [
           564,
           "Tales from the Hood (1995)",
           27
          ],
          [
           565,
           "Village of the Damned (1995)",
           22
          ],
          [
           566,
           "Clear and Present Danger (1994)",
           179
          ],
          [
           567,
           "Wes Craven's New Nightmare (1994)",
           35
          ],
          [
           568,
           "Speed (1994)",
           230
          ],
          [
           569,
           "Wolf (1994)",
           67
          ],
          [
           570,
           "Wyatt Earp (1994)",
           50
          ],
          [
           571,
           "Another Stakeout (1993)",
           28
          ],
          [
           572,
           "Blown Away (1994)",
           29
          ],
          [
           573,
           "Body Snatchers (1993)",
           33
          ],
          [
           574,
           "Boxing Helena (1993)",
           15
          ],
          [
           575,
           "City Slickers II: The Legend of Curly's Gold (1994)",
           44
          ],
          [
           576,
           "Cliffhanger (1993)",
           93
          ],
          [
           577,
           "Coneheads (1993)",
           41
          ],
          [
           578,
           "Demolition Man (1993)",
           92
          ],
          [
           579,
           "Fatal Instinct (1993)",
           19
          ],
          [
           580,
           "Englishman Who Went Up a Hill, But Came Down a Mountain, The (1995)",
           32
          ],
          [
           581,
           "Kalifornia (1993)",
           59
          ],
          [
           582,
           "Piano, The (1993)",
           168
          ],
          [
           583,
           "Romeo Is Bleeding (1993)",
           37
          ],
          [
           584,
           "Secret Garden, The (1993)",
           79
          ],
          [
           585,
           "Son in Law (1993)",
           39
          ],
          [
           586,
           "Terminal Velocity (1994)",
           34
          ],
          [
           587,
           "Hour of the Pig, The (1993)",
           14
          ],
          [
           588,
           "Beauty and the Beast (1991)",
           202
          ],
          [
           589,
           "Wild Bunch, The (1969)",
           43
          ],
          [
           590,
           "Hellraiser: Bloodline (1996)",
           18
          ],
          [
           591,
           "Primal Fear (1996)",
           178
          ],
          [
           592,
           "True Crime (1995)",
           9
          ],
          [
           593,
           "Stalingrad (1993)",
           12
          ],
          [
           594,
           "Heavy (1995)",
           5
          ],
          [
           595,
           "Fan, The (1996)",
           64
          ],
          [
           596,
           "Hunchback of Notre Dame, The (1996)",
           127
          ],
          [
           597,
           "Eraser (1996)",
           206
          ],
          [
           598,
           "Big Squeeze, The (1996)",
           4
          ],
          [
           599,
           "Police Story 4: Project S (Chao ji ji hua) (1993)",
           1
          ],
          [
           600,
           "Daniel Defoe's Robinson Crusoe (1996)",
           2
          ],
          [
           601,
           "For Whom the Bell Tolls (1943)",
           20
          ],
          [
           602,
           "American in Paris, An (1951)",
           50
          ],
          [
           603,
           "Rear Window (1954)",
           209
          ],
          [
           604,
           "It Happened One Night (1934)",
           81
          ],
          [
           605,
           "Meet Me in St. Louis (1944)",
           31
          ],
          [
           606,
           "All About Eve (1950)",
           66
          ],
          [
           607,
           "Rebecca (1940)",
           66
          ],
          [
           608,
           "Spellbound (1945)",
           30
          ],
          [
           609,
           "Father of the Bride (1950)",
           60
          ],
          [
           610,
           "Gigi (1958)",
           41
          ],
          [
           611,
           "Laura (1944)",
           40
          ],
          [
           612,
           "Lost Horizon (1937)",
           34
          ],
          [
           613,
           "My Man Godfrey (1936)",
           27
          ],
          [
           614,
           "Giant (1956)",
           51
          ],
          [
           615,
           "39 Steps, The (1935)",
           59
          ],
          [
           616,
           "Night of the Living Dead (1968)",
           64
          ],
          [
           617,
           "Blue Angel, The (Blaue Engel, Der) (1930)",
           18
          ],
          [
           618,
           "Picnic (1955)",
           18
          ],
          [
           619,
           "Extreme Measures (1996)",
           64
          ],
          [
           620,
           "Chamber, The (1996)",
           43
          ],
          [
           621,
           "Davy Crockett, King of the Wild Frontier (1955)",
           11
          ],
          [
           622,
           "Swiss Family Robinson (1960)",
           39
          ],
          [
           623,
           "Angels in the Outfield (1994)",
           39
          ],
          [
           624,
           "Three Caballeros, The (1945)",
           22
          ],
          [
           625,
           "Sword in the Stone, The (1963)",
           82
          ],
          [
           626,
           "So Dear to My Heart (1949)",
           4
          ],
          [
           627,
           "Robin Hood: Prince of Thieves (1991)",
           75
          ],
          [
           628,
           "Sleepers (1996)",
           169
          ],
          [
           629,
           "Victor/Victoria (1982)",
           77
          ],
          [
           630,
           "Great Race, The (1965)",
           31
          ],
          [
           631,
           "Crying Game, The (1992)",
           119
          ],
          [
           632,
           "Sophie's Choice (1982)",
           58
          ],
          [
           633,
           "Christmas Carol, A (1938)",
           69
          ],
          [
           634,
           "Microcosmos: Le peuple de l'herbe (1996)",
           24
          ],
          [
           635,
           "Fog, The (1980)",
           23
          ],
          [
           636,
           "Escape from New York (1981)",
           91
          ],
          [
           637,
           "Howling, The (1981)",
           38
          ],
          [
           638,
           "Return of Martin Guerre, The (Retour de Martin Guerre, Le) (1982)",
           44
          ],
          [
           639,
           "Tin Drum, The (Blechtrommel, Die) (1979)",
           40
          ],
          [
           640,
           "Cook the Thief His Wife & Her Lover, The (1989)",
           82
          ],
          [
           641,
           "Paths of Glory (1957)",
           33
          ],
          [
           642,
           "Grifters, The (1990)",
           89
          ],
          [
           643,
           "The Innocent (1994)",
           4
          ],
          [
           644,
           "Thin Blue Line, The (1988)",
           35
          ],
          [
           645,
           "Paris Is Burning (1990)",
           27
          ],
          [
           646,
           "Once Upon a Time in the West (1969)",
           38
          ],
          [
           647,
           "Ran (1985)",
           70
          ],
          [
           648,
           "Quiet Man, The (1952)",
           67
          ],
          [
           649,
           "Once Upon a Time in America (1984)",
           50
          ],
          [
           650,
           "Seventh Seal, The (Sjunde inseglet, Det) (1957)",
           72
          ],
          [
           651,
           "Glory (1989)",
           171
          ],
          [
           652,
           "Rosencrantz and Guildenstern Are Dead (1990)",
           90
          ],
          [
           653,
           "Touch of Evil (1958)",
           34
          ],
          [
           654,
           "Chinatown (1974)",
           147
          ],
          [
           655,
           "Stand by Me (1986)",
           227
          ],
          [
           656,
           "M (1931)",
           44
          ],
          [
           657,
           "Manchurian Candidate, The (1962)",
           131
          ],
          [
           658,
           "Pump Up the Volume (1990)",
           79
          ],
          [
           659,
           "Arsenic and Old Lace (1944)",
           115
          ],
          [
           660,
           "Fried Green Tomatoes (1991)",
           153
          ],
          [
           661,
           "High Noon (1952)",
           88
          ],
          [
           662,
           "Somewhere in Time (1980)",
           82
          ],
          [
           663,
           "Being There (1979)",
           116
          ],
          [
           664,
           "Paris, Texas (1984)",
           46
          ],
          [
           665,
           "Alien 3 (1992)",
           100
          ],
          [
           666,
           "Blood For Dracula (Andy Warhol's Dracula) (1974)",
           5
          ],
          [
           667,
           "Audrey Rose (1977)",
           12
          ],
          [
           668,
           "Blood Beach (1981)",
           6
          ],
          [
           669,
           "Body Parts (1991)",
           13
          ],
          [
           670,
           "Body Snatchers (1993)",
           36
          ],
          [
           671,
           "Bride of Frankenstein (1935)",
           46
          ],
          [
           672,
           "Candyman (1992)",
           65
          ],
          [
           673,
           "Cape Fear (1962)",
           86
          ],
          [
           674,
           "Cat People (1982)",
           48
          ],
          [
           675,
           "Nosferatu (Nosferatu, eine Symphonie des Grauens) (1922)",
           54
          ],
          [
           676,
           "Crucible, The (1996)",
           77
          ],
          [
           677,
           "Fire on the Mountain (1996)",
           1
          ],
          [
           678,
           "Volcano (1997)",
           219
          ],
          [
           679,
           "Conan the Barbarian (1981)",
           107
          ],
          [
           680,
           "Kull the Conqueror (1997)",
           34
          ],
          [
           681,
           "Wishmaster (1997)",
           27
          ],
          [
           682,
           "I Know What You Did Last Summer (1997)",
           100
          ],
          [
           683,
           "Rocket Man (1997)",
           49
          ],
          [
           684,
           "In the Line of Fire (1993)",
           169
          ],
          [
           685,
           "Executive Decision (1996)",
           157
          ],
          [
           686,
           "Perfect World, A (1993)",
           50
          ],
          [
           687,
           "McHale's Navy (1997)",
           69
          ],
          [
           688,
           "Leave It to Beaver (1997)",
           44
          ],
          [
           689,
           "Jackal, The (1997)",
           87
          ],
          [
           690,
           "Seven Years in Tibet (1997)",
           155
          ],
          [
           691,
           "Dark City (1998)",
           16
          ],
          [
           692,
           "American President, The (1995)",
           164
          ],
          [
           693,
           "Casino (1995)",
           91
          ],
          [
           694,
           "Persuasion (1995)",
           44
          ],
          [
           695,
           "Kicking and Screaming (1995)",
           13
          ],
          [
           696,
           "City Hall (1996)",
           79
          ],
          [
           697,
           "Basketball Diaries, The (1995)",
           40
          ],
          [
           698,
           "Browning Version, The (1994)",
           10
          ],
          [
           699,
           "Little Women (1994)",
           102
          ],
          [
           700,
           "Miami Rhapsody (1995)",
           15
          ],
          [
           701,
           "Wonderful, Horrible Life of Leni Riefenstahl, The (1993)",
           10
          ],
          [
           702,
           "Barcelona (1994)",
           53
          ],
          [
           703,
           "Widows' Peak (1994)",
           19
          ],
          [
           704,
           "House of the Spirits, The (1993)",
           24
          ],
          [
           705,
           "Singin' in the Rain (1952)",
           137
          ],
          [
           706,
           "Bad Moon (1996)",
           6
          ],
          [
           707,
           "Enchanted April (1991)",
           70
          ],
          [
           708,
           "Sex, Lies, and Videotape (1989)",
           101
          ],
          [
           709,
           "Strictly Ballroom (1992)",
           104
          ],
          [
           710,
           "Better Off Dead... (1985)",
           79
          ],
          [
           711,
           "Substance of Fire, The (1996)",
           1
          ],
          [
           712,
           "Tin Men (1987)",
           51
          ],
          [
           713,
           "Othello (1995)",
           72
          ],
          [
           714,
           "Carrington (1995)",
           13
          ],
          [
           715,
           "To Die For (1995)",
           87
          ],
          [
           716,
           "Home for the Holidays (1995)",
           58
          ],
          [
           717,
           "Juror, The (1996)",
           82
          ],
          [
           718,
           "In the Bleak Midwinter (1995)",
           16
          ],
          [
           719,
           "Canadian Bacon (1994)",
           29
          ],
          [
           720,
           "First Knight (1995)",
           86
          ],
          [
           721,
           "Mallrats (1995)",
           54
          ],
          [
           722,
           "Nine Months (1995)",
           58
          ],
          [
           723,
           "Boys on the Side (1995)",
           34
          ],
          [
           724,
           "Circle of Friends (1995)",
           76
          ],
          [
           725,
           "Exit to Eden (1994)",
           16
          ],
          [
           726,
           "Fluke (1995)",
           14
          ],
          [
           727,
           "Immortal Beloved (1994)",
           63
          ],
          [
           728,
           "Junior (1994)",
           45
          ],
          [
           729,
           "Nell (1994)",
           81
          ],
          [
           730,
           "Queen Margot (Reine Margot, La) (1994)",
           24
          ],
          [
           731,
           "Corrina, Corrina (1994)",
           39
          ],
          [
           732,
           "Dave (1993)",
           180
          ],
          [
           733,
           "Go Fish (1994)",
           15
          ],
          [
           734,
           "Made in America (1993)",
           27
          ],
          [
           735,
           "Philadelphia (1993)",
           137
          ],
          [
           736,
           "Shadowlands (1993)",
           78
          ],
          [
           737,
           "Sirens (1994)",
           59
          ],
          [
           738,
           "Threesome (1994)",
           31
          ],
          [
           739,
           "Pretty Woman (1990)",
           164
          ],
          [
           740,
           "Jane Eyre (1996)",
           63
          ],
          [
           741,
           "Last Supper, The (1995)",
           58
          ],
          [
           742,
           "Ransom (1996)",
           267
          ],
          [
           743,
           "Crow: City of Angels, The (1996)",
           39
          ],
          [
           744,
           "Michael Collins (1996)",
           92
          ],
          [
           745,
           "Ruling Class, The (1972)",
           16
          ],
          [
           746,
           "Real Genius (1985)",
           119
          ],
          [
           747,
           "Benny & Joon (1993)",
           102
          ],
          [
           748,
           "Saint, The (1997)",
           316
          ],
          [
           749,
           "MatchMaker, The (1997)",
           51
          ],
          [
           750,
           "Amistad (1997)",
           124
          ],
          [
           751,
           "Tomorrow Never Dies (1997)",
           180
          ],
          [
           752,
           "Replacement Killers, The (1998)",
           39
          ],
          [
           753,
           "Burnt By the Sun (1994)",
           24
          ],
          [
           754,
           "Red Corner (1997)",
           57
          ],
          [
           755,
           "Jumanji (1995)",
           96
          ],
          [
           756,
           "Father of the Bride Part II (1995)",
           128
          ],
          [
           757,
           "Across the Sea of Time (1995)",
           4
          ],
          [
           758,
           "Lawnmower Man 2: Beyond Cyberspace (1996)",
           21
          ],
          [
           759,
           "Fair Game (1995)",
           11
          ],
          [
           760,
           "Screamers (1995)",
           46
          ],
          [
           761,
           "Nick of Time (1995)",
           44
          ],
          [
           762,
           "Beautiful Girls (1996)",
           115
          ],
          [
           763,
           "Happy Gilmore (1996)",
           149
          ],
          [
           764,
           "If Lucy Fell (1996)",
           29
          ],
          [
           765,
           "Boomerang (1992)",
           32
          ],
          [
           766,
           "Man of the Year (1995)",
           9
          ],
          [
           767,
           "Addiction, The (1995)",
           11
          ],
          [
           768,
           "Casper (1995)",
           52
          ],
          [
           769,
           "Congo (1995)",
           42
          ],
          [
           770,
           "Devil in a Blue Dress (1995)",
           57
          ],
          [
           771,
           "Johnny Mnemonic (1995)",
           41
          ],
          [
           772,
           "Kids (1995)",
           49
          ],
          [
           773,
           "Mute Witness (1994)",
           17
          ],
          [
           774,
           "Prophecy, The (1995)",
           32
          ],
          [
           775,
           "Something to Talk About (1995)",
           26
          ],
          [
           776,
           "Three Wishes (1995)",
           9
          ],
          [
           777,
           "Castle Freak (1995)",
           4
          ],
          [
           778,
           "Don Juan DeMarco (1995)",
           76
          ],
          [
           779,
           "Drop Zone (1994)",
           31
          ],
          [
           780,
           "Dumb & Dumber (1994)",
           69
          ],
          [
           781,
           "French Kiss (1995)",
           84
          ],
          [
           782,
           "Little Odessa (1994)",
           10
          ],
          [
           783,
           "Milk Money (1994)",
           37
          ],
          [
           784,
           "Beyond Bedlam (1993)",
           2
          ],
          [
           785,
           "Only You (1994)",
           39
          ],
          [
           786,
           "Perez Family, The (1995)",
           14
          ],
          [
           787,
           "Roommates (1995)",
           13
          ],
          [
           788,
           "Relative Fear (1994)",
           3
          ],
          [
           789,
           "Swimming with Sharks (1995)",
           47
          ],
          [
           790,
           "Tommy Boy (1995)",
           66
          ],
          [
           791,
           "Baby-Sitters Club, The (1995)",
           10
          ],
          [
           792,
           "Bullets Over Broadway (1994)",
           86
          ],
          [
           793,
           "Crooklyn (1994)",
           10
          ],
          [
           794,
           "It Could Happen to You (1994)",
           46
          ],
          [
           795,
           "Richie Rich (1994)",
           21
          ],
          [
           796,
           "Speechless (1994)",
           36
          ],
          [
           797,
           "Timecop (1994)",
           31
          ],
          [
           798,
           "Bad Company (1995)",
           9
          ],
          [
           799,
           "Boys Life (1995)",
           5
          ],
          [
           800,
           "In the Mouth of Madness (1995)",
           26
          ],
          [
           801,
           "Air Up There, The (1994)",
           16
          ],
          [
           802,
           "Hard Target (1993)",
           40
          ],
          [
           803,
           "Heaven & Earth (1993)",
           9
          ],
          [
           804,
           "Jimmy Hollywood (1994)",
           8
          ],
          [
           805,
           "Manhattan Murder Mystery (1993)",
           27
          ],
          [
           806,
           "Menace II Society (1993)",
           50
          ],
          [
           807,
           "Poetic Justice (1993)",
           9
          ],
          [
           808,
           "Program, The (1993)",
           31
          ],
          [
           809,
           "Rising Sun (1993)",
           43
          ],
          [
           810,
           "Shadow, The (1994)",
           45
          ],
          [
           811,
           "Thirty-Two Short Films About Glenn Gould (1993)",
           18
          ],
          [
           812,
           "Andre (1994)",
           18
          ],
          [
           813,
           "Celluloid Closet, The (1995)",
           56
          ],
          [
           814,
           "Great Day in Harlem, A (1994)",
           1
          ],
          [
           815,
           "One Fine Day (1996)",
           112
          ],
          [
           816,
           "Candyman: Farewell to the Flesh (1995)",
           21
          ],
          [
           817,
           "Frisk (1995)",
           3
          ],
          [
           818,
           "Girl 6 (1996)",
           25
          ],
          [
           819,
           "Eddie (1996)",
           40
          ],
          [
           820,
           "Space Jam (1996)",
           93
          ],
          [
           821,
           "Mrs. Winterbourne (1996)",
           22
          ],
          [
           822,
           "Faces (1968)",
           4
          ],
          [
           823,
           "Mulholland Falls (1996)",
           82
          ],
          [
           824,
           "Great White Hype, The (1996)",
           49
          ],
          [
           825,
           "Arrival, The (1996)",
           83
          ],
          [
           826,
           "Phantom, The (1996)",
           80
          ],
          [
           827,
           "Daylight (1996)",
           57
          ],
          [
           828,
           "Alaska (1996)",
           13
          ],
          [
           829,
           "Fled (1996)",
           34
          ],
          [
           830,
           "Power 98 (1995)",
           1
          ],
          [
           831,
           "Escape from L.A. (1996)",
           91
          ],
          [
           832,
           "Bogus (1996)",
           22
          ],
          [
           833,
           "Bulletproof (1996)",
           49
          ],
          [
           834,
           "Halloween: The Curse of Michael Myers (1995)",
           25
          ],
          [
           835,
           "Gay Divorcee, The (1934)",
           15
          ],
          [
           836,
           "Ninotchka (1939)",
           26
          ],
          [
           837,
           "Meet John Doe (1941)",
           25
          ],
          [
           838,
           "In the Line of Duty 2 (1987)",
           4
          ],
          [
           839,
           "Loch Ness (1995)",
           4
          ],
          [
           840,
           "Last Man Standing (1996)",
           53
          ],
          [
           841,
           "Glimmer Man, The (1996)",
           48
          ],
          [
           842,
           "Pollyanna (1960)",
           27
          ],
          [
           843,
           "Shaggy Dog, The (1959)",
           30
          ],
          [
           844,
           "Freeway (1996)",
           42
          ],
          [
           845,
           "That Thing You Do! (1996)",
           176
          ],
          [
           846,
           "To Gillian on Her 37th Birthday (1996)",
           44
          ],
          [
           847,
           "Looking for Richard (1996)",
           55
          ],
          [
           848,
           "Murder, My Sweet (1944)",
           9
          ],
          [
           849,
           "Days of Thunder (1990)",
           53
          ],
          [
           850,
           "Perfect Candidate, A (1996)",
           4
          ],
          [
           851,
           "Two or Three Things I Know About Her (1966)",
           4
          ],
          [
           852,
           "Bloody Child, The (1996)",
           1
          ],
          [
           853,
           "Braindead (1992)",
           14
          ],
          [
           854,
           "Bad Taste (1987)",
           16
          ],
          [
           855,
           "Diva (1981)",
           66
          ],
          [
           856,
           "Night on Earth (1991)",
           36
          ],
          [
           857,
           "Paris Was a Woman (1995)",
           1
          ],
          [
           858,
           "Amityville: Dollhouse (1996)",
           3
          ],
          [
           859,
           "April Fool's Day (1986)",
           15
          ],
          [
           860,
           "Believers, The (1987)",
           16
          ],
          [
           861,
           "Nosferatu a Venezia (1986)",
           3
          ],
          [
           862,
           "Jingle All the Way (1996)",
           18
          ],
          [
           863,
           "Garden of Finzi-Contini, The (Giardino dei Finzi-Contini, Il) (1970)",
           24
          ],
          [
           864,
           "My Fellow Americans (1996)",
           86
          ],
          [
           865,
           "Ice Storm, The (1997)",
           21
          ],
          [
           866,
           "Michael (1996)",
           119
          ],
          [
           867,
           "Whole Wide World, The (1996)",
           6
          ],
          [
           868,
           "Hearts and Minds (1996)",
           5
          ],
          [
           869,
           "Fools Rush In (1997)",
           24
          ],
          [
           870,
           "Touch (1997)",
           9
          ],
          [
           871,
           "Vegas Vacation (1997)",
           75
          ],
          [
           872,
           "Love Jones (1997)",
           42
          ],
          [
           873,
           "Picture Perfect (1997)",
           81
          ],
          [
           874,
           "Career Girls (1997)",
           39
          ],
          [
           875,
           "She's So Lovely (1997)",
           53
          ],
          [
           876,
           "Money Talks (1997)",
           47
          ],
          [
           877,
           "Excess Baggage (1997)",
           52
          ],
          [
           878,
           "That Darn Cat! (1997)",
           33
          ],
          [
           879,
           "Peacemaker, The (1997)",
           136
          ],
          [
           880,
           "Soul Food (1997)",
           59
          ],
          [
           881,
           "Money Talks (1997)",
           45
          ],
          [
           882,
           "Washington Square (1997)",
           34
          ],
          [
           883,
           "Telling Lies in America (1997)",
           13
          ],
          [
           884,
           "Year of the Horse (1997)",
           7
          ],
          [
           885,
           "Phantoms (1998)",
           13
          ],
          [
           886,
           "Life Less Ordinary, A (1997)",
           53
          ],
          [
           887,
           "Eve's Bayou (1997)",
           64
          ],
          [
           888,
           "One Night Stand (1997)",
           15
          ],
          [
           889,
           "Tango Lesson, The (1997)",
           13
          ],
          [
           890,
           "Mortal Kombat: Annihilation (1997)",
           43
          ],
          [
           891,
           "Bent (1997)",
           6
          ],
          [
           892,
           "Flubber (1997)",
           53
          ],
          [
           893,
           "For Richer or Poorer (1997)",
           14
          ],
          [
           894,
           "Home Alone 3 (1997)",
           19
          ],
          [
           895,
           "Scream 2 (1997)",
           106
          ],
          [
           896,
           "Sweet Hereafter, The (1997)",
           44
          ],
          [
           897,
           "Time Tracers (1995)",
           2
          ],
          [
           898,
           "Postman, The (1997)",
           58
          ],
          [
           899,
           "Winter Guest, The (1997)",
           9
          ],
          [
           900,
           "Kundun (1997)",
           42
          ],
          [
           901,
           "Mr. Magoo (1997)",
           12
          ],
          [
           902,
           "Big Lebowski, The (1998)",
           42
          ],
          [
           903,
           "Afterglow (1997)",
           18
          ],
          [
           904,
           "Ma vie en rose (My Life in Pink) (1997)",
           20
          ],
          [
           905,
           "Great Expectations (1998)",
           27
          ],
          [
           906,
           "Oscar & Lucinda (1997)",
           21
          ],
          [
           907,
           "Vermin (1998)",
           2
          ],
          [
           908,
           "Half Baked (1998)",
           20
          ],
          [
           909,
           "Dangerous Beauty (1998)",
           13
          ],
          [
           910,
           "Nil By Mouth (1997)",
           4
          ],
          [
           911,
           "Twilight (1998)",
           4
          ],
          [
           912,
           "U.S. Marshalls (1998)",
           9
          ],
          [
           913,
           "Love and Death on Long Island (1997)",
           2
          ],
          [
           914,
           "Wild Things (1998)",
           11
          ],
          [
           915,
           "Primary Colors (1998)",
           13
          ],
          [
           916,
           "Lost in Space (1998)",
           18
          ],
          [
           917,
           "Mercury Rising (1998)",
           7
          ],
          [
           918,
           "City of Angels (1998)",
           8
          ],
          [
           919,
           "City of Lost Children, The (1995)",
           96
          ],
          [
           920,
           "Two Bits (1995)",
           5
          ],
          [
           921,
           "Farewell My Concubine (1993)",
           46
          ],
          [
           922,
           "Dead Man (1995)",
           34
          ],
          [
           923,
           "Raise the Red Lantern (1991)",
           58
          ],
          [
           924,
           "White Squall (1996)",
           85
          ],
          [
           925,
           "Unforgettable (1996)",
           34
          ],
          [
           926,
           "Down Periscope (1996)",
           101
          ],
          [
           927,
           "Flower of My Secret, The (Flor de mi secreto, La) (1995)",
           6
          ],
          [
           928,
           "Craft, The (1996)",
           104
          ],
          [
           929,
           "Harriet the Spy (1996)",
           40
          ],
          [
           930,
           "Chain Reaction (1996)",
           80
          ],
          [
           931,
           "Island of Dr. Moreau, The (1996)",
           57
          ],
          [
           932,
           "First Kid (1996)",
           40
          ],
          [
           933,
           "Funeral, The (1996)",
           21
          ],
          [
           934,
           "Preacher's Wife, The (1996)",
           68
          ],
          [
           935,
           "Paradise Road (1997)",
           7
          ],
          [
           936,
           "Brassed Off (1996)",
           32
          ],
          [
           937,
           "Thousand Acres, A (1997)",
           37
          ],
          [
           938,
           "Smile Like Yours, A (1997)",
           25
          ],
          [
           939,
           "Murder in the First (1995)",
           60
          ],
          [
           940,
           "Airheads (1994)",
           32
          ],
          [
           941,
           "With Honors (1994)",
           46
          ],
          [
           942,
           "What's Love Got to Do with It (1993)",
           45
          ],
          [
           943,
           "Killing Zoe (1994)",
           40
          ],
          [
           944,
           "Renaissance Man (1994)",
           43
          ],
          [
           945,
           "Charade (1963)",
           40
          ],
          [
           946,
           "Fox and the Hound, The (1981)",
           61
          ],
          [
           947,
           "Big Blue, The (Grand bleu, Le) (1988)",
           17
          ],
          [
           948,
           "Booty Call (1997)",
           48
          ],
          [
           949,
           "How to Make an American Quilt (1995)",
           71
          ],
          [
           950,
           "Georgia (1995)",
           30
          ],
          [
           951,
           "Indian in the Cupboard, The (1995)",
           39
          ],
          [
           952,
           "Blue in the Face (1995)",
           45
          ],
          [
           953,
           "Unstrung Heroes (1995)",
           22
          ],
          [
           954,
           "Unzipped (1995)",
           11
          ],
          [
           955,
           "Before Sunrise (1995)",
           49
          ],
          [
           956,
           "Nobody's Fool (1994)",
           46
          ],
          [
           957,
           "Pushing Hands (1992)",
           2
          ],
          [
           958,
           "To Live (Huozhe) (1994)",
           14
          ],
          [
           959,
           "Dazed and Confused (1993)",
           64
          ],
          [
           960,
           "Naked (1993)",
           25
          ],
          [
           961,
           "Orlando (1993)",
           34
          ],
          [
           962,
           "Ruby in Paradise (1993)",
           23
          ],
          [
           963,
           "Some Folks Call It a Sling Blade (1993)",
           41
          ],
          [
           964,
           "Month by the Lake, A (1995)",
           9
          ],
          [
           965,
           "Funny Face (1957)",
           21
          ],
          [
           966,
           "Affair to Remember, An (1957)",
           26
          ],
          [
           967,
           "Little Lord Fauntleroy (1936)",
           12
          ],
          [
           968,
           "Inspector General, The (1949)",
           18
          ],
          [
           969,
           "Winnie the Pooh and the Blustery Day (1968)",
           75
          ],
          [
           970,
           "Hear My Song (1991)",
           8
          ],
          [
           971,
           "Mediterraneo (1991)",
           34
          ],
          [
           972,
           "Passion Fish (1992)",
           28
          ],
          [
           973,
           "Grateful Dead (1995)",
           4
          ],
          [
           974,
           "Eye for an Eye (1996)",
           32
          ],
          [
           975,
           "Fear (1996)",
           44
          ],
          [
           976,
           "Solo (1996)",
           12
          ],
          [
           977,
           "Substitute, The (1996)",
           49
          ],
          [
           978,
           "Heaven's Prisoners (1996)",
           27
          ],
          [
           979,
           "Trigger Effect, The (1996)",
           35
          ],
          [
           980,
           "Mother Night (1996)",
           22
          ],
          [
           981,
           "Dangerous Ground (1997)",
           8
          ],
          [
           982,
           "Maximum Risk (1996)",
           20
          ],
          [
           983,
           "Rich Man's Wife, The (1996)",
           15
          ],
          [
           984,
           "Shadow Conspiracy (1997)",
           44
          ],
          [
           985,
           "Blood & Wine (1997)",
           22
          ],
          [
           986,
           "Turbulence (1997)",
           23
          ],
          [
           987,
           "Underworld (1997)",
           4
          ],
          [
           988,
           "Beautician and the Beast, The (1997)",
           86
          ],
          [
           989,
           "Cats Don't Dance (1997)",
           32
          ],
          [
           990,
           "Anna Karenina (1997)",
           33
          ],
          [
           991,
           "Keys to Tulsa (1997)",
           25
          ],
          [
           992,
           "Head Above Water (1996)",
           4
          ],
          [
           993,
           "Hercules (1997)",
           66
          ],
          [
           994,
           "Last Time I Committed Suicide, The (1997)",
           7
          ],
          [
           995,
           "Kiss Me, Guido (1997)",
           31
          ],
          [
           996,
           "Big Green, The (1995)",
           14
          ],
          [
           997,
           "Stuart Saves His Family (1995)",
           16
          ],
          [
           998,
           "Cabin Boy (1994)",
           16
          ],
          [
           999,
           "Clean Slate (1994)",
           10
          ],
          [
           1000,
           "Lightning Jack (1994)",
           10
          ],
          [
           1001,
           "Stupids, The (1996)",
           17
          ],
          [
           1002,
           "Pest, The (1997)",
           8
          ],
          [
           1003,
           "That Darn Cat! (1997)",
           8
          ],
          [
           1004,
           "Geronimo: An American Legend (1993)",
           9
          ],
          [
           1005,
           "Double vie de Véronique, La (Double Life of Veronique, The) (1991)",
           22
          ],
          [
           1006,
           "Until the End of the World (Bis ans Ende der Welt) (1991)",
           23
          ],
          [
           1007,
           "Waiting for Guffman (1996)",
           47
          ],
          [
           1008,
           "I Shot Andy Warhol (1996)",
           37
          ],
          [
           1009,
           "Stealing Beauty (1996)",
           64
          ],
          [
           1010,
           "Basquiat (1996)",
           44
          ],
          [
           1011,
           "2 Days in the Valley (1996)",
           93
          ],
          [
           1012,
           "Private Parts (1997)",
           100
          ],
          [
           1013,
           "Anaconda (1997)",
           38
          ],
          [
           1014,
           "Romy and Michele's High School Reunion (1997)",
           98
          ],
          [
           1015,
           "Shiloh (1997)",
           12
          ],
          [
           1016,
           "Con Air (1997)",
           137
          ],
          [
           1017,
           "Trees Lounge (1996)",
           50
          ],
          [
           1018,
           "Tie Me Up! Tie Me Down! (1990)",
           32
          ],
          [
           1019,
           "Die xue shuang xiong (Killer, The) (1989)",
           31
          ],
          [
           1020,
           "Gaslight (1944)",
           35
          ],
          [
           1021,
           "8 1/2 (1963)",
           38
          ],
          [
           1022,
           "Fast, Cheap & Out of Control (1997)",
           32
          ],
          [
           1023,
           "Fathers' Day (1997)",
           31
          ],
          [
           1024,
           "Mrs. Dalloway (1997)",
           15
          ],
          [
           1025,
           "Fire Down Below (1997)",
           44
          ],
          [
           1026,
           "Lay of the Land, The (1997)",
           4
          ],
          [
           1027,
           "Shooter, The (1995)",
           3
          ],
          [
           1028,
           "Grumpier Old Men (1995)",
           148
          ],
          [
           1029,
           "Jury Duty (1995)",
           14
          ],
          [
           1030,
           "Beverly Hillbillies, The (1993)",
           20
          ],
          [
           1031,
           "Lassie (1994)",
           7
          ],
          [
           1032,
           "Little Big League (1994)",
           16
          ],
          [
           1033,
           "Homeward Bound II: Lost in San Francisco (1996)",
           32
          ],
          [
           1034,
           "Quest, The (1996)",
           27
          ],
          [
           1035,
           "Cool Runnings (1993)",
           68
          ],
          [
           1036,
           "Drop Dead Fred (1991)",
           24
          ],
          [
           1037,
           "Grease 2 (1982)",
           24
          ],
          [
           1038,
           "Switchback (1997)",
           17
          ],
          [
           1039,
           "Hamlet (1996)",
           90
          ],
          [
           1040,
           "Two if by Sea (1996)",
           25
          ],
          [
           1041,
           "Forget Paris (1995)",
           62
          ],
          [
           1042,
           "Just Cause (1995)",
           28
          ],
          [
           1043,
           "Rent-a-Kid (1995)",
           8
          ],
          [
           1044,
           "Paper, The (1994)",
           40
          ],
          [
           1045,
           "Fearless (1993)",
           25
          ],
          [
           1046,
           "Malice (1993)",
           46
          ],
          [
           1047,
           "Multiplicity (1996)",
           134
          ],
          [
           1048,
           "She's the One (1996)",
           73
          ],
          [
           1049,
           "House Arrest (1996)",
           25
          ],
          [
           1050,
           "Ghost and Mrs. Muir, The (1947)",
           43
          ],
          [
           1051,
           "Associate, The (1996)",
           41
          ],
          [
           1052,
           "Dracula: Dead and Loving It (1995)",
           25
          ],
          [
           1053,
           "Now and Then (1995)",
           24
          ],
          [
           1054,
           "Mr. Wrong (1996)",
           23
          ],
          [
           1055,
           "Simple Twist of Fate, A (1994)",
           10
          ],
          [
           1056,
           "Cronos (1992)",
           10
          ],
          [
           1057,
           "Pallbearer, The (1996)",
           22
          ],
          [
           1058,
           "War, The (1994)",
           15
          ],
          [
           1059,
           "Don't Be a Menace to South Central While Drinking Your Juice in the Hood (1996)",
           35
          ],
          [
           1060,
           "Adventures of Pinocchio, The (1996)",
           39
          ],
          [
           1061,
           "Evening Star, The (1996)",
           29
          ],
          [
           1062,
           "Four Days in September (1997)",
           12
          ],
          [
           1063,
           "Little Princess, A (1995)",
           41
          ],
          [
           1064,
           "Crossfire (1947)",
           4
          ],
          [
           1065,
           "Koyaanisqatsi (1983)",
           53
          ],
          [
           1066,
           "Balto (1995)",
           16
          ],
          [
           1067,
           "Bottle Rocket (1996)",
           44
          ],
          [
           1068,
           "Star Maker, The (Uomo delle stelle, L') (1995)",
           12
          ],
          [
           1069,
           "Amateur (1994)",
           18
          ],
          [
           1070,
           "Living in Oblivion (1995)",
           27
          ],
          [
           1071,
           "Party Girl (1995)",
           16
          ],
          [
           1072,
           "Pyromaniac's Love Story, A (1995)",
           7
          ],
          [
           1073,
           "Shallow Grave (1994)",
           66
          ],
          [
           1074,
           "Reality Bites (1994)",
           77
          ],
          [
           1075,
           "Man of No Importance, A (1994)",
           7
          ],
          [
           1076,
           "Pagemaster, The (1994)",
           12
          ],
          [
           1077,
           "Love and a .45 (1994)",
           8
          ],
          [
           1078,
           "Oliver & Company (1988)",
           22
          ],
          [
           1079,
           "Joe's Apartment (1996)",
           45
          ],
          [
           1080,
           "Celestial Clockwork (1994)",
           2
          ],
          [
           1081,
           "Curdled (1996)",
           8
          ],
          [
           1082,
           "Female Perversions (1996)",
           8
          ],
          [
           1083,
           "Albino Alligator (1996)",
           6
          ],
          [
           1084,
           "Anne Frank Remembered (1995)",
           21
          ],
          [
           1085,
           "Carried Away (1996)",
           11
          ],
          [
           1086,
           "It's My Party (1995)",
           21
          ],
          [
           1087,
           "Bloodsport 2 (1995)",
           10
          ],
          [
           1088,
           "Double Team (1997)",
           13
          ],
          [
           1089,
           "Speed 2: Cruise Control (1997)",
           38
          ],
          [
           1090,
           "Sliver (1993)",
           37
          ],
          [
           1091,
           "Pete's Dragon (1977)",
           43
          ],
          [
           1092,
           "Dear God (1996)",
           12
          ],
          [
           1093,
           "Live Nude Girls (1995)",
           23
          ],
          [
           1094,
           "Thin Line Between Love and Hate, A (1996)",
           12
          ],
          [
           1095,
           "High School High (1996)",
           29
          ],
          [
           1096,
           "Commandments (1997)",
           3
          ],
          [
           1097,
           "Hate (Haine, La) (1995)",
           18
          ],
          [
           1098,
           "Flirting With Disaster (1996)",
           42
          ],
          [
           1099,
           "Red Firecracker, Green Firecracker (1994)",
           13
          ],
          [
           1100,
           "What Happened Was... (1994)",
           8
          ],
          [
           1101,
           "Six Degrees of Separation (1993)",
           74
          ],
          [
           1102,
           "Two Much (1996)",
           7
          ],
          [
           1103,
           "Trust (1990)",
           19
          ],
          [
           1104,
           "C'est arrivé près de chez vous (1992)",
           4
          ],
          [
           1105,
           "Firestorm (1998)",
           18
          ],
          [
           1106,
           "Newton Boys, The (1998)",
           4
          ],
          [
           1107,
           "Beyond Rangoon (1995)",
           18
          ],
          [
           1108,
           "Feast of July (1995)",
           5
          ],
          [
           1109,
           "Death and the Maiden (1994)",
           28
          ],
          [
           1110,
           "Tank Girl (1995)",
           41
          ],
          [
           1111,
           "Double Happiness (1994)",
           7
          ],
          [
           1112,
           "Cobb (1994)",
           15
          ],
          [
           1113,
           "Mrs. Parker and the Vicious Circle (1994)",
           22
          ],
          [
           1114,
           "Faithful (1996)",
           10
          ],
          [
           1115,
           "Twelfth Night (1996)",
           29
          ],
          [
           1116,
           "Mark of Zorro, The (1940)",
           13
          ],
          [
           1117,
           "Surviving Picasso (1996)",
           19
          ],
          [
           1118,
           "Up in Smoke (1978)",
           47
          ],
          [
           1119,
           "Some Kind of Wonderful (1987)",
           59
          ],
          [
           1120,
           "I'm Not Rappaport (1996)",
           17
          ],
          [
           1121,
           "Umbrellas of Cherbourg, The (Parapluies de Cherbourg, Les) (1964)",
           21
          ],
          [
           1122,
           "They Made Me a Criminal (1939)",
           1
          ],
          [
           1123,
           "Last Time I Saw Paris, The (1954)",
           3
          ],
          [
           1124,
           "Farewell to Arms, A (1932)",
           12
          ],
          [
           1125,
           "Innocents, The (1961)",
           4
          ],
          [
           1126,
           "Old Man and the Sea, The (1958)",
           32
          ],
          [
           1127,
           "Truman Show, The (1998)",
           11
          ],
          [
           1128,
           "Heidi Fleiss: Hollywood Madam (1995) ",
           13
          ],
          [
           1129,
           "Chungking Express (1994)",
           28
          ],
          [
           1130,
           "Jupiter's Wife (1994)",
           1
          ],
          [
           1131,
           "Safe (1995)",
           13
          ],
          [
           1132,
           "Feeling Minnesota (1996)",
           32
          ],
          [
           1133,
           "Escape to Witch Mountain (1975)",
           30
          ],
          [
           1134,
           "Get on the Bus (1996)",
           38
          ],
          [
           1135,
           "Doors, The (1991)",
           46
          ],
          [
           1136,
           "Ghosts of Mississippi (1996)",
           29
          ],
          [
           1137,
           "Beautiful Thing (1996)",
           29
          ],
          [
           1138,
           "Best Men (1997)",
           5
          ],
          [
           1139,
           "Hackers (1995)",
           33
          ],
          [
           1140,
           "Road to Wellville, The (1994)",
           17
          ],
          [
           1141,
           "War Room, The (1993)",
           9
          ],
          [
           1142,
           "When We Were Kings (1996)",
           44
          ],
          [
           1143,
           "Hard Eight (1996)",
           15
          ],
          [
           1144,
           "Quiet Room, The (1996)",
           3
          ],
          [
           1145,
           "Blue Chips (1994)",
           9
          ],
          [
           1146,
           "Calendar Girl (1993)",
           3
          ],
          [
           1147,
           "My Family (1995)",
           21
          ],
          [
           1148,
           "Tom & Viv (1994)",
           9
          ],
          [
           1149,
           "Walkabout (1971)",
           26
          ],
          [
           1150,
           "Last Dance (1996)",
           9
          ],
          [
           1151,
           "Original Gangstas (1996)",
           7
          ],
          [
           1152,
           "In Love and War (1996)",
           28
          ],
          [
           1153,
           "Backbeat (1993)",
           19
          ],
          [
           1154,
           "Alphaville (1965)",
           12
          ],
          [
           1155,
           "Rendezvous in Paris (Rendez-vous de Paris, Les) (1995)",
           3
          ],
          [
           1156,
           "Cyclo (1995)",
           1
          ],
          [
           1157,
           "Relic, The (1997)",
           25
          ],
          [
           1158,
           "Fille seule, La (A Single Girl) (1995)",
           4
          ],
          [
           1159,
           "Stalker (1979)",
           11
          ],
          [
           1160,
           "Love! Valour! Compassion! (1997)",
           26
          ],
          [
           1161,
           "Palookaville (1996)",
           13
          ],
          [
           1162,
           "Phat Beach (1996)",
           5
          ],
          [
           1163,
           "Portrait of a Lady, The (1996)",
           25
          ],
          [
           1164,
           "Zeus and Roxanne (1997)",
           6
          ],
          [
           1165,
           "Big Bully (1996)",
           14
          ],
          [
           1166,
           "Love & Human Remains (1993)",
           12
          ],
          [
           1167,
           "Sum of Us, The (1994)",
           11
          ],
          [
           1168,
           "Little Buddha (1993)",
           22
          ],
          [
           1169,
           "Fresh (1994)",
           10
          ],
          [
           1170,
           "Spanking the Monkey (1994)",
           27
          ],
          [
           1171,
           "Wild Reeds (1994)",
           14
          ],
          [
           1172,
           "Women, The (1939)",
           15
          ],
          [
           1173,
           "Bliss (1997)",
           7
          ],
          [
           1174,
           "Caught (1996)",
           8
          ],
          [
           1175,
           "Hugo Pool (1997)",
           5
          ],
          [
           1176,
           "Welcome To Sarajevo (1997)",
           22
          ],
          [
           1177,
           "Dunston Checks In (1996)",
           7
          ],
          [
           1178,
           "Major Payne (1994)",
           19
          ],
          [
           1179,
           "Man of the House (1995)",
           9
          ],
          [
           1180,
           "I Love Trouble (1994)",
           10
          ],
          [
           1181,
           "Low Down Dirty Shame, A (1994)",
           10
          ],
          [
           1182,
           "Cops and Robbersons (1994)",
           13
          ],
          [
           1183,
           "Cowboy Way, The (1994)",
           19
          ],
          [
           1184,
           "Endless Summer 2, The (1994)",
           10
          ],
          [
           1185,
           "In the Army Now (1994)",
           18
          ],
          [
           1186,
           "Inkwell, The (1994)",
           3
          ],
          [
           1187,
           "Switchblade Sisters (1975)",
           13
          ],
          [
           1188,
           "Young Guns II (1990)",
           44
          ],
          [
           1189,
           "Prefontaine (1997)",
           3
          ],
          [
           1190,
           "That Old Feeling (1997)",
           11
          ],
          [
           1191,
           "Letter From Death Row, A (1998)",
           3
          ],
          [
           1192,
           "Boys of St. Vincent, The (1993)",
           13
          ],
          [
           1193,
           "Before the Rain (Pred dozhdot) (1994)",
           10
          ],
          [
           1194,
           "Once Were Warriors (1994)",
           31
          ],
          [
           1195,
           "Strawberry and Chocolate (Fresa y chocolate) (1993)",
           11
          ],
          [
           1196,
           "Savage Nights (Nuits fauves, Les) (1992)",
           3
          ],
          [
           1197,
           "Family Thing, A (1996)",
           45
          ],
          [
           1198,
           "Purple Noon (1960)",
           7
          ],
          [
           1199,
           "Cemetery Man (Dellamorte Dellamore) (1994)",
           23
          ],
          [
           1200,
           "Kim (1950)",
           7
          ],
          [
           1201,
           "Marlene Dietrich: Shadow and Light (1996) ",
           1
          ],
          [
           1202,
           "Maybe, Maybe Not (Bewegte Mann, Der) (1994)",
           8
          ],
          [
           1203,
           "Top Hat (1935)",
           21
          ],
          [
           1204,
           "To Be or Not to Be (1942)",
           18
          ],
          [
           1205,
           "Secret Agent, The (1996)",
           6
          ],
          [
           1206,
           "Amos & Andrew (1993)",
           19
          ],
          [
           1207,
           "Jade (1995)",
           17
          ],
          [
           1208,
           "Kiss of Death (1995)",
           20
          ],
          [
           1209,
           "Mixed Nuts (1994)",
           15
          ],
          [
           1210,
           "Virtuosity (1995)",
           38
          ],
          [
           1211,
           "Blue Sky (1994)",
           12
          ],
          [
           1212,
           "Flesh and Bone (1993)",
           6
          ],
          [
           1213,
           "Guilty as Sin (1993)",
           6
          ],
          [
           1214,
           "In the Realm of the Senses (Ai no corrida) (1976)",
           9
          ],
          [
           1215,
           "Barb Wire (1996)",
           30
          ],
          [
           1216,
           "Kissed (1996)",
           6
          ],
          [
           1217,
           "Assassins (1995)",
           39
          ],
          [
           1218,
           "Friday (1995)",
           26
          ],
          [
           1219,
           "Goofy Movie, A (1995)",
           20
          ],
          [
           1220,
           "Higher Learning (1995)",
           30
          ],
          [
           1221,
           "When a Man Loves a Woman (1994)",
           39
          ],
          [
           1222,
           "Judgment Night (1993)",
           25
          ],
          [
           1223,
           "King of the Hill (1993)",
           4
          ],
          [
           1224,
           "Scout, The (1994)",
           12
          ],
          [
           1225,
           "Angus (1995)",
           14
          ],
          [
           1226,
           "Night Falls on Manhattan (1997)",
           32
          ],
          [
           1227,
           "Awfully Big Adventure, An (1995)",
           8
          ],
          [
           1228,
           "Under Siege 2: Dark Territory (1995)",
           48
          ],
          [
           1229,
           "Poison Ivy II (1995)",
           13
          ],
          [
           1230,
           "Ready to Wear (Pret-A-Porter) (1994)",
           18
          ],
          [
           1231,
           "Marked for Death (1990)",
           22
          ],
          [
           1232,
           "Madonna: Truth or Dare (1991)",
           17
          ],
          [
           1233,
           "Nénette et Boni (1996)",
           6
          ],
          [
           1234,
           "Chairman of the Board (1998)",
           8
          ],
          [
           1235,
           "Big Bang Theory, The (1994)",
           1
          ],
          [
           1236,
           "Other Voices, Other Rooms (1997)",
           1
          ],
          [
           1237,
           "Twisted (1996)",
           6
          ],
          [
           1238,
           "Full Speed (1996)",
           8
          ],
          [
           1239,
           "Cutthroat Island (1995)",
           18
          ],
          [
           1240,
           "Ghost in the Shell (Kokaku kidotai) (1995)",
           26
          ],
          [
           1241,
           "Van, The (1996)",
           6
          ],
          [
           1242,
           "Old Lady Who Walked in the Sea, The (Vieille qui marchait dans la mer, La) (1991)",
           5
          ],
          [
           1243,
           "Night Flier (1997)",
           7
          ],
          [
           1244,
           "Metro (1997)",
           36
          ],
          [
           1245,
           "Gridlock'd (1997)",
           19
          ],
          [
           1246,
           "Bushwhacked (1995)",
           7
          ],
          [
           1247,
           "Bad Girls (1994)",
           6
          ],
          [
           1248,
           "Blink (1994)",
           19
          ],
          [
           1249,
           "For Love or Money (1993)",
           12
          ],
          [
           1250,
           "Best of the Best 3: No Turning Back (1995)",
           6
          ],
          [
           1251,
           "A Chef in Love (1996)",
           8
          ],
          [
           1252,
           "Contempt (Mépris, Le) (1963)",
           9
          ],
          [
           1253,
           "Tie That Binds, The (1995)",
           7
          ],
          [
           1254,
           "Gone Fishin' (1997)",
           11
          ],
          [
           1255,
           "Broken English (1996)",
           8
          ],
          [
           1256,
           "Designated Mourner, The (1997)",
           3
          ],
          [
           1257,
           "Designated Mourner, The (1997)",
           4
          ],
          [
           1258,
           "Trial and Error (1997)",
           23
          ],
          [
           1259,
           "Pie in the Sky (1995)",
           4
          ],
          [
           1260,
           "Total Eclipse (1995)",
           4
          ],
          [
           1261,
           "Run of the Country, The (1995)",
           4
          ],
          [
           1262,
           "Walking and Talking (1996)",
           8
          ],
          [
           1263,
           "Foxfire (1996)",
           15
          ],
          [
           1264,
           "Nothing to Lose (1994)",
           7
          ],
          [
           1265,
           "Star Maps (1997)",
           19
          ],
          [
           1266,
           "Bread and Chocolate (Pane e cioccolata) (1973)",
           12
          ],
          [
           1267,
           "Clockers (1995)",
           33
          ],
          [
           1268,
           "Bitter Moon (1992)",
           10
          ],
          [
           1269,
           "Love in the Afternoon (1957)",
           10
          ],
          [
           1270,
           "Life with Mikey (1993)",
           7
          ],
          [
           1271,
           "North (1994)",
           7
          ],
          [
           1272,
           "Talking About Sex (1994)",
           5
          ],
          [
           1273,
           "Color of Night (1994)",
           15
          ],
          [
           1274,
           "Robocop 3 (1993)",
           11
          ],
          [
           1275,
           "Killer (Bulletproof Heart) (1994)",
           4
          ],
          [
           1276,
           "Sunset Park (1996)",
           8
          ],
          [
           1277,
           "Set It Off (1996)",
           19
          ],
          [
           1278,
           "Selena (1997)",
           16
          ],
          [
           1279,
           "Wild America (1997)",
           9
          ],
          [
           1280,
           "Gang Related (1997)",
           16
          ],
          [
           1281,
           "Manny & Lo (1996)",
           13
          ],
          [
           1282,
           "Grass Harp, The (1995)",
           9
          ],
          [
           1283,
           "Out to Sea (1997)",
           19
          ],
          [
           1284,
           "Before and After (1996)",
           26
          ],
          [
           1285,
           "Princess Caraboo (1994)",
           15
          ],
          [
           1286,
           "Shall We Dance? (1937)",
           17
          ],
          [
           1287,
           "Ed (1996)",
           6
          ],
          [
           1288,
           "Denise Calls Up (1995)",
           7
          ],
          [
           1289,
           "Jack and Sarah (1995)",
           7
          ],
          [
           1290,
           "Country Life (1994)",
           2
          ],
          [
           1291,
           "Celtic Pride (1996)",
           15
          ],
          [
           1292,
           "Simple Wish, A (1997)",
           3
          ],
          [
           1293,
           "Star Kid (1997)",
           3
          ],
          [
           1294,
           "Ayn Rand: A Sense of Life (1997)",
           7
          ],
          [
           1295,
           "Kicked in the Head (1997)",
           7
          ],
          [
           1296,
           "Indian Summer (1996)",
           20
          ],
          [
           1297,
           "Love Affair (1994)",
           12
          ],
          [
           1298,
           "Band Wagon, The (1953)",
           9
          ],
          [
           1299,
           "Penny Serenade (1941)",
           8
          ],
          [
           1300,
           "'Til There Was You (1997)",
           9
          ],
          [
           1301,
           "Stripes (1981)",
           5
          ],
          [
           1302,
           "Late Bloomers (1996)",
           5
          ],
          [
           1303,
           "Getaway, The (1994)",
           18
          ],
          [
           1304,
           "New York Cop (1996)",
           2
          ],
          [
           1305,
           "National Lampoon's Senior Trip (1995)",
           7
          ],
          [
           1306,
           "Delta of Venus (1994)",
           2
          ],
          [
           1307,
           "Carmen Miranda: Bananas Is My Business (1994)",
           2
          ],
          [
           1308,
           "Babyfever (1994)",
           2
          ],
          [
           1309,
           "Very Natural Thing, A (1974)",
           1
          ],
          [
           1310,
           "Walk in the Sun, A (1945)",
           1
          ],
          [
           1311,
           "Waiting to Exhale (1995)",
           16
          ],
          [
           1312,
           "Pompatus of Love, The (1996)",
           7
          ],
          [
           1313,
           "Palmetto (1998)",
           14
          ],
          [
           1314,
           "Surviving the Game (1994)",
           11
          ],
          [
           1315,
           "Inventing the Abbotts (1997)",
           23
          ],
          [
           1316,
           "Horse Whisperer, The (1998)",
           7
          ],
          [
           1317,
           "Journey of August King, The (1995)",
           4
          ],
          [
           1318,
           "Catwalk (1995)",
           3
          ],
          [
           1319,
           "Neon Bible, The (1995)",
           4
          ],
          [
           1320,
           "Homage (1995)",
           1
          ],
          [
           1321,
           "Open Season (1996)",
           2
          ],
          [
           1322,
           "Metisse (Café au Lait) (1993)",
           6
          ],
          [
           1323,
           "Wooden Man's Bride, The (Wu Kui) (1994)",
           3
          ],
          [
           1324,
           "Loaded (1994)",
           5
          ],
          [
           1325,
           "August (1996)",
           1
          ],
          [
           1326,
           "Boys (1996)",
           6
          ],
          [
           1327,
           "Captives (1994)",
           3
          ],
          [
           1328,
           "Of Love and Shadows (1994)",
           6
          ],
          [
           1329,
           "Low Life, The (1994)",
           1
          ],
          [
           1330,
           "An Unforgettable Summer (1994)",
           4
          ],
          [
           1331,
           "Last Klezmer: Leopold Kozlowski, His Life and Music, The (1995)",
           4
          ],
          [
           1332,
           "My Life and Times With Antonin Artaud (En compagnie d'Antonin Artaud) (1993)",
           2
          ],
          [
           1333,
           "Midnight Dancers (Sibak) (1994)",
           5
          ],
          [
           1334,
           "Somebody to Love (1994)",
           2
          ],
          [
           1335,
           "American Buffalo (1996)",
           11
          ],
          [
           1336,
           "Kazaam (1996)",
           10
          ],
          [
           1337,
           "Larger Than Life (1996)",
           9
          ],
          [
           1338,
           "Two Deaths (1995)",
           4
          ],
          [
           1339,
           "Stefano Quantestorie (1993)",
           1
          ],
          [
           1340,
           "Crude Oasis, The (1995)",
           1
          ],
          [
           1341,
           "Hedd Wyn (1992)",
           1
          ],
          [
           1342,
           "Convent, The (Convento, O) (1995)",
           2
          ],
          [
           1343,
           "Lotto Land (1995)",
           1
          ],
          [
           1344,
           "Story of Xinghua, The (1993)",
           5
          ],
          [
           1345,
           "Day the Sun Turned Cold, The (Tianguo niezi) (1994)",
           2
          ],
          [
           1346,
           "Dingo (1992)",
           5
          ],
          [
           1347,
           "Ballad of Narayama, The (Narayama Bushiko) (1958)",
           4
          ],
          [
           1348,
           "Every Other Weekend (1990)",
           1
          ],
          [
           1349,
           "Mille bolle blu (1993)",
           1
          ],
          [
           1350,
           "Crows and Sparrows (1949)",
           2
          ],
          [
           1351,
           "Lover's Knot (1996)",
           3
          ],
          [
           1352,
           "Shadow of Angels (Schatten der Engel) (1976)",
           1
          ],
          [
           1353,
           "1-900 (1994)",
           5
          ],
          [
           1354,
           "Venice/Venice (1992)",
           2
          ],
          [
           1355,
           "Infinity (1996)",
           6
          ],
          [
           1356,
           "Ed's Next Move (1996)",
           3
          ],
          [
           1357,
           "For the Moment (1994)",
           3
          ],
          [
           1358,
           "The Deadly Cure (1996)",
           2
          ],
          [
           1359,
           "Boys in Venice (1996)",
           2
          ],
          [
           1360,
           "Sexual Life of the Belgians, The (1994)",
           2
          ],
          [
           1361,
           "Search for One-eye Jimmy, The (1996)",
           3
          ],
          [
           1362,
           "American Strays (1996)",
           2
          ],
          [
           1363,
           "Leopard Son, The (1996)",
           1
          ],
          [
           1364,
           "Bird of Prey (1996)",
           1
          ],
          [
           1365,
           "Johnny 100 Pesos (1993)",
           2
          ],
          [
           1366,
           "JLG/JLG - autoportrait de décembre (1994)",
           1
          ],
          [
           1367,
           "Faust (1994)",
           5
          ],
          [
           1368,
           "Mina Tannenbaum (1994)",
           6
          ],
          [
           1369,
           "Forbidden Christ, The (Cristo proibito, Il) (1950)",
           4
          ],
          [
           1370,
           "I Can't Sleep (J'ai pas sommeil) (1994)",
           3
          ],
          [
           1371,
           "Machine, The (1994)",
           2
          ],
          [
           1372,
           "Stranger, The (1994)",
           3
          ],
          [
           1373,
           "Good Morning (1971)",
           1
          ],
          [
           1374,
           "Falling in Love Again (1980)",
           2
          ],
          [
           1375,
           "Cement Garden, The (1993)",
           10
          ],
          [
           1376,
           "Meet Wally Sparks (1997)",
           7
          ],
          [
           1377,
           "Hotel de Love (1996)",
           4
          ],
          [
           1378,
           "Rhyme & Reason (1997)",
           5
          ],
          [
           1379,
           "Love and Other Catastrophes (1996)",
           7
          ],
          [
           1380,
           "Hollow Reed (1996)",
           6
          ],
          [
           1381,
           "Losing Chase (1996)",
           8
          ],
          [
           1382,
           "Bonheur, Le (1965)",
           4
          ],
          [
           1383,
           "Second Jungle Book: Mowgli & Baloo, The (1997)",
           6
          ],
          [
           1384,
           "Squeeze (1996)",
           3
          ],
          [
           1385,
           "Roseanna's Grave (For Roseanna) (1997)",
           5
          ],
          [
           1386,
           "Tetsuo II: Body Hammer (1992)",
           6
          ],
          [
           1387,
           "Fall (1997)",
           3
          ],
          [
           1388,
           "Gabbeh (1996)",
           6
          ],
          [
           1389,
           "Mondo (1996)",
           3
          ],
          [
           1390,
           "Innocent Sleep, The (1995)",
           2
          ],
          [
           1391,
           "For Ever Mozart (1996)",
           3
          ],
          [
           1392,
           "Locusts, The (1997)",
           5
          ],
          [
           1393,
           "Stag (1997)",
           9
          ],
          [
           1394,
           "Swept from the Sea (1997)",
           7
          ],
          [
           1395,
           "Hurricane Streets (1998)",
           6
          ],
          [
           1396,
           "Stonewall (1995)",
           5
          ],
          [
           1397,
           "Of Human Bondage (1934)",
           5
          ],
          [
           1398,
           "Anna (1996)",
           2
          ],
          [
           1399,
           "Stranger in the House (1997)",
           7
          ],
          [
           1400,
           "Picture Bride (1995)",
           10
          ],
          [
           1401,
           "M. Butterfly (1993)",
           18
          ],
          [
           1402,
           "Ciao, Professore! (1993)",
           4
          ],
          [
           1403,
           "Caro Diario (Dear Diary) (1994)",
           4
          ],
          [
           1404,
           "Withnail and I (1987)",
           13
          ],
          [
           1405,
           "Boy's Life 2 (1997)",
           6
          ],
          [
           1406,
           "When Night Is Falling (1995)",
           5
          ],
          [
           1407,
           "Specialist, The (1994)",
           20
          ],
          [
           1408,
           "Gordy (1995)",
           3
          ],
          [
           1409,
           "Swan Princess, The (1994)",
           7
          ],
          [
           1410,
           "Harlem (1993)",
           4
          ],
          [
           1411,
           "Barbarella (1968)",
           28
          ],
          [
           1412,
           "Land Before Time III: The Time of the Great Giving (1995) (V)",
           6
          ],
          [
           1413,
           "Street Fighter (1994)",
           8
          ],
          [
           1414,
           "Coldblooded (1995)",
           1
          ],
          [
           1415,
           "Next Karate Kid, The (1994)",
           9
          ],
          [
           1416,
           "No Escape (1994)",
           5
          ],
          [
           1417,
           "Turning, The (1992)",
           2
          ],
          [
           1418,
           "Joy Luck Club, The (1993)",
           3
          ],
          [
           1419,
           "Highlander III: The Sorcerer (1994)",
           16
          ],
          [
           1420,
           "Gilligan's Island: The Movie (1998)",
           3
          ],
          [
           1421,
           "My Crazy Life (Mi vida loca) (1993)",
           11
          ],
          [
           1422,
           "Suture (1993)",
           4
          ],
          [
           1423,
           "Walking Dead, The (1995)",
           4
          ],
          [
           1424,
           "I Like It Like That (1994)",
           3
          ],
          [
           1425,
           "I'll Do Anything (1994)",
           10
          ],
          [
           1426,
           "Grace of My Heart (1996)",
           8
          ],
          [
           1427,
           "Drunks (1995)",
           5
          ],
          [
           1428,
           "SubUrbia (1997)",
           12
          ],
          [
           1429,
           "Sliding Doors (1998)",
           4
          ],
          [
           1430,
           "Ill Gotten Gains (1997)",
           3
          ],
          [
           1431,
           "Legal Deceit (1997)",
           5
          ],
          [
           1432,
           "Mighty, The (1998)",
           3
          ],
          [
           1433,
           "Men of Means (1998)",
           2
          ],
          [
           1434,
           "Shooting Fish (1997)",
           10
          ],
          [
           1435,
           "Steal Big, Steal Little (1995)",
           7
          ],
          [
           1436,
           "Mr. Jones (1993)",
           2
          ],
          [
           1437,
           "House Party 3 (1994)",
           9
          ],
          [
           1438,
           "Panther (1995)",
           5
          ],
          [
           1439,
           "Jason's Lyric (1994)",
           8
          ],
          [
           1440,
           "Above the Rim (1994)",
           5
          ],
          [
           1441,
           "Moonlight and Valentino (1995)",
           7
          ],
          [
           1442,
           "Scarlet Letter, The (1995)",
           5
          ],
          [
           1443,
           "8 Seconds (1994)",
           4
          ],
          [
           1444,
           "That Darn Cat! (1965)",
           19
          ],
          [
           1445,
           "Ladybird Ladybird (1994)",
           4
          ],
          [
           1446,
           "Bye Bye, Love (1995)",
           15
          ],
          [
           1447,
           "Century (1993)",
           1
          ],
          [
           1448,
           "My Favorite Season (1993)",
           3
          ],
          [
           1449,
           "Pather Panchali (1955)",
           8
          ],
          [
           1450,
           "Golden Earrings (1947)",
           2
          ],
          [
           1451,
           "Foreign Correspondent (1940)",
           15
          ],
          [
           1452,
           "Lady of Burlesque (1943)",
           1
          ],
          [
           1453,
           "Angel on My Shoulder (1946)",
           1
          ],
          [
           1454,
           "Angel and the Badman (1947)",
           6
          ],
          [
           1455,
           "Outlaw, The (1943)",
           2
          ],
          [
           1456,
           "Beat the Devil (1954)",
           7
          ],
          [
           1457,
           "Love Is All There Is (1996)",
           1
          ],
          [
           1458,
           "Damsel in Distress, A (1937)",
           1
          ],
          [
           1459,
           "Madame Butterfly (1995)",
           7
          ],
          [
           1460,
           "Sleepover (1995)",
           1
          ],
          [
           1461,
           "Here Comes Cookie (1935)",
           1
          ],
          [
           1462,
           "Thieves (Voleurs, Les) (1996)",
           7
          ],
          [
           1463,
           "Boys, Les (1997)",
           3
          ],
          [
           1464,
           "Stars Fell on Henrietta, The (1995)",
           3
          ],
          [
           1465,
           "Last Summer in the Hamptons (1995)",
           3
          ],
          [
           1466,
           "Margaret's Museum (1995)",
           6
          ],
          [
           1467,
           "Saint of Fort Washington, The (1993)",
           2
          ],
          [
           1468,
           "Cure, The (1995)",
           6
          ],
          [
           1469,
           "Tom and Huck (1995)",
           12
          ],
          [
           1470,
           "Gumby: The Movie (1995)",
           5
          ],
          [
           1471,
           "Hideaway (1995)",
           9
          ],
          [
           1472,
           "Visitors, The (Visiteurs, Les) (1993)",
           2
          ],
          [
           1473,
           "Little Princess, The (1939)",
           9
          ],
          [
           1474,
           "Nina Takes a Lover (1994)",
           6
          ],
          [
           1475,
           "Bhaji on the Beach (1993)",
           8
          ],
          [
           1476,
           "Raw Deal (1948)",
           1
          ],
          [
           1477,
           "Nightwatch (1997)",
           2
          ],
          [
           1478,
           "Dead Presidents (1995)",
           18
          ],
          [
           1479,
           "Reckless (1995)",
           8
          ],
          [
           1480,
           "Herbie Rides Again (1974)",
           11
          ],
          [
           1481,
           "S.F.W. (1994)",
           2
          ],
          [
           1482,
           "Gate of Heavenly Peace, The (1995)",
           1
          ],
          [
           1483,
           "Man in the Iron Mask, The (1998)",
           12
          ],
          [
           1484,
           "Jerky Boys, The (1994)",
           3
          ],
          [
           1485,
           "Colonel Chabert, Le (1994)",
           4
          ],
          [
           1486,
           "Girl in the Cadillac (1995)",
           1
          ],
          [
           1487,
           "Even Cowgirls Get the Blues (1993)",
           5
          ],
          [
           1488,
           "Germinal (1993)",
           4
          ],
          [
           1489,
           "Chasers (1994)",
           5
          ],
          [
           1490,
           "Fausto (1993)",
           3
          ],
          [
           1491,
           "Tough and Deadly (1995)",
           2
          ],
          [
           1492,
           "Window to Paris (1994)",
           1
          ],
          [
           1493,
           "Modern Affair, A (1995)",
           1
          ],
          [
           1494,
           "Mostro, Il (1994)",
           1
          ],
          [
           1495,
           "Flirt (1995)",
           5
          ],
          [
           1496,
           "Carpool (1996)",
           5
          ],
          [
           1497,
           "Line King: Al Hirschfeld, The (1996)",
           2
          ],
          [
           1498,
           "Farmer & Chase (1995)",
           1
          ],
          [
           1499,
           "Grosse Fatigue (1994)",
           4
          ],
          [
           1500,
           "Santa with Muscles (1996)",
           2
          ],
          [
           1501,
           "Prisoner of the Mountains (Kavkazsky Plennik) (1996)",
           5
          ],
          [
           1502,
           "Naked in New York (1994)",
           2
          ],
          [
           1503,
           "Gold Diggers: The Secret of Bear Mountain (1995)",
           10
          ],
          [
           1504,
           "Bewegte Mann, Der (1994)",
           3
          ],
          [
           1505,
           "Killer: A Journal of Murder (1995)",
           1
          ],
          [
           1506,
           "Nelly & Monsieur Arnaud (1995)",
           3
          ],
          [
           1507,
           "Three Lives and Only One Death (1996)",
           1
          ],
          [
           1508,
           "Babysitter, The (1995)",
           3
          ],
          [
           1509,
           "Getting Even with Dad (1994)",
           5
          ],
          [
           1510,
           "Mad Dog Time (1996)",
           1
          ],
          [
           1511,
           "Children of the Revolution (1996)",
           5
          ],
          [
           1512,
           "World of Apu, The (Apur Sansar) (1959)",
           6
          ],
          [
           1513,
           "Sprung (1997)",
           3
          ],
          [
           1514,
           "Dream With the Fishes (1997)",
           7
          ],
          [
           1515,
           "Wings of Courage (1995)",
           1
          ],
          [
           1516,
           "Wedding Gift, The (1994)",
           3
          ],
          [
           1517,
           "Race the Sun (1996)",
           5
          ],
          [
           1518,
           "Losing Isaiah (1995)",
           12
          ],
          [
           1519,
           "New Jersey Drive (1995)",
           2
          ],
          [
           1520,
           "Fear, The (1995)",
           1
          ],
          [
           1521,
           "Mr. Wonderful (1993)",
           4
          ],
          [
           1522,
           "Trial by Jury (1994)",
           7
          ],
          [
           1523,
           "Good Man in Africa, A (1994)",
           2
          ],
          [
           1524,
           "Kaspar Hauser (1993)",
           8
          ],
          [
           1525,
           "Object of My Affection, The (1998)",
           1
          ],
          [
           1526,
           "Witness (1985)",
           1
          ],
          [
           1527,
           "Senseless (1998)",
           7
          ],
          [
           1528,
           "Nowhere (1997)",
           3
          ],
          [
           1529,
           "Underground (1995)",
           5
          ],
          [
           1530,
           "Jefferson in Paris (1995)",
           5
          ],
          [
           1531,
           "Far From Home: The Adventures of Yellow Dog (1995)",
           7
          ],
          [
           1532,
           "Foreign Student (1994)",
           2
          ],
          [
           1533,
           "I Don't Want to Talk About It (De eso no se habla) (1993)",
           1
          ],
          [
           1534,
           "Twin Town (1997)",
           6
          ],
          [
           1535,
           "Enfer, L' (1994)",
           4
          ],
          [
           1536,
           "Aiqing wansui (1994)",
           1
          ],
          [
           1537,
           "Cosi (1996)",
           4
          ],
          [
           1538,
           "All Over Me (1997)",
           3
          ],
          [
           1539,
           "Being Human (1993)",
           4
          ],
          [
           1540,
           "Amazing Panda Adventure, The (1995)",
           10
          ],
          [
           1541,
           "Beans of Egypt, Maine, The (1994)",
           2
          ],
          [
           1542,
           "Scarlet Letter, The (1926)",
           2
          ],
          [
           1543,
           "Johns (1996)",
           1
          ],
          [
           1544,
           "It Takes Two (1995)",
           3
          ],
          [
           1545,
           "Frankie Starlight (1995)",
           4
          ],
          [
           1546,
           "Shadows (Cienie) (1988)",
           1
          ],
          [
           1547,
           "Show, The (1995)",
           2
          ],
          [
           1548,
           "The Courtyard (1995)",
           1
          ],
          [
           1549,
           "Dream Man (1995)",
           2
          ],
          [
           1550,
           "Destiny Turns on the Radio (1995)",
           2
          ],
          [
           1551,
           "Glass Shield, The (1994)",
           2
          ],
          [
           1552,
           "Hunted, The (1995)",
           3
          ],
          [
           1553,
           "Underneath, The (1995)",
           4
          ],
          [
           1554,
           "Safe Passage (1994)",
           2
          ],
          [
           1555,
           "Secret Adventures of Tom Thumb, The (1993)",
           5
          ],
          [
           1556,
           "Condition Red (1995)",
           2
          ],
          [
           1557,
           "Yankee Zulu (1994)",
           1
          ],
          [
           1558,
           "Aparajito (1956)",
           7
          ],
          [
           1559,
           "Hostile Intentions (1994)",
           1
          ],
          [
           1560,
           "Clean Slate (Coup de Torchon) (1981)",
           4
          ],
          [
           1561,
           "Tigrero: A Film That Was Never Made (1994)",
           1
          ],
          [
           1562,
           "Eye of Vichy, The (Oeil de Vichy, L') (1993)",
           1
          ],
          [
           1563,
           "Promise, The (Versprechen, Das) (1994)",
           1
          ],
          [
           1564,
           "To Cross the Rubicon (1991)",
           1
          ],
          [
           1565,
           "Daens (1992)",
           1
          ],
          [
           1566,
           "Man from Down Under, The (1943)",
           1
          ],
          [
           1567,
           "Careful (1992)",
           1
          ],
          [
           1568,
           "Vermont Is For Lovers (1992)",
           1
          ],
          [
           1569,
           "Vie est belle, La (Life is Rosey) (1987)",
           1
          ],
          [
           1570,
           "Quartier Mozart (1992)",
           1
          ],
          [
           1571,
           "Touki Bouki (Journey of the Hyena) (1973)",
           1
          ],
          [
           1572,
           "Wend Kuuni (God's Gift) (1982)",
           1
          ],
          [
           1573,
           "Spirits of the Dead (Tre passi nel delirio) (1968)",
           2
          ],
          [
           1574,
           "Pharaoh's Army (1995)",
           1
          ],
          [
           1575,
           "I, Worst of All (Yo, la peor de todas) (1990)",
           1
          ],
          [
           1576,
           "Hungarian Fairy Tale, A (1987)",
           1
          ],
          [
           1577,
           "Death in the Garden (Mort en ce jardin, La) (1956)",
           1
          ],
          [
           1578,
           "Collectionneuse, La (1967)",
           2
          ],
          [
           1579,
           "Baton Rouge (1988)",
           1
          ],
          [
           1580,
           "Liebelei (1933)",
           1
          ],
          [
           1581,
           "Woman in Question, The (1950)",
           1
          ],
          [
           1582,
           "T-Men (1947)",
           1
          ],
          [
           1583,
           "Invitation, The (Zaproszenie) (1986)",
           1
          ],
          [
           1584,
           "Symphonie pastorale, La (1946)",
           1
          ],
          [
           1585,
           "American Dream (1990)",
           2
          ],
          [
           1586,
           "Lashou shentan (1992)",
           1
          ],
          [
           1587,
           "Terror in a Texas Town (1958)",
           1
          ],
          [
           1588,
           "Salut cousin! (1996)",
           2
          ],
          [
           1589,
           "Schizopolis (1996)",
           4
          ],
          [
           1590,
           "To Have, or Not (1995)",
           2
          ],
          [
           1591,
           "Duoluo tianshi (1995)",
           6
          ],
          [
           1592,
           "Magic Hour, The (1998)",
           5
          ],
          [
           1593,
           "Death in Brunswick (1991)",
           1
          ],
          [
           1594,
           "Everest (1998)",
           2
          ],
          [
           1595,
           "Shopping (1994)",
           1
          ],
          [
           1596,
           "Nemesis 2: Nebula (1995)",
           1
          ],
          [
           1597,
           "Romper Stomper (1992)",
           5
          ],
          [
           1598,
           "City of Industry (1997)",
           6
          ],
          [
           1599,
           "Someone Else's America (1995)",
           1
          ],
          [
           1600,
           "Guantanamera (1994)",
           4
          ],
          [
           1601,
           "Office Killer (1997)",
           1
          ],
          [
           1602,
           "Price Above Rubies, A (1998)",
           3
          ],
          [
           1603,
           "Angela (1995)",
           1
          ],
          [
           1604,
           "He Walked by Night (1948)",
           1
          ],
          [
           1605,
           "Love Serenade (1996)",
           4
          ],
          [
           1606,
           "Deceiver (1997)",
           1
          ],
          [
           1607,
           "Hurricane Streets (1998)",
           3
          ],
          [
           1608,
           "Buddy (1997)",
           4
          ],
          [
           1609,
           "B*A*P*S (1997)",
           3
          ],
          [
           1610,
           "Truth or Consequences, N.M. (1997)",
           3
          ],
          [
           1611,
           "Intimate Relations (1996)",
           2
          ],
          [
           1612,
           "Leading Man, The (1996)",
           4
          ],
          [
           1613,
           "Tokyo Fist (1995)",
           1
          ],
          [
           1614,
           "Reluctant Debutante, The (1958)",
           1
          ],
          [
           1615,
           "Warriors of Virtue (1997)",
           10
          ],
          [
           1616,
           "Desert Winds (1995)",
           1
          ],
          [
           1617,
           "Hugo Pool (1997)",
           2
          ],
          [
           1618,
           "King of New York (1990)",
           1
          ],
          [
           1619,
           "All Things Fair (1996)",
           1
          ],
          [
           1620,
           "Sixth Man, The (1997)",
           9
          ],
          [
           1621,
           "Butterfly Kiss (1995)",
           1
          ],
          [
           1622,
           "Paris, France (1993)",
           3
          ],
          [
           1623,
           "Cérémonie, La (1995)",
           3
          ],
          [
           1624,
           "Hush (1998)",
           1
          ],
          [
           1625,
           "Nightwatch (1997)",
           1
          ],
          [
           1626,
           "Nobody Loves Me (Keiner liebt mich) (1994)",
           1
          ],
          [
           1627,
           "Wife, The (1995)",
           1
          ],
          [
           1628,
           "Lamerica (1994)",
           4
          ],
          [
           1629,
           "Nico Icon (1995)",
           2
          ],
          [
           1630,
           "Silence of the Palace, The (Saimt el Qusur) (1994)",
           1
          ],
          [
           1631,
           "Slingshot, The (1993)",
           2
          ],
          [
           1632,
           "Land and Freedom (Tierra y libertad) (1995)",
           1
          ],
          [
           1633,
           "Á köldum klaka (Cold Fever) (1994)",
           1
          ],
          [
           1634,
           "Etz Hadomim Tafus (Under the Domin Tree) (1994)",
           1
          ],
          [
           1635,
           "Two Friends (1986) ",
           1
          ],
          [
           1636,
           "Brothers in Trouble (1995)",
           1
          ],
          [
           1637,
           "Girls Town (1996)",
           1
          ],
          [
           1638,
           "Normal Life (1996)",
           1
          ],
          [
           1639,
           "Bitter Sugar (Azucar Amargo) (1996)",
           3
          ],
          [
           1640,
           "Eighth Day, The (1996)",
           1
          ],
          [
           1641,
           "Dadetown (1995)",
           1
          ],
          [
           1642,
           "Some Mother's Son (1996)",
           2
          ],
          [
           1643,
           "Angel Baby (1995)",
           4
          ],
          [
           1644,
           "Sudden Manhattan (1996)",
           2
          ],
          [
           1645,
           "Butcher Boy, The (1998)",
           1
          ],
          [
           1646,
           "Men With Guns (1997)",
           2
          ],
          [
           1647,
           "Hana-bi (1997)",
           1
          ],
          [
           1648,
           "Niagara, Niagara (1997)",
           1
          ],
          [
           1649,
           "Big One, The (1997)",
           1
          ],
          [
           1650,
           "Butcher Boy, The (1998)",
           1
          ],
          [
           1651,
           "Spanish Prisoner, The (1997)",
           1
          ],
          [
           1652,
           "Temptress Moon (Feng Yue) (1996)",
           3
          ],
          [
           1653,
           "Entertaining Angels: The Dorothy Day Story (1996)",
           1
          ],
          [
           1654,
           "Chairman of the Board (1998)",
           1
          ],
          [
           1655,
           "Favor, The (1994)",
           1
          ],
          [
           1656,
           "Little City (1998)",
           2
          ],
          [
           1657,
           "Target (1995)",
           1
          ],
          [
           1658,
           "Substance of Fire, The (1996)",
           3
          ],
          [
           1659,
           "Getting Away With Murder (1996)",
           1
          ],
          [
           1660,
           "Small Faces (1995)",
           1
          ],
          [
           1661,
           "New Age, The (1994)",
           1
          ],
          [
           1662,
           "Rough Magic (1995)",
           2
          ],
          [
           1663,
           "Nothing Personal (1995)",
           1
          ],
          [
           1664,
           "8 Heads in a Duffel Bag (1997)",
           4
          ],
          [
           1665,
           "Brother's Kiss, A (1997)",
           1
          ],
          [
           1666,
           "Ripe (1996)",
           1
          ],
          [
           1667,
           "Next Step, The (1995)",
           1
          ],
          [
           1668,
           "Wedding Bell Blues (1996)",
           1
          ],
          [
           1669,
           "MURDER and murder (1996)",
           1
          ],
          [
           1670,
           "Tainted (1998)",
           1
          ],
          [
           1671,
           "Further Gesture, A (1996)",
           1
          ],
          [
           1672,
           "Kika (1993)",
           2
          ],
          [
           1673,
           "Mirage (1995)",
           1
          ],
          [
           1674,
           "Mamma Roma (1962)",
           1
          ],
          [
           1675,
           "Sunchaser, The (1996)",
           1
          ],
          [
           1676,
           "War at Home, The (1996)",
           1
          ],
          [
           1677,
           "Sweet Nothing (1995)",
           1
          ],
          [
           1678,
           "Mat' i syn (1997)",
           1
          ],
          [
           1679,
           "B. Monkey (1998)",
           1
          ],
          [
           1680,
           "Sliding Doors (1998)",
           1
          ],
          [
           1681,
           "You So Crazy (1994)",
           1
          ],
          [
           1682,
           "Scream of Stone (Schrei aus Stein) (1991)",
           1
          ]
         ],
         "hovertemplate": "tsne_1=%{x}<br>tsne_2=%{y}<br>item_id=%{customdata[0]}<br>title=%{customdata[1]}<br>popularity=%{marker.color}<extra></extra>",
         "legendgroup": "",
         "marker": {
          "color": [
           452,
           131,
           90,
           209,
           86,
           26,
           392,
           219,
           299,
           89,
           236,
           267,
           184,
           183,
           293,
           39,
           92,
           10,
           69,
           72,
           84,
           297,
           182,
           174,
           293,
           73,
           57,
           276,
           114,
           37,
           154,
           81,
           97,
           7,
           11,
           13,
           8,
           120,
           87,
           57,
           37,
           148,
           40,
           79,
           80,
           27,
           133,
           117,
           81,
           583,
           81,
           91,
           128,
           104,
           149,
           394,
           40,
           175,
           83,
           64,
           59,
           127,
           82,
           283,
           115,
           162,
           103,
           134,
           321,
           251,
           220,
           129,
           128,
           7,
           5,
           54,
           151,
           33,
           336,
           68,
           110,
           261,
           176,
           18,
           58,
           150,
           138,
           213,
           275,
           95,
           143,
           104,
           112,
           137,
           219,
           295,
           256,
           390,
           172,
           508,
           73,
           54,
           15,
           5,
           74,
           71,
           42,
           65,
           130,
           31,
           272,
           20,
           9,
           67,
           15,
           125,
           378,
           293,
           4,
           67,
           429,
           106,
           115,
           187,
           244,
           97,
           413,
           65,
           129,
           23,
           95,
           246,
           171,
           198,
           259,
           105,
           171,
           19,
           50,
           61,
           72,
           57,
           222,
           243,
           65,
           10,
           185,
           128,
           23,
           157,
           326,
           82,
           247,
           174,
           98,
           148,
           127,
           60,
           101,
           69,
           220,
           106,
           92,
           151,
           64,
           58,
           67,
           316,
           118,
           121,
           65,
           367,
           324,
           420,
           208,
           284,
           137,
           125,
           221,
           221,
           507,
           226,
           291,
           116,
           239,
           251,
           209,
           170,
           66,
           124,
           276,
           116,
           157,
           241,
           301,
           251,
           239,
           127,
           165,
           206,
           89,
           280,
           182,
           350,
           136,
           50,
           66,
           200,
           191,
           331,
           206,
           92,
           134,
           114,
           212,
           290,
           120,
           171,
           111,
           66,
           74,
           365,
           136,
           44,
           109,
           166,
           161,
           244,
           171,
           199,
           142,
           101,
           124,
           280,
           217,
           45,
           384,
           256,
           150,
           156,
           128,
           117,
           132,
           48,
           240,
           124,
           5,
           160,
           130,
           197,
           46,
           158,
           26,
           62,
           172,
           16,
           303,
           509,
           162,
           127,
           43,
           66,
           19,
           101,
           227,
           35,
           9,
           255,
           315,
           136,
           211,
           198,
           223,
           190,
           268,
           298,
           71,
           60,
           28,
           85,
           146,
           232,
           177,
           193,
           162,
           481,
           78,
           478,
           259,
           96,
           127,
           114,
           147,
           485,
           77,
           6,
           50,
           194,
           73,
           431,
           230,
           297,
           134,
           149,
           87,
           96,
           188,
           30,
           28,
           145,
           75,
           80,
           350,
           5,
           160,
           112,
           102,
           298,
           168,
           20,
           169,
           218,
           240,
           125,
           128,
           175,
           175,
           295,
           45,
           41,
           113,
           143,
           251,
           64,
           21,
           43,
           18,
           91,
           47,
           189,
           11,
           52,
           124,
           55,
           65,
           126,
           137,
           27,
           31,
           41,
           20,
           26,
           14,
           72,
           41,
           97,
           264,
           143,
           18,
           10,
           10,
           28,
           47,
           37,
           48,
           47,
           170,
           31,
           55,
           39,
           67,
           34,
           39,
           11,
           23,
           24,
           13,
           101,
           43,
           116,
           100,
           111,
           31,
           69,
           208,
           87,
           65,
           28,
           27,
           10,
           59,
           68,
           192,
           12,
           56,
           54,
           12,
           26,
           89,
           18,
           76,
           170,
           201,
           101,
           344,
           49,
           43,
           112,
           70,
           162,
           163,
           93,
           55,
           62,
           25,
           64,
           73,
           129,
           178,
           81,
           106,
           26,
           300,
           19,
           85,
           32,
           219,
           121,
           97,
           93,
           153,
           174,
           171,
           67,
           216,
           99,
           5,
           6,
           5,
           14,
           53,
           4,
           162,
           46,
           22,
           9,
           121,
           85,
           117,
           63,
           170,
           66,
           16,
           16,
           145,
           48,
           27,
           90,
           24,
           28,
           74,
           148,
           71,
           27,
           85,
           52,
           48,
           64,
           67,
           108,
           221,
           158,
           126,
           194,
           250,
           160,
           95,
           104,
           179,
           179,
           63,
           128,
           243,
           138,
           125,
           64,
           68,
           65,
           52,
           50,
           67,
           59,
           60,
           56,
           59,
           231,
           68,
           152,
           62,
           31,
           123,
           57,
           39,
           122,
           68,
           90,
           98,
           215,
           121,
           121,
           173,
           57,
           72,
           180,
           201,
           63,
           91,
           89,
           80,
           124,
           120,
           35,
           164,
           46,
           73,
           124,
           195,
           121,
           93,
           80,
           129,
           22,
           15,
           13,
           54,
           10,
           30,
           66,
           44,
           43,
           49,
           51,
           21,
           71,
           12,
           254,
           41,
           12,
           92,
           151,
           24,
           45,
           63,
           102,
           10,
           12,
           17,
           70,
           137,
           22,
           59,
           48,
           29,
           27,
           22,
           179,
           35,
           230,
           67,
           50,
           28,
           29,
           33,
           15,
           44,
           93,
           41,
           92,
           19,
           32,
           59,
           168,
           37,
           79,
           39,
           34,
           14,
           202,
           43,
           18,
           178,
           9,
           12,
           5,
           64,
           127,
           206,
           4,
           1,
           2,
           20,
           50,
           209,
           81,
           31,
           66,
           66,
           30,
           60,
           41,
           40,
           34,
           27,
           51,
           59,
           64,
           18,
           18,
           64,
           43,
           11,
           39,
           39,
           22,
           82,
           4,
           75,
           169,
           77,
           31,
           119,
           58,
           69,
           24,
           23,
           91,
           38,
           44,
           40,
           82,
           33,
           89,
           4,
           35,
           27,
           38,
           70,
           67,
           50,
           72,
           171,
           90,
           34,
           147,
           227,
           44,
           131,
           79,
           115,
           153,
           88,
           82,
           116,
           46,
           100,
           5,
           12,
           6,
           13,
           36,
           46,
           65,
           86,
           48,
           54,
           77,
           1,
           219,
           107,
           34,
           27,
           100,
           49,
           169,
           157,
           50,
           69,
           44,
           87,
           155,
           16,
           164,
           91,
           44,
           13,
           79,
           40,
           10,
           102,
           15,
           10,
           53,
           19,
           24,
           137,
           6,
           70,
           101,
           104,
           79,
           1,
           51,
           72,
           13,
           87,
           58,
           82,
           16,
           29,
           86,
           54,
           58,
           34,
           76,
           16,
           14,
           63,
           45,
           81,
           24,
           39,
           180,
           15,
           27,
           137,
           78,
           59,
           31,
           164,
           63,
           58,
           267,
           39,
           92,
           16,
           119,
           102,
           316,
           51,
           124,
           180,
           39,
           24,
           57,
           96,
           128,
           4,
           21,
           11,
           46,
           44,
           115,
           149,
           29,
           32,
           9,
           11,
           52,
           42,
           57,
           41,
           49,
           17,
           32,
           26,
           9,
           4,
           76,
           31,
           69,
           84,
           10,
           37,
           2,
           39,
           14,
           13,
           3,
           47,
           66,
           10,
           86,
           10,
           46,
           21,
           36,
           31,
           9,
           5,
           26,
           16,
           40,
           9,
           8,
           27,
           50,
           9,
           31,
           43,
           45,
           18,
           18,
           56,
           1,
           112,
           21,
           3,
           25,
           40,
           93,
           22,
           4,
           82,
           49,
           83,
           80,
           57,
           13,
           34,
           1,
           91,
           22,
           49,
           25,
           15,
           26,
           25,
           4,
           4,
           53,
           48,
           27,
           30,
           42,
           176,
           44,
           55,
           9,
           53,
           4,
           4,
           1,
           14,
           16,
           66,
           36,
           1,
           3,
           15,
           16,
           3,
           18,
           24,
           86,
           21,
           119,
           6,
           5,
           24,
           9,
           75,
           42,
           81,
           39,
           53,
           47,
           52,
           33,
           136,
           59,
           45,
           34,
           13,
           7,
           13,
           53,
           64,
           15,
           13,
           43,
           6,
           53,
           14,
           19,
           106,
           44,
           2,
           58,
           9,
           42,
           12,
           42,
           18,
           20,
           27,
           21,
           2,
           20,
           13,
           4,
           4,
           9,
           2,
           11,
           13,
           18,
           7,
           8,
           96,
           5,
           46,
           34,
           58,
           85,
           34,
           101,
           6,
           104,
           40,
           80,
           57,
           40,
           21,
           68,
           7,
           32,
           37,
           25,
           60,
           32,
           46,
           45,
           40,
           43,
           40,
           61,
           17,
           48,
           71,
           30,
           39,
           45,
           22,
           11,
           49,
           46,
           2,
           14,
           64,
           25,
           34,
           23,
           41,
           9,
           21,
           26,
           12,
           18,
           75,
           8,
           34,
           28,
           4,
           32,
           44,
           12,
           49,
           27,
           35,
           22,
           8,
           20,
           15,
           44,
           22,
           23,
           4,
           86,
           32,
           33,
           25,
           4,
           66,
           7,
           31,
           14,
           16,
           16,
           10,
           10,
           17,
           8,
           8,
           9,
           22,
           23,
           47,
           37,
           64,
           44,
           93,
           100,
           38,
           98,
           12,
           137,
           50,
           32,
           31,
           35,
           38,
           32,
           31,
           15,
           44,
           4,
           3,
           148,
           14,
           20,
           7,
           16,
           32,
           27,
           68,
           24,
           24,
           17,
           90,
           25,
           62,
           28,
           8,
           40,
           25,
           46,
           134,
           73,
           25,
           43,
           41,
           25,
           24,
           23,
           10,
           10,
           22,
           15,
           35,
           39,
           29,
           12,
           41,
           4,
           53,
           16,
           44,
           12,
           18,
           27,
           16,
           7,
           66,
           77,
           7,
           12,
           8,
           22,
           45,
           2,
           8,
           8,
           6,
           21,
           11,
           21,
           10,
           13,
           38,
           37,
           43,
           12,
           23,
           12,
           29,
           3,
           18,
           42,
           13,
           8,
           74,
           7,
           19,
           4,
           18,
           4,
           18,
           5,
           28,
           41,
           7,
           15,
           22,
           10,
           29,
           13,
           19,
           47,
           59,
           17,
           21,
           1,
           3,
           12,
           4,
           32,
           11,
           13,
           28,
           1,
           13,
           32,
           30,
           38,
           46,
           29,
           29,
           5,
           33,
           17,
           9,
           44,
           15,
           3,
           9,
           3,
           21,
           9,
           26,
           9,
           7,
           28,
           19,
           12,
           3,
           1,
           25,
           4,
           11,
           26,
           13,
           5,
           25,
           6,
           14,
           12,
           11,
           22,
           10,
           27,
           14,
           15,
           7,
           8,
           5,
           22,
           7,
           19,
           9,
           10,
           10,
           13,
           19,
           10,
           18,
           3,
           13,
           44,
           3,
           11,
           3,
           13,
           10,
           31,
           11,
           3,
           45,
           7,
           23,
           7,
           1,
           8,
           21,
           18,
           6,
           19,
           17,
           20,
           15,
           38,
           12,
           6,
           6,
           9,
           30,
           6,
           39,
           26,
           20,
           30,
           39,
           25,
           4,
           12,
           14,
           32,
           8,
           48,
           13,
           18,
           22,
           17,
           6,
           8,
           1,
           1,
           6,
           8,
           18,
           26,
           6,
           5,
           7,
           36,
           19,
           7,
           6,
           19,
           12,
           6,
           8,
           9,
           7,
           11,
           8,
           3,
           4,
           23,
           4,
           4,
           4,
           8,
           15,
           7,
           19,
           12,
           33,
           10,
           10,
           7,
           7,
           5,
           15,
           11,
           4,
           8,
           19,
           16,
           9,
           16,
           13,
           9,
           19,
           26,
           15,
           17,
           6,
           7,
           7,
           2,
           15,
           3,
           3,
           7,
           7,
           20,
           12,
           9,
           8,
           9,
           5,
           5,
           18,
           2,
           7,
           2,
           2,
           2,
           1,
           1,
           16,
           7,
           14,
           11,
           23,
           7,
           4,
           3,
           4,
           1,
           2,
           6,
           3,
           5,
           1,
           6,
           3,
           6,
           1,
           4,
           4,
           2,
           5,
           2,
           11,
           10,
           9,
           4,
           1,
           1,
           1,
           2,
           1,
           5,
           2,
           5,
           4,
           1,
           1,
           2,
           3,
           1,
           5,
           2,
           6,
           3,
           3,
           2,
           2,
           2,
           3,
           2,
           1,
           1,
           2,
           1,
           5,
           6,
           4,
           3,
           2,
           3,
           1,
           2,
           10,
           7,
           4,
           5,
           7,
           6,
           8,
           4,
           6,
           3,
           5,
           6,
           3,
           6,
           3,
           2,
           3,
           5,
           9,
           7,
           6,
           5,
           5,
           2,
           7,
           10,
           18,
           4,
           4,
           13,
           6,
           5,
           20,
           3,
           7,
           4,
           28,
           6,
           8,
           1,
           9,
           5,
           2,
           3,
           16,
           3,
           11,
           4,
           4,
           3,
           10,
           8,
           5,
           12,
           4,
           3,
           5,
           3,
           2,
           10,
           7,
           2,
           9,
           5,
           8,
           5,
           7,
           5,
           4,
           19,
           4,
           15,
           1,
           3,
           8,
           2,
           15,
           1,
           1,
           6,
           2,
           7,
           1,
           1,
           7,
           1,
           1,
           7,
           3,
           3,
           3,
           6,
           2,
           6,
           12,
           5,
           9,
           2,
           9,
           6,
           8,
           1,
           2,
           18,
           8,
           11,
           2,
           1,
           12,
           3,
           4,
           1,
           5,
           4,
           5,
           3,
           2,
           1,
           1,
           1,
           5,
           5,
           2,
           1,
           4,
           2,
           5,
           2,
           10,
           3,
           1,
           3,
           1,
           3,
           5,
           1,
           5,
           6,
           3,
           7,
           1,
           3,
           5,
           12,
           2,
           1,
           4,
           7,
           2,
           8,
           1,
           1,
           7,
           3,
           5,
           5,
           7,
           2,
           1,
           6,
           4,
           1,
           4,
           3,
           4,
           10,
           2,
           2,
           1,
           3,
           4,
           1,
           2,
           1,
           2,
           2,
           2,
           3,
           4,
           2,
           5,
           2,
           1,
           7,
           1,
           4,
           1,
           1,
           1,
           1,
           1,
           1,
           1,
           1,
           1,
           1,
           1,
           1,
           2,
           1,
           1,
           1,
           1,
           2,
           1,
           1,
           1,
           1,
           1,
           1,
           2,
           1,
           1,
           2,
           4,
           2,
           6,
           5,
           1,
           2,
           1,
           1,
           5,
           6,
           1,
           4,
           1,
           3,
           1,
           1,
           4,
           1,
           3,
           4,
           3,
           3,
           2,
           4,
           1,
           1,
           10,
           1,
           2,
           1,
           1,
           9,
           1,
           3,
           3,
           1,
           1,
           1,
           1,
           4,
           2,
           1,
           2,
           1,
           1,
           1,
           1,
           1,
           1,
           1,
           3,
           1,
           1,
           2,
           4,
           2,
           1,
           2,
           1,
           1,
           1,
           1,
           1,
           3,
           1,
           1,
           1,
           2,
           1,
           3,
           1,
           1,
           1,
           2,
           1,
           4,
           1,
           1,
           1,
           1,
           1,
           1,
           1,
           2,
           1,
           1,
           1,
           1,
           1,
           1,
           1,
           1,
           1,
           1
          ],
          "coloraxis": "coloraxis",
          "symbol": "circle"
         },
         "mode": "markers",
         "name": "",
         "showlegend": false,
         "type": "scattergl",
         "x": [
          -12.890891075134277,
          6.811656475067139,
          6.511726379394531,
          -16.130910873413086,
          4.501236915588379,
          -18.801252365112305,
          -22.41396141052246,
          -19.58761978149414,
          -33.04434585571289,
          -18.895286560058594,
          -14.321383476257324,
          -22.89194679260254,
          -37.21184539794922,
          -36.2911376953125,
          -2.98860502243042,
          -17.05213737487793,
          -8.896864891052246,
          -2.1736702919006348,
          -22.69415855407715,
          -16.828500747680664,
          14.56625747680664,
          -17.584659576416016,
          -34.40266418457031,
          7.6199116706848145,
          5.601378917694092,
          -15.51846981048584,
          -4.096745491027832,
          -14.16706657409668,
          16.189285278320312,
          -14.287040710449219,
          -5.683496475219727,
          -16.465259552001953,
          5.964261531829834,
          2.5682358741760254,
          22.800777435302734,
          29.0679988861084,
          -2.514859914779663,
          4.7475199699401855,
          -14.774508476257324,
          9.237939834594727,
          0.10964496433734894,
          -21.82957649230957,
          7.149345397949219,
          -16.023862838745117,
          -22.394121170043945,
          -17.437091827392578,
          -19.212617874145508,
          -16.068012237548828,
          1.8695309162139893,
          -9.814229965209961,
          -5.427250862121582,
          -29.071632385253906,
          -8.986214637756348,
          14.80654525756836,
          -17.386533737182617,
          -35.657047271728516,
          -23.747655868530273,
          -23.30340576171875,
          -18.57131004333496,
          -18.871084213256836,
          -19.320720672607422,
          5.320822715759277,
          7.403244495391846,
          -18.858806610107422,
          -15.811356544494629,
          -4.057201385498047,
          6.080535888671875,
          -12.033772468566895,
          -17.456371307373047,
          -26.928133010864258,
          -7.356573104858398,
          12.327746391296387,
          3.408566951751709,
          20.152921676635742,
          11.961252212524414,
          -9.997199058532715,
          -5.198293685913086,
          3.818654775619507,
          -9.054009437561035,
          -2.8686423301696777,
          -20.96256446838379,
          -6.204579830169678,
          -22.692705154418945,
          -2.6338112354278564,
          17.49957275390625,
          -28.259981155395508,
          -9.207785606384277,
          -4.414480209350586,
          -21.956497192382812,
          -6.3816819190979,
          -3.186518430709839,
          -21.2524356842041,
          -15.620683670043945,
          5.335429668426514,
          -8.124795913696289,
          -9.034794807434082,
          -17.577425003051758,
          -20.05224609375,
          -16.162132263183594,
          -35.70156478881836,
          9.750582695007324,
          -0.7891801595687866,
          27.824857711791992,
          34.6976432800293,
          18.821928024291992,
          22.47697639465332,
          -10.934086799621582,
          -10.856778144836426,
          -3.6412084102630615,
          19.716840744018555,
          2.2453887462615967,
          9.758977890014648,
          -21.083293914794922,
          -14.621245384216309,
          0.8141971826553345,
          -20.961952209472656,
          7.913463115692139,
          3.770144462585449,
          -25.038698196411133,
          13.17302131652832,
          3.83691668510437,
          27.459796905517578,
          -2.048647880554199,
          -34.50162887573242,
          3.1687302589416504,
          -21.757883071899414,
          -34.4307861328125,
          6.029627323150635,
          -13.005675315856934,
          26.41590690612793,
          -27.21919059753418,
          -34.21800231933594,
          -10.77892017364502,
          -28.733535766601562,
          -31.17806625366211,
          -19.39702796936035,
          -21.30594825744629,
          11.102757453918457,
          12.50302791595459,
          -1.0036580562591553,
          -14.171022415161133,
          -0.8631622195243835,
          -9.504733085632324,
          -10.158369064331055,
          12.894968032836914,
          9.214741706848145,
          -6.425694465637207,
          10.421392440795898,
          -6.205595016479492,
          -18.73192596435547,
          -20.16651725769043,
          -15.664324760437012,
          -9.498958587646484,
          -20.758386611938477,
          1.40634286403656,
          -22.16455078125,
          -18.296390533447266,
          17.688615798950195,
          3.726003408432007,
          -8.044474601745605,
          0.801834762096405,
          -13.483577728271484,
          -5.454560279846191,
          -2.5278778076171875,
          -21.41771697998047,
          -20.82306480407715,
          -0.09053876996040344,
          -18.315061569213867,
          -24.392183303833008,
          -22.198816299438477,
          -24.446630477905273,
          -9.79922866821289,
          -12.194872856140137,
          -8.736424446105957,
          -26.266916275024414,
          -11.864139556884766,
          -24.526702880859375,
          -31.859895706176758,
          -25.492996215820312,
          -34.917572021484375,
          -9.600921630859375,
          -21.889842987060547,
          -11.852031707763672,
          17.09222984313965,
          -31.73531150817871,
          -11.306167602539062,
          -34.168487548828125,
          -25.263553619384766,
          -22.68497657775879,
          -25.589624404907227,
          -33.8390998840332,
          -26.30743980407715,
          -14.8910551071167,
          -18.611587524414062,
          -8.600079536437988,
          -29.742694854736328,
          -32.85016632080078,
          -14.279298782348633,
          -18.382614135742188,
          -20.49319076538086,
          -10.75916576385498,
          -9.07161808013916,
          -23.380268096923828,
          -8.25885009765625,
          -10.572460174560547,
          -18.192394256591797,
          -24.257291793823242,
          -21.526628494262695,
          -22.504356384277344,
          -7.966366291046143,
          -20.624099731445312,
          -27.207475662231445,
          -30.55336570739746,
          -11.725683212280273,
          -9.776714324951172,
          -15.036819458007812,
          9.994253158569336,
          -13.201234817504883,
          16.455448150634766,
          5.116751670837402,
          -14.586773872375488,
          -1.0242418050765991,
          -17.87409782409668,
          -19.053207397460938,
          11.792179107666016,
          7.983687877655029,
          -5.781679630279541,
          -6.984554767608643,
          -1.8917863368988037,
          -6.6052117347717285,
          19.163650512695312,
          11.392655372619629,
          -1.4334161281585693,
          -30.785877227783203,
          -5.138524055480957,
          -18.04610252380371,
          -1.329656720161438,
          -35.110965728759766,
          9.372509956359863,
          26.058547973632812,
          0.19187001883983612,
          -13.67866325378418,
          26.839292526245117,
          2.097106456756592,
          26.270301818847656,
          -9.231207847595215,
          21.460737228393555,
          -12.041404724121094,
          -5.093043804168701,
          27.11653709411621,
          -14.073565483093262,
          5.4590606689453125,
          -22.97013282775879,
          20.776948928833008,
          6.689911365509033,
          -17.88143539428711,
          -12.937708854675293,
          -1.5185534954071045,
          26.987422943115234,
          25.485994338989258,
          22.512123107910156,
          -21.721405029296875,
          37.970523834228516,
          28.860673904418945,
          -9.815977096557617,
          4.67642068862915,
          -13.289780616760254,
          -8.964742660522461,
          -9.960969924926758,
          1.0673688650131226,
          22.27358627319336,
          -0.8353543877601624,
          1.0070602893829346,
          2.262943983078003,
          -31.461788177490234,
          -37.31917190551758,
          -6.636331081390381,
          7.646770477294922,
          -11.765947341918945,
          -3.8524627685546875,
          3.1821422576904297,
          8.356910705566406,
          -29.419401168823242,
          -1.576847791671753,
          -36.355201721191406,
          -34.80878829956055,
          -18.856122970581055,
          31.158470153808594,
          3.748084783554077,
          -3.2968742847442627,
          18.258819580078125,
          -17.35224723815918,
          -16.445690155029297,
          20.124303817749023,
          6.682796001434326,
          0.8345215916633606,
          -12.061117172241211,
          1.0243637561798096,
          4.4565911293029785,
          1.3365390300750732,
          -3.6319096088409424,
          -6.567882537841797,
          -17.474733352661133,
          -0.5338912010192871,
          -5.012313365936279,
          -25.172908782958984,
          2.9229073524475098,
          -10.240680694580078,
          22.88143539428711,
          1.6340112686157227,
          -21.5369930267334,
          3.9434902667999268,
          -0.8289037942886353,
          33.91666793823242,
          -11.369630813598633,
          -1.453935980796814,
          -22.53415298461914,
          -18.641454696655273,
          -13.83791446685791,
          -8.212706565856934,
          -7.648919105529785,
          26.609270095825195,
          28.198278427124023,
          -6.4182305335998535,
          27.424264907836914,
          17.737581253051758,
          -4.311946868896484,
          18.91349220275879,
          23.13367462158203,
          0.8866643905639648,
          -4.97463846206665,
          28.06161880493164,
          24.33663558959961,
          -7.54472017288208,
          27.593524932861328,
          10.289962768554688,
          -9.67189884185791,
          6.505549907684326,
          -10.347355842590332,
          -4.773855209350586,
          -7.992383003234863,
          15.342973709106445,
          -5.10004997253418,
          -12.854920387268066,
          -20.66862678527832,
          -7.988131046295166,
          -8.40013599395752,
          22.359716415405273,
          22.72358512878418,
          -6.096145153045654,
          22.451303482055664,
          26.428268432617188,
          30.54393196105957,
          -2.424612522125244,
          -8.889494895935059,
          -0.49557700753211975,
          -33.75888442993164,
          21.099853515625,
          -10.422881126403809,
          -14.133033752441406,
          -10.683380126953125,
          17.32314682006836,
          8.300911903381348,
          10.743746757507324,
          -2.6344821453094482,
          3.8180832862854004,
          -22.69072151184082,
          18.655925750732422,
          2.7237329483032227,
          9.38338851928711,
          -2.8266520500183105,
          -13.030597686767578,
          12.375248908996582,
          12.234904289245605,
          28.194414138793945,
          16.80862045288086,
          9.660177230834961,
          -8.060898780822754,
          -1.3790678977966309,
          0.9542149901390076,
          -17.038957595825195,
          -18.097978591918945,
          18.956741333007812,
          10.554512023925781,
          -4.6201934814453125,
          8.654253005981445,
          -20.266000747680664,
          16.015708923339844,
          -1.2199562788009644,
          -2.5481932163238525,
          5.189042568206787,
          3.3806052207946777,
          -9.493080139160156,
          5.967344760894775,
          22.28281021118164,
          -25.053543090820312,
          13.190634727478027,
          14.314910888671875,
          -4.622539043426514,
          15.70755672454834,
          -6.02669095993042,
          -4.65662956237793,
          -11.968545913696289,
          -15.479896545410156,
          -0.793545126914978,
          8.69592571258545,
          15.211079597473145,
          -24.33817481994629,
          2.1208858489990234,
          -4.4255499839782715,
          8.30884075164795,
          -6.419672012329102,
          25.078859329223633,
          -24.154634475708008,
          -0.40938788652420044,
          -8.124917984008789,
          -4.180219650268555,
          -10.567018508911133,
          -12.091667175292969,
          -29.598615646362305,
          -5.490487575531006,
          14.594371795654297,
          -16.60801124572754,
          36.8309211730957,
          -24.896629333496094,
          4.656354904174805,
          -32.44379425048828,
          -30.861543655395508,
          -4.697446346282959,
          -10.813126564025879,
          1.1556626558303833,
          -29.512001037597656,
          -9.579305648803711,
          -11.612462997436523,
          -23.387409210205078,
          13.042163848876953,
          34.544307708740234,
          34.77264404296875,
          35.10354232788086,
          33.343833923339844,
          15.173295021057129,
          32.60064697265625,
          -29.623760223388672,
          -4.838200092315674,
          -12.155500411987305,
          15.005268096923828,
          -19.45816993713379,
          -10.016555786132812,
          -1.732271671295166,
          17.601634979248047,
          1.227479338645935,
          2.2270312309265137,
          7.249475955963135,
          15.483468055725098,
          6.625981330871582,
          11.395484924316406,
          30.962766647338867,
          -19.182430267333984,
          -24.010644912719727,
          0.2134096324443817,
          -16.727588653564453,
          -28.398178100585938,
          -25.16278648376465,
          -18.730356216430664,
          -11.7177152633667,
          -25.297704696655273,
          -9.1218843460083,
          -0.504492461681366,
          -18.392698287963867,
          -2.4927866458892822,
          -0.6653753519058228,
          -0.2941823899745941,
          -3.6048743724823,
          -27.075448989868164,
          -27.90045166015625,
          9.054621696472168,
          -10.947405815124512,
          -28.900217056274414,
          -31.305299758911133,
          -32.73920440673828,
          -24.45199966430664,
          -20.127588272094727,
          -30.99431800842285,
          -27.71722984313965,
          -26.550853729248047,
          -8.138214111328125,
          -29.197799682617188,
          -27.508060455322266,
          -25.738882064819336,
          -28.085905075073242,
          -20.775466918945312,
          -25.07468032836914,
          -30.5777587890625,
          -23.94175148010254,
          -9.087159156799316,
          -18.26287841796875,
          -12.310955047607422,
          -30.25634002685547,
          -24.41747283935547,
          -7.361850738525391,
          -15.625482559204102,
          -5.735711097717285,
          -24.83820152282715,
          -27.44024658203125,
          -27.415136337280273,
          -21.619905471801758,
          -21.918899536132812,
          -6.098903656005859,
          -30.71242904663086,
          -25.892845153808594,
          -32.88956832885742,
          -17.43444061279297,
          -23.49180793762207,
          -27.778751373291016,
          -31.786117553710938,
          -22.28019905090332,
          -27.6046085357666,
          -24.30631446838379,
          -28.437917709350586,
          -17.710662841796875,
          -34.2823486328125,
          -28.09239959716797,
          -29.01352310180664,
          -25.109848022460938,
          -23.28565788269043,
          -17.686599731445312,
          -20.541587829589844,
          -29.19183921813965,
          -25.27914047241211,
          -24.992582321166992,
          -13.20261287689209,
          -26.8716983795166,
          -25.9460391998291,
          -14.641960144042969,
          5.563270568847656,
          -15.031405448913574,
          -26.86286163330078,
          29.602848052978516,
          21.71383285522461,
          4.668862819671631,
          15.50924015045166,
          17.925281524658203,
          -20.338970184326172,
          -8.638117790222168,
          19.86667251586914,
          11.948596954345703,
          -7.337035179138184,
          -14.04699420928955,
          -22.850683212280273,
          8.296555519104004,
          18.620729446411133,
          9.766201972961426,
          1.6968599557876587,
          13.023905754089355,
          23.3682918548584,
          -6.550983428955078,
          -22.659425735473633,
          -11.07936954498291,
          10.961557388305664,
          12.292165756225586,
          8.066099166870117,
          0.5187415480613708,
          11.624730110168457,
          17.06580924987793,
          10.53132152557373,
          7.0713276863098145,
          16.090394973754883,
          -8.13516616821289,
          10.622941970825195,
          3.1368954181671143,
          11.094868659973145,
          7.140227794647217,
          12.285480499267578,
          13.113975524902344,
          19.397336959838867,
          -2.030822992324829,
          37.07392120361328,
          5.011629581451416,
          7.642043590545654,
          -18.72594451904297,
          -10.833023071289062,
          -34.27855682373047,
          -12.910188674926758,
          -14.520021438598633,
          18.744272232055664,
          -2.360933542251587,
          -17.44692039489746,
          -11.915904998779297,
          -30.819719314575195,
          26.3179931640625,
          -0.7156155109405518,
          -2.9958481788635254,
          -23.343027114868164,
          -7.913779258728027,
          7.139518737792969,
          -3.8126156330108643,
          4.545180797576904,
          18.41331672668457,
          50.522796630859375,
          -3.301786184310913,
          -21.56291961669922,
          -28.295106887817383,
          -32.77470397949219,
          -27.980728149414062,
          -13.100234985351562,
          -25.990524291992188,
          -21.342906951904297,
          -23.903223037719727,
          -15.0532865524292,
          -20.970321655273438,
          -21.924837112426758,
          -24.58502769470215,
          -13.917969703674316,
          -9.510482788085938,
          -21.38996124267578,
          -7.75074577331543,
          -7.428956985473633,
          -22.403608322143555,
          1.7043381929397583,
          0.938444972038269,
          -8.999862670898438,
          -3.7639973163604736,
          2.4831430912017822,
          -7.249596118927002,
          -16.99066734313965,
          -23.925119400024414,
          0.1891353726387024,
          7.191488742828369,
          -0.7614359855651855,
          7.544381618499756,
          -27.493858337402344,
          -30.362640380859375,
          -30.59189796447754,
          -7.480517387390137,
          -7.3180623054504395,
          -7.564024925231934,
          -10.428366661071777,
          -24.847257614135742,
          -21.544618606567383,
          -24.242826461791992,
          -23.105934143066406,
          -19.368236541748047,
          -3.436154365539551,
          -31.092126846313477,
          -23.94441032409668,
          -21.5405216217041,
          -22.468080520629883,
          -25.27804183959961,
          -23.071809768676758,
          -14.33076000213623,
          -22.42205238342285,
          -9.538015365600586,
          -27.938983917236328,
          -27.37923240661621,
          -19.643413543701172,
          -26.042922973632812,
          -31.690168380737305,
          -1.5871062278747559,
          -28.435606002807617,
          -22.636079788208008,
          -33.39753723144531,
          -7.847354412078857,
          -16.102991104125977,
          -19.317485809326172,
          0.9642480611801147,
          -0.8929619789123535,
          18.332550048828125,
          -5.2541937828063965,
          30.98610496520996,
          11.181242942810059,
          -20.498384475708008,
          5.666165351867676,
          -9.870059967041016,
          6.500194549560547,
          -23.24497413635254,
          1.3412971496582031,
          54.5819206237793,
          26.464900970458984,
          10.849902153015137,
          4.6426615715026855,
          9.68305492401123,
          29.386125564575195,
          22.573204040527344,
          -7.834011077880859,
          4.2054972648620605,
          -6.605111122131348,
          20.322635650634766,
          31.968706130981445,
          19.14927101135254,
          -2.644423484802246,
          -14.6671724319458,
          -6.228425025939941,
          -28.204341888427734,
          -25.288692474365234,
          -9.001791000366211,
          6.623745918273926,
          -17.275304794311523,
          -4.285512447357178,
          -22.657962799072266,
          -3.2540178298950195,
          -21.893341064453125,
          5.5276265144348145,
          -28.298744201660156,
          -10.605141639709473,
          -28.88544273376465,
          6.10505485534668,
          -15.673798561096191,
          -17.059661865234375,
          -17.437576293945312,
          12.52963638305664,
          57.7086067199707,
          -12.425177574157715,
          -21.776220321655273,
          -12.589295387268066,
          -20.105192184448242,
          1.9043421745300293,
          11.37814712524414,
          -13.978793144226074,
          12.375540733337402,
          2.0310471057891846,
          -4.402449131011963,
          -2.4860010147094727,
          -0.3900564908981323,
          -8.825394630432129,
          12.735401153564453,
          17.85173797607422,
          -1.9464653730392456,
          3.8077218532562256,
          3.7972588539123535,
          -23.174509048461914,
          3.128446578979492,
          -11.810925483703613,
          -4.562592506408691,
          7.823941707611084,
          -18.8781795501709,
          -22.461318969726562,
          -13.258286476135254,
          8.649691581726074,
          -4.09598445892334,
          -23.874103546142578,
          -11.858789443969727,
          2.4795196056365967,
          18.725265502929688,
          -11.572078704833984,
          -13.606708526611328,
          4.832851886749268,
          -12.358442306518555,
          19.117755889892578,
          30.575166702270508,
          -11.65053939819336,
          -1.7606537342071533,
          -4.636782169342041,
          -26.02948760986328,
          2.2096550464630127,
          2.829336166381836,
          10.878490447998047,
          -2.1765666007995605,
          26.367494583129883,
          11.15204906463623,
          -0.318982869386673,
          3.580233573913574,
          -2.2563064098358154,
          -4.456790924072266,
          0.7049875259399414,
          8.552762031555176,
          -17.255352020263672,
          28.538843154907227,
          3.1880099773406982,
          12.451129913330078,
          -17.83676528930664,
          13.027478218078613,
          -9.15950870513916,
          -8.683249473571777,
          8.139060974121094,
          1.4974974393844604,
          6.063438892364502,
          25.82474136352539,
          -13.491039276123047,
          8.933622360229492,
          -4.946831226348877,
          2.9477059841156006,
          21.352399826049805,
          5.4447102546691895,
          55.14116287231445,
          -4.603682041168213,
          -4.741598129272461,
          12.233575820922852,
          54.11293029785156,
          -26.143083572387695,
          0.4151660203933716,
          29.085824966430664,
          -34.82090759277344,
          -7.9479522705078125,
          -4.9433746337890625,
          22.515228271484375,
          2.202014684677124,
          3.128844976425171,
          21.460222244262695,
          -22.22823715209961,
          8.595330238342285,
          2.611574411392212,
          5.711343765258789,
          -10.847331047058105,
          11.307966232299805,
          -22.621456146240234,
          -20.51372528076172,
          6.445019721984863,
          11.927035331726074,
          7.593146324157715,
          3.0006847381591797,
          -16.042781829833984,
          3.7785189151763916,
          -19.379648208618164,
          55.60525131225586,
          4.111395835876465,
          24.199623107910156,
          8.051166534423828,
          22.782958984375,
          8.57658576965332,
          13.188736915588379,
          -0.046396829187870026,
          -8.947957038879395,
          18.249589920043945,
          -1.5564719438552856,
          5.6190104484558105,
          13.544401168823242,
          8.847477912902832,
          10.591445922851562,
          13.391683578491211,
          28.00603485107422,
          -12.76924991607666,
          20.22724151611328,
          6.880053520202637,
          20.971712112426758,
          -24.549327850341797,
          -20.892276763916016,
          -6.923945903778076,
          27.537498474121094,
          49.307640075683594,
          0.4016009569168091,
          10.183727264404297,
          -16.926109313964844,
          -16.28664207458496,
          -12.11772346496582,
          -5.13899564743042,
          11.104633331298828,
          -12.380451202392578,
          -22.143434524536133,
          11.310747146606445,
          -22.986623764038086,
          -27.215063095092773,
          49.95944595336914,
          -7.500453472137451,
          -8.099682807922363,
          -24.17431640625,
          -25.980615615844727,
          -13.759529113769531,
          33.28331756591797,
          6.9275031089782715,
          15.797959327697754,
          -16.16556167602539,
          23.10425567626953,
          -19.42967987060547,
          11.962915420532227,
          -14.819217681884766,
          13.671128273010254,
          -21.890750885009766,
          -23.8333797454834,
          7.608407497406006,
          24.1008243560791,
          14.92055606842041,
          4.1140522956848145,
          28.582813262939453,
          -5.919980049133301,
          4.526834964752197,
          24.0136661529541,
          31.66592788696289,
          24.928619384765625,
          22.759254455566406,
          -10.17540454864502,
          24.15952491760254,
          -8.98663330078125,
          -8.51135540008545,
          -14.820910453796387,
          25.306318283081055,
          -5.8911638259887695,
          -19.894493103027344,
          -9.384004592895508,
          -5.110833644866943,
          19.051990509033203,
          -5.852682113647461,
          -0.12868891656398773,
          -2.0992634296417236,
          35.471923828125,
          30.567968368530273,
          -18.90879249572754,
          30.74677276611328,
          -7.456721305847168,
          -7.740115642547607,
          -17.611604690551758,
          36.891746520996094,
          -24.70741081237793,
          -5.467854976654053,
          -7.518276691436768,
          23.794879913330078,
          -3.158095598220825,
          18.981185913085938,
          28.366273880004883,
          -22.781694412231445,
          23.562868118286133,
          24.349910736083984,
          -1.0516809225082397,
          49.35679244995117,
          29.616127014160156,
          -22.74178123474121,
          -0.3365211486816406,
          0.7803619503974915,
          -0.14518028497695923,
          -18.055946350097656,
          -14.62294864654541,
          -14.798102378845215,
          -15.910975456237793,
          -21.352336883544922,
          -10.269967079162598,
          7.685236930847168,
          10.112926483154297,
          35.173484802246094,
          4.568443298339844,
          -2.4988415241241455,
          13.432419776916504,
          12.517887115478516,
          4.999339580535889,
          11.8384428024292,
          6.531900405883789,
          -18.678369522094727,
          -21.770845413208008,
          1.8809127807617188,
          26.176584243774414,
          -0.15334206819534302,
          24.517881393432617,
          8.712247848510742,
          -12.540298461914062,
          -12.241541862487793,
          14.39119815826416,
          -5.450666427612305,
          -10.611274719238281,
          -18.080738067626953,
          23.359079360961914,
          -11.766927719116211,
          -6.733603000640869,
          -0.8529592156410217,
          -5.706282615661621,
          -16.96582794189453,
          3.895108699798584,
          -17.271018981933594,
          -25.964282989501953,
          1.2157758474349976,
          -20.338354110717773,
          -22.69983673095703,
          -13.434405326843262,
          -25.510555267333984,
          -7.50724458694458,
          -20.222475051879883,
          -23.957904815673828,
          -23.758346557617188,
          -7.314877033233643,
          -0.47366753220558167,
          -20.748666763305664,
          -25.105064392089844,
          -18.772470474243164,
          -23.033416748046875,
          -16.5350284576416,
          -1.7375203371047974,
          16.85952377319336,
          -7.676124572753906,
          21.186800003051758,
          21.038375854492188,
          1.7476223707199097,
          -4.000064373016357,
          -16.090620040893555,
          19.91085433959961,
          15.705558776855469,
          8.612058639526367,
          26.699230194091797,
          2.788339376449585,
          21.604570388793945,
          25.68325424194336,
          21.9622859954834,
          -0.11626303195953369,
          -8.787850379943848,
          28.967803955078125,
          25.413814544677734,
          6.198552131652832,
          0.07823093235492706,
          -15.832901954650879,
          5.535482406616211,
          20.023090362548828,
          12.98308277130127,
          2.901197671890259,
          9.984347343444824,
          31.006258010864258,
          9.889545440673828,
          24.386024475097656,
          3.6929712295532227,
          -14.630818367004395,
          -11.693437576293945,
          -20.160892486572266,
          -12.787057876586914,
          -13.085739135742188,
          -12.907793045043945,
          -15.256964683532715,
          -4.087545394897461,
          29.283395767211914,
          -2.886979103088379,
          -1.9890893697738647,
          15.623644828796387,
          -10.81396770477295,
          -6.251063346862793,
          -12.972406387329102,
          -22.204914093017578,
          -20.310447692871094,
          -7.006411552429199,
          13.739584922790527,
          -18.14716911315918,
          25.390567779541016,
          -10.230592727661133,
          36.198726654052734,
          10.411995887756348,
          22.26714515686035,
          13.690229415893555,
          4.554487228393555,
          11.235271453857422,
          9.441601753234863,
          14.338018417358398,
          4.546880722045898,
          11.829018592834473,
          26.37704086303711,
          25.33606719970703,
          -22.242321014404297,
          12.147281646728516,
          2.2623353004455566,
          -4.086095809936523,
          2.9168124198913574,
          0.9669393301010132,
          -15.339540481567383,
          9.994668960571289,
          3.464383125305176,
          -8.578119277954102,
          6.573925971984863,
          -19.757503509521484,
          -0.5875279903411865,
          15.101187705993652,
          0.21512600779533386,
          21.906269073486328,
          7.669979095458984,
          -15.305557250976562,
          27.05644989013672,
          -3.281810760498047,
          -8.882513046264648,
          -19.2044677734375,
          6.633586883544922,
          -16.140451431274414,
          -13.533350944519043,
          -24.44590950012207,
          -14.975494384765625,
          -1.9058748483657837,
          -28.21794319152832,
          -16.002042770385742,
          -5.103589057922363,
          -29.24254035949707,
          -1.8049260377883911,
          10.492243766784668,
          -20.270339965820312,
          15.173312187194824,
          -7.998693466186523,
          12.8218412399292,
          -9.539679527282715,
          4.907701015472412,
          18.590347290039062,
          -14.230565071105957,
          6.508955478668213,
          -3.4525015354156494,
          17.340988159179688,
          -26.841896057128906,
          -7.04896354675293,
          -11.660330772399902,
          33.206459045410156,
          16.648202896118164,
          20.43370819091797,
          12.496970176696777,
          8.86867618560791,
          12.238728523254395,
          -7.915274143218994,
          31.15768051147461,
          28.319711685180664,
          19.802080154418945,
          -12.80092716217041,
          -21.921573638916016,
          -25.41796112060547,
          23.475650787353516,
          -13.321080207824707,
          30.55648422241211,
          -16.811800003051758,
          25.107276916503906,
          22.360082626342773,
          0.9459838271141052,
          -1.686932921409607,
          -15.949231147766113,
          3.1398754119873047,
          5.907529354095459,
          -14.076125144958496,
          2.310216188430786,
          -19.646102905273438,
          3.327099561691284,
          -18.68423080444336,
          -17.837953567504883,
          -15.426529884338379,
          -17.247045516967773,
          -6.189681053161621,
          1.1678670644760132,
          -23.728382110595703,
          -2.9284493923187256,
          -4.135212421417236,
          -6.436862468719482,
          -23.154632568359375,
          -15.242151260375977,
          -2.4630868434906006,
          -19.589397430419922,
          -21.877017974853516,
          -15.09837532043457,
          -17.43548011779785,
          2.5587618350982666,
          -3.48531436920166,
          -14.612066268920898,
          3.0720365047454834,
          2.550448417663574,
          -18.989795684814453,
          -6.765826225280762,
          19.13304328918457,
          22.67730712890625,
          -13.756784439086914,
          -31.67599868774414,
          -23.610889434814453,
          -14.436857223510742,
          5.33138370513916,
          38.23038864135742,
          -23.654878616333008,
          -16.009897232055664,
          -15.348721504211426,
          -19.266584396362305,
          19.32075309753418,
          -2.7875170707702637,
          -12.29025936126709,
          3.3754990100860596,
          57.94355010986328,
          -14.856456756591797,
          14.890946388244629,
          -20.841964721679688,
          -20.236743927001953,
          -15.772673606872559,
          -14.183685302734375,
          29.28824234008789,
          25.943565368652344,
          4.97139835357666,
          21.0294246673584,
          -14.001681327819824,
          -0.2504594922065735,
          -0.3626737892627716,
          -17.382587432861328,
          -24.803956985473633,
          -15.909175872802734,
          -21.706558227539062,
          17.681446075439453,
          -12.160954475402832,
          -11.719561576843262,
          -11.075599670410156,
          28.563568115234375,
          14.186619758605957,
          14.232735633850098,
          5.990018844604492,
          21.700788497924805,
          13.222394943237305,
          21.30043601989746,
          -5.474447727203369,
          4.403993606567383,
          -17.813308715820312,
          -7.116320610046387,
          8.231070518493652,
          -6.006410121917725,
          1.3498406410217285,
          -9.569962501525879,
          -12.521993637084961,
          -21.760278701782227,
          -22.62619972229004,
          -13.352554321289062,
          -11.25969409942627,
          -26.2330322265625,
          -14.063407897949219,
          9.721634864807129,
          -21.073482513427734,
          55.29436111450195,
          -24.264589309692383,
          -25.35378646850586,
          -24.587886810302734,
          1.401656985282898,
          9.203045845031738,
          9.810362815856934,
          19.690778732299805,
          7.503543376922607,
          4.390856742858887,
          -13.462423324584961,
          4.803793907165527,
          13.952428817749023,
          33.05141830444336,
          28.227235794067383,
          -1.64621102809906,
          11.286821365356445,
          -13.021018981933594,
          8.856864929199219,
          16.25653648376465,
          3.0982744693756104,
          -0.9120015501976013,
          -18.26517105102539,
          0.3503532409667969,
          9.809992790222168,
          -30.488309860229492,
          14.269974708557129,
          5.688007354736328,
          14.983111381530762,
          29.376026153564453,
          11.70139217376709,
          -4.600406646728516,
          -7.0681962966918945,
          -5.0228495597839355,
          -9.762049674987793,
          56.51966094970703,
          -3.7805862426757812,
          0.05550028011202812,
          12.230366706848145,
          -7.134056568145752,
          -8.577631950378418,
          23.744020462036133,
          -5.474232196807861,
          12.430381774902344,
          -16.963237762451172,
          18.677675247192383,
          16.341262817382812,
          5.952618598937988,
          4.974462032318115,
          35.43966293334961,
          -12.073931694030762,
          -8.962564468383789,
          5.811304569244385,
          31.629119873046875,
          -5.975611209869385,
          29.228132247924805,
          26.28032112121582,
          7.427561283111572,
          -1.9759529829025269,
          19.197240829467773,
          -22.667146682739258,
          -12.221370697021484,
          -4.103075981140137,
          -20.478696823120117,
          -9.03573226928711,
          -18.727569580078125,
          -15.17043685913086,
          -14.014668464660645,
          -8.564802169799805,
          12.03021240234375,
          15.683450698852539,
          37.99885559082031,
          25.403287887573242,
          18.612224578857422,
          8.713688850402832,
          7.291259288787842,
          -0.9431136846542358,
          -10.250265121459961,
          17.377073287963867,
          32.04438018798828,
          -3.8365378379821777,
          -14.767467498779297,
          15.126752853393555,
          3.2305796146392822,
          -8.12979793548584,
          -24.89185905456543,
          35.42160415649414,
          -2.7910077571868896,
          27.33189582824707,
          55.78657531738281,
          -2.4045777320861816,
          32.54084396362305,
          -11.202351570129395,
          23.802339553833008,
          21.504962921142578,
          -6.121840953826904,
          6.767397403717041,
          -24.456401824951172,
          3.2951552867889404,
          16.343069076538086,
          2.3303256034851074,
          -11.536479949951172,
          16.55982208251953,
          57.6937370300293,
          11.35201644897461,
          -2.4666836261749268,
          20.74024772644043,
          37.24626541137695,
          56.008094787597656,
          17.57929229736328,
          15.601068496704102,
          -0.09750906378030777,
          -19.664247512817383,
          17.42049789428711,
          2.1714510917663574,
          -10.072497367858887,
          35.50386428833008,
          24.54744529724121,
          -6.576344013214111,
          35.69430160522461,
          8.710270881652832,
          -10.231513023376465,
          -2.332879066467285,
          20.045888900756836,
          36.29091262817383,
          -17.094860076904297,
          27.054433822631836,
          -12.701947212219238,
          55.176239013671875,
          -14.19058895111084,
          -15.72658920288086,
          -0.3389970362186432,
          -15.770983695983887,
          35.484893798828125,
          -2.028032064437866,
          29.672454833984375,
          12.904850959777832,
          -1.7416763305664062,
          35.4056282043457,
          35.004188537597656,
          35.864418029785156,
          -22.40654182434082,
          35.82914352416992,
          -1.5911632776260376,
          18.716005325317383,
          -10.819657325744629,
          -1.1805280447006226,
          36.01665115356445,
          55.83333206176758,
          35.89103698730469,
          -6.905008316040039,
          36.091190338134766,
          -1.858864188194275,
          36.90180969238281,
          10.750877380371094,
          -6.714992046356201,
          29.036603927612305,
          -23.205724716186523,
          34.7525520324707,
          22.290260314941406,
          -25.132726669311523,
          35.677825927734375,
          36.10155487060547,
          57.31513595581055,
          24.84777069091797,
          36.251224517822266,
          -19.523759841918945,
          -20.18634796142578,
          -15.893036842346191,
          -16.69642448425293,
          25.90907096862793,
          -25.22939109802246,
          35.69088363647461,
          36.28425598144531,
          -18.16541862487793,
          29.26482582092285,
          -16.405202865600586,
          -21.629318237304688,
          -7.160051345825195,
          -7.524315357208252,
          -22.30340576171875,
          -11.26066780090332,
          30.933557510375977,
          35.989559173583984,
          -15.9688081741333,
          34.20576095581055,
          30.079885482788086,
          -19.541025161743164,
          29.904844284057617,
          29.075796127319336,
          30.037181854248047,
          21.535276412963867,
          11.858990669250488,
          -11.656704902648926,
          -7.098138809204102,
          -20.432008743286133,
          -19.23747444152832,
          -19.66024398803711,
          28.519412994384766,
          -1.0505523681640625,
          -5.223797798156738,
          24.226163864135742,
          29.219263076782227,
          -17.191831588745117,
          -31.147109985351562,
          -23.908424377441406,
          12.352346420288086,
          28.363935470581055,
          2.1195459365844727,
          2.0909924507141113,
          6.903911590576172,
          23.128313064575195,
          12.61008071899414,
          25.67946434020996,
          21.800294876098633,
          26.72540283203125,
          -0.8703437447547913,
          -19.98105239868164,
          15.85077953338623,
          29.70369529724121,
          9.647993087768555,
          11.120659828186035,
          20.686279296875,
          -8.357600212097168,
          -4.3411712646484375,
          1.856092095375061,
          21.98786735534668,
          -26.280054092407227,
          0.7563402652740479,
          0.9602130651473999,
          -13.031155586242676,
          33.92620849609375,
          0.6321578025817871,
          -12.22346019744873,
          6.3007893562316895,
          24.01038360595703,
          16.069974899291992,
          -16.560932159423828,
          3.874044418334961,
          -6.015799045562744,
          0.380180299282074,
          18.29188346862793,
          -4.739438056945801,
          17.621200561523438,
          -23.681697845458984,
          13.644908905029297,
          -18.50509262084961,
          55.4910774230957,
          -27.023496627807617,
          -17.61363983154297,
          -26.33144760131836,
          -18.640213012695312,
          57.49464797973633,
          -2.4759037494659424,
          17.43970489501953,
          -18.81822967529297,
          -17.50834083557129,
          -18.669370651245117,
          -16.53732681274414,
          53.96004104614258,
          21.759876251220703,
          -15.98427963256836,
          25.212326049804688,
          -23.636699676513672,
          -0.28579285740852356,
          -16.274616241455078,
          -20.120527267456055,
          -3.0150139331817627,
          2.036578893661499,
          21.292110443115234,
          7.495669364929199,
          56.707862854003906,
          -14.434662818908691,
          -1.4297480583190918,
          -8.455748558044434,
          58.19697570800781,
          29.731792449951172,
          -3.057814359664917,
          9.011955261230469,
          18.451313018798828,
          12.696508407592773,
          -6.241383075714111,
          3.942396640777588,
          -0.8722724318504333,
          5.632209300994873,
          50.08866500854492,
          22.93047332763672,
          -13.293853759765625,
          15.34372329711914,
          10.154001235961914,
          55.3369255065918,
          9.259016036987305,
          55.20051574707031,
          49.220726013183594,
          5.608531475067139,
          29.317378997802734,
          17.48003387451172,
          10.101507186889648,
          -15.927396774291992,
          -20.17403221130371,
          -5.519123554229736,
          50.318721771240234,
          -3.0057625770568848,
          -9.03597354888916,
          58.64813995361328,
          -15.448172569274902,
          -3.2821311950683594,
          12.614297866821289,
          26.90133285522461,
          21.00179672241211,
          -14.021384239196777,
          -26.534101486206055,
          18.644514083862305,
          -3.250499963760376,
          -9.35429573059082,
          -7.371148109436035,
          4.492742538452148,
          7.905080795288086,
          -9.465034484863281,
          18.396869659423828,
          -13.485367774963379,
          3.1372294425964355,
          17.567964553833008,
          -18.706920623779297,
          -21.915847778320312,
          54.83488845825195,
          33.598289489746094,
          -14.085315704345703,
          -2.2089076042175293,
          27.690134048461914,
          -1.772063970565796,
          23.693645477294922,
          -0.9358994364738464,
          25.04978370666504,
          -17.604717254638672,
          -11.299280166625977,
          -21.36164093017578,
          -6.626213550567627,
          27.051212310791016,
          10.705166816711426,
          -22.67758560180664,
          9.082233428955078,
          55.61009979248047,
          -0.7669161558151245,
          2.415114164352417,
          36.411964416503906,
          57.05675506591797,
          36.503475189208984,
          36.2899169921875,
          39.10648727416992,
          54.68811798095703,
          18.15166664123535,
          -5.2598958015441895,
          39.11410140991211,
          -13.438826560974121,
          16.337438583374023,
          36.28855895996094,
          -17.417329788208008,
          37.75242233276367,
          -12.90479564666748,
          36.714561462402344,
          35.41841506958008,
          37.45763397216797,
          56.6248779296875,
          36.827457427978516,
          56.473148345947266,
          56.95252990722656,
          36.9149284362793,
          35.25217056274414,
          56.66298294067383,
          35.37754440307617,
          37.7442626953125,
          36.59930419921875,
          35.69898223876953,
          37.32098388671875,
          35.97736358642578,
          35.73413848876953,
          -7.650533676147461,
          35.68108367919922,
          35.84941482543945,
          55.917091369628906,
          36.82780838012695,
          57.605812072753906,
          54.61144256591797,
          -8.800217628479004,
          36.722015380859375,
          36.714813232421875,
          28.79500389099121,
          -5.303154468536377,
          30.246747970581055,
          -10.07084846496582,
          -17.69011878967285,
          57.33915710449219,
          -5.5423583984375,
          54.44165802001953,
          26.486013412475586,
          -5.890066623687744,
          31.946063995361328,
          -11.839783668518066,
          -10.311529159545898,
          27.154539108276367,
          -10.556715965270996,
          54.67348861694336,
          -15.002110481262207,
          -3.910658597946167,
          26.145835876464844,
          -14.167460441589355,
          32.211456298828125,
          48.552249908447266,
          23.905447006225586,
          -0.25183674693107605,
          0.6233561635017395,
          0.9257973432540894,
          54.25822448730469,
          20.819103240966797,
          55.63043975830078,
          -11.41608715057373,
          56.165157318115234,
          0.03778402507305145,
          5.658788681030273,
          49.58622741699219,
          17.90043067932129,
          -17.89994239807129,
          29.545398712158203,
          1.5387027263641357,
          28.174509048461914,
          17.578031539916992,
          1.2474849224090576,
          -18.697418212890625,
          -7.502809047698975,
          19.3211669921875,
          -7.5932230949401855,
          -7.490458011627197,
          24.5911865234375,
          -7.740478515625,
          56.68106460571289,
          -7.839990139007568,
          57.020118713378906,
          -8.455305099487305,
          -7.503256320953369,
          53.47658157348633,
          -12.43156909942627,
          -1.265304684638977,
          57.38030242919922,
          55.85309982299805,
          -16.45783233642578,
          -8.44862174987793,
          56.35104751586914,
          -8.001557350158691,
          56.464969635009766,
          56.10387420654297,
          23.88459014892578,
          57.381832122802734,
          54.164127349853516,
          55.1857795715332,
          -1.495851755142212,
          10.995140075683594,
          -7.4882307052612305,
          49.60354232788086,
          27.603633880615234,
          27.916851043701172,
          32.74229431152344,
          29.981231689453125,
          -9.556278228759766,
          54.95481491088867,
          30.387126922607422,
          28.890199661254883,
          28.893829345703125,
          29.927555084228516,
          29.130765914916992,
          30.406635284423828,
          20.882871627807617,
          18.731698989868164,
          -13.009420394897461,
          57.763614654541016,
          28.649982452392578,
          -7.852306365966797,
          48.62276840209961,
          28.073909759521484,
          26.0386905670166,
          21.023391723632812,
          -3.8358311653137207
         ],
         "xaxis": "x",
         "y": [
          -19.91399383544922,
          -17.453306198120117,
          -0.4289427101612091,
          -6.248995780944824,
          -15.612110137939453,
          17.068153381347656,
          -6.225036144256592,
          -15.02864933013916,
          0.43975239992141724,
          19.7650203704834,
          -6.830479621887207,
          23.331497192382812,
          3.8925554752349854,
          6.128655433654785,
          -19.76137924194336,
          12.363604545593262,
          -1.432407259941101,
          9.659844398498535,
          19.828832626342773,
          22.632160186767578,
          -7.962364673614502,
          -19.485139846801758,
          0.8746788501739502,
          19.772811889648438,
          12.603363990783691,
          -10.175286293029785,
          -9.874239921569824,
          -19.700584411621094,
          -6.055810928344727,
          15.482014656066895,
          -16.74167823791504,
          14.717931747436523,
          20.071474075317383,
          -2.8706843852996826,
          7.72706413269043,
          0.01640297658741474,
          9.471946716308594,
          -5.7870073318481445,
          5.353837966918945,
          -3.985196352005005,
          -7.832817554473877,
          -5.184379577636719,
          -4.833858013153076,
          -12.433710098266602,
          20.38899040222168,
          7.383370876312256,
          -2.367865562438965,
          -3.5240557193756104,
          -5.200148582458496,
          -25.058032989501953,
          -13.849008560180664,
          16.25321388244629,
          6.055103778839111,
          -13.01681137084961,
          19.133071899414062,
          1.709575891494751,
          11.237160682678223,
          -2.8801732063293457,
          20.501306533813477,
          20.321067810058594,
          20.775415420532227,
          -20.826526641845703,
          -11.66568660736084,
          -18.595325469970703,
          10.831145286560059,
          -19.118886947631836,
          -18.887039184570312,
          13.971123695373535,
          -19.178861618041992,
          11.352421760559082,
          -18.500761032104492,
          -15.950531005859375,
          -19.48686408996582,
          3.670341968536377,
          -14.479931831359863,
          -0.2846120297908783,
          -22.020732879638672,
          -12.151830673217773,
          -22.41776466369629,
          -12.284815788269043,
          -1.8988680839538574,
          -20.866069793701172,
          -11.785653114318848,
          -3.5279622077941895,
          -8.076571464538574,
          15.970582008361816,
          -18.13771629333496,
          -18.658443450927734,
          -6.09748649597168,
          -3.756852626800537,
          20.589662551879883,
          -0.739963710308075,
          19.080249786376953,
          -17.667320251464844,
          -21.857067108154297,
          -23.78152847290039,
          -16.393566131591797,
          -17.472673416137695,
          -15.07116413116455,
          0.03873339667916298,
          -15.642765045166016,
          -9.76790714263916,
          5.813639163970947,
          7.792241096496582,
          -7.503715515136719,
          -4.933400630950928,
          8.08161735534668,
          -16.22857093811035,
          14.128792762756348,
          8.953919410705566,
          3.544642686843872,
          6.520516395568848,
          20.567649841308594,
          10.624406814575195,
          -15.233787536621094,
          23.938720703125,
          16.209360122680664,
          -24.335376739501953,
          10.267316818237305,
          9.977188110351562,
          -24.253734588623047,
          -6.012378692626953,
          15.150923728942871,
          5.478401184082031,
          -22.53012466430664,
          19.171249389648438,
          -0.07114879041910172,
          20.078983306884766,
          -15.555660247802734,
          -7.204869270324707,
          3.492565155029297,
          -2.369103193283081,
          -17.371946334838867,
          -2.0079591274261475,
          -2.634582757949829,
          -11.048200607299805,
          2.1832621097564697,
          -7.810823440551758,
          -16.803573608398438,
          -4.389543056488037,
          -11.73185920715332,
          -10.259757041931152,
          -16.149688720703125,
          -22.798078536987305,
          -8.023354530334473,
          9.340450286865234,
          -20.72641944885254,
          11.828269004821777,
          3.168950319290161,
          -3.105926990509033,
          -6.657573699951172,
          -7.909779071807861,
          -11.481595039367676,
          -2.1713199615478516,
          -11.54443645477295,
          -5.910457134246826,
          -12.743836402893066,
          -0.6122816801071167,
          9.551737785339355,
          9.304808616638184,
          -20.710309982299805,
          -13.195688247680664,
          -11.317752838134766,
          -15.285236358642578,
          18.06370735168457,
          9.58259105682373,
          -12.774608612060547,
          -5.89326810836792,
          24.169696807861328,
          12.599553108215332,
          21.624296188354492,
          -24.98414421081543,
          -22.55906867980957,
          -22.831506729125977,
          -5.26276159286499,
          -25.959266662597656,
          -10.546273231506348,
          -1.3508387804031372,
          -4.734946250915527,
          -1.2550677061080933,
          -24.761741638183594,
          -4.2715559005737305,
          -25.827442169189453,
          -10.536372184753418,
          -4.166658878326416,
          -22.637130737304688,
          -0.11847580969333649,
          -10.21158504486084,
          15.035860061645508,
          -0.6855655908584595,
          -1.5166102647781372,
          -0.08724858611822128,
          -15.525639533996582,
          -17.29474639892578,
          -23.674535751342773,
          -7.836244583129883,
          -2.6557743549346924,
          17.315710067749023,
          -5.4762959480285645,
          -5.676001071929932,
          13.817928314208984,
          -21.127273559570312,
          -8.478957176208496,
          -21.85909080505371,
          -22.485944747924805,
          1.0299121141433716,
          19.526622772216797,
          -12.385021209716797,
          -2.484043836593628,
          -22.158029556274414,
          -16.687345504760742,
          13.12405776977539,
          6.76082181930542,
          -9.169095993041992,
          -19.367177963256836,
          -13.184024810791016,
          -15.527206420898438,
          15.300018310546875,
          -10.106656074523926,
          7.837717533111572,
          18.290010452270508,
          -24.519079208374023,
          -4.519001483917236,
          13.75809383392334,
          15.497559547424316,
          -18.754859924316406,
          -23.93281364440918,
          -23.44758415222168,
          -16.296493530273438,
          -23.374122619628906,
          8.330820083618164,
          -17.359670639038086,
          -11.413540840148926,
          -3.373232841491699,
          8.475789070129395,
          14.967329025268555,
          -24.463838577270508,
          3.8133232593536377,
          -18.7938232421875,
          -7.747848033905029,
          -8.944430351257324,
          20.89702796936035,
          -13.784274101257324,
          15.729719161987305,
          -17.285547256469727,
          13.31350326538086,
          6.564963340759277,
          11.90480899810791,
          11.156654357910156,
          -10.502924919128418,
          19.260787963867188,
          -16.33050537109375,
          19.441499710083008,
          9.406028747558594,
          -23.518503189086914,
          12.934399604797363,
          -20.544321060180664,
          16.35649299621582,
          -14.70789623260498,
          -8.44701099395752,
          -13.642582893371582,
          2.51389741897583,
          4.529418468475342,
          -8.748701095581055,
          -19.319965362548828,
          16.416671752929688,
          15.502934455871582,
          13.48481559753418,
          24.161588668823242,
          19.973705291748047,
          -19.551525115966797,
          22.136842727661133,
          17.665281295776367,
          -19.156574249267578,
          7.833034515380859,
          4.503926753997803,
          -6.899806499481201,
          10.921269416809082,
          -7.752579212188721,
          -16.58690643310547,
          5.183192253112793,
          15.086640357971191,
          13.083227157592773,
          19.63961410522461,
          5.945865154266357,
          4.987995624542236,
          22.643770217895508,
          -15.378626823425293,
          12.895350456237793,
          -13.422188758850098,
          -14.70222282409668,
          11.20953369140625,
          -4.446438312530518,
          -16.901782989501953,
          -13.698953628540039,
          7.212731838226318,
          17.90101432800293,
          17.842559814453125,
          2.0467422008514404,
          -22.893529891967773,
          17.696163177490234,
          13.385713577270508,
          5.218687057495117,
          19.22713279724121,
          23.472448348999023,
          18.241798400878906,
          21.503355026245117,
          20.218463897705078,
          -16.727474212646484,
          22.14812660217285,
          21.241418838500977,
          14.752649307250977,
          22.54054832458496,
          1.769583821296692,
          19.26051902770996,
          20.88128662109375,
          23.061662673950195,
          -18.182767868041992,
          0.551472544670105,
          5.694897651672363,
          25.915363311767578,
          -14.804800987243652,
          -13.15804386138916,
          7.403042316436768,
          -17.810548782348633,
          -17.033157348632812,
          22.499494552612305,
          -16.991945266723633,
          -17.6848087310791,
          8.24981689453125,
          19.316280364990234,
          -16.288888931274414,
          -18.379716873168945,
          18.51898765563965,
          -9.404571533203125,
          0.9545548558235168,
          -7.034086227416992,
          8.377762794494629,
          22.36707878112793,
          24.03455352783203,
          19.45012855529785,
          -17.634437561035156,
          20.984766006469727,
          17.96494483947754,
          24.056612014770508,
          8.014172554016113,
          -3.2658190727233887,
          -19.261354446411133,
          -16.704694747924805,
          22.223834991455078,
          -14.099467277526855,
          -2.5358409881591797,
          -7.706681251525879,
          17.229442596435547,
          -4.774209976196289,
          -14.183723449707031,
          -1.1041600704193115,
          -6.620522975921631,
          17.719161987304688,
          9.635672569274902,
          16.397254943847656,
          3.066836357116699,
          -3.7471165657043457,
          -3.1555681228637695,
          -11.764976501464844,
          -15.306623458862305,
          -21.122737884521484,
          1.9320871829986572,
          11.250734329223633,
          9.512084007263184,
          -3.542325973510742,
          9.536077499389648,
          -10.636787414550781,
          9.872137069702148,
          -2.071061372756958,
          -0.6818664073944092,
          5.4061689376831055,
          -14.42595386505127,
          4.208009719848633,
          -20.701242446899414,
          3.1313319206237793,
          2.8031749725341797,
          -5.009017467498779,
          -4.088830947875977,
          -22.606260299682617,
          0.8291743993759155,
          15.021590232849121,
          -5.03756046295166,
          -15.932868003845215,
          -1.1268514394760132,
          -6.9856767654418945,
          -9.136154174804688,
          -14.806260108947754,
          6.809070110321045,
          8.8658447265625,
          -6.621618270874023,
          -1.5739988088607788,
          -2.9491126537323,
          -22.8179931640625,
          2.0953805446624756,
          -0.877668023109436,
          -18.162961959838867,
          -26.2903995513916,
          -15.490809440612793,
          -24.581411361694336,
          -4.911216735839844,
          4.663423538208008,
          24.13413429260254,
          7.3416523933410645,
          15.064250946044922,
          7.362253665924072,
          0.7232600450515747,
          -9.001049995422363,
          -4.596092224121094,
          -13.17134952545166,
          -12.798456192016602,
          -11.901219367980957,
          -14.493158340454102,
          -14.156551361083984,
          0.19255957007408142,
          -9.224908828735352,
          2.7788596153259277,
          -17.730730056762695,
          8.087903022766113,
          21.738170623779297,
          5.822678089141846,
          -0.4780438244342804,
          1.4850996732711792,
          -14.484855651855469,
          12.532148361206055,
          -16.043272018432617,
          0.11612282693386078,
          8.926316261291504,
          -5.69832706451416,
          -2.030575752258301,
          -14.420292854309082,
          1.1504086256027222,
          0.07630228251218796,
          1.5265214443206787,
          0.09793172776699066,
          -11.343511581420898,
          -0.04452299326658249,
          -2.809008836746216,
          6.789764404296875,
          -6.00892972946167,
          -12.189106941223145,
          -4.50584602355957,
          -2.7092368602752686,
          6.574705123901367,
          4.691945552825928,
          -3.5616419315338135,
          0.9009824991226196,
          -10.236763954162598,
          -16.195337295532227,
          20.160877227783203,
          5.855189323425293,
          -6.201398849487305,
          24.347156524658203,
          15.495283126831055,
          6.611980438232422,
          3.358302354812622,
          9.454042434692383,
          19.914339065551758,
          6.904250621795654,
          -13.337347030639648,
          1.4194239377975464,
          11.951403617858887,
          -16.327253341674805,
          -1.8188488483428955,
          -8.776124000549316,
          17.66954231262207,
          -20.596834182739258,
          12.106249809265137,
          -3.0006086826324463,
          -5.150092124938965,
          11.545061111450195,
          4.576371669769287,
          4.5062761306762695,
          -1.9947445392608643,
          -1.1107559204101562,
          0.5614461302757263,
          -10.131420135498047,
          2.147670030593872,
          -8.522700309753418,
          10.15230941772461,
          -17.487749099731445,
          7.78431510925293,
          -1.7775495052337646,
          2.177283763885498,
          2.9635887145996094,
          -9.970882415771484,
          -3.0348360538482666,
          2.7759320735931396,
          -0.8518644571304321,
          -15.860705375671387,
          -16.438648223876953,
          -8.118271827697754,
          5.787589073181152,
          -0.7124050259590149,
          -17.07820701599121,
          -15.442495346069336,
          -11.204747200012207,
          -10.348007202148438,
          2.141854763031006,
          -8.741133689880371,
          -11.034317970275879,
          2.7785797119140625,
          9.903685569763184,
          6.9403300285339355,
          6.519692420959473,
          1.1930383443832397,
          18.388938903808594,
          13.86723518371582,
          0.547423243522644,
          4.305553913116455,
          10.659616470336914,
          0.060891903936862946,
          -4.7597737312316895,
          1.9477665424346924,
          -17.19243812561035,
          2.926539897918701,
          2.5388593673706055,
          -7.686121940612793,
          10.88725471496582,
          -0.58013916015625,
          -16.880245208740234,
          -15.286907196044922,
          4.2712273597717285,
          15.749601364135742,
          -12.356645584106445,
          16.923341751098633,
          19.841875076293945,
          5.633166313171387,
          -9.172629356384277,
          11.45262336730957,
          3.89540696144104,
          7.838840007781982,
          -15.477413177490234,
          -16.384761810302734,
          -8.441015243530273,
          -9.800026893615723,
          6.31525182723999,
          14.015254974365234,
          24.889053344726562,
          2.064441680908203,
          11.032987594604492,
          21.525896072387695,
          -10.055319786071777,
          18.16065788269043,
          -18.820152282714844,
          -6.636659622192383,
          -5.241300582885742,
          -11.031068801879883,
          -8.28432559967041,
          2.6763672828674316,
          1.5381340980529785,
          8.635805130004883,
          5.846498966217041,
          -14.417778968811035,
          -3.261363983154297,
          -12.861100196838379,
          -4.354051113128662,
          -8.468036651611328,
          -2.6496968269348145,
          -10.672697067260742,
          -18.212799072265625,
          -9.76394271850586,
          -20.194740295410156,
          2.295759439468384,
          8.401823997497559,
          -11.773083686828613,
          -1.3191401958465576,
          -13.295767784118652,
          -6.870555877685547,
          7.253817558288574,
          -13.974538803100586,
          -1.9581190347671509,
          -20.50465202331543,
          -12.220891952514648,
          10.001151084899902,
          2.829495668411255,
          6.1064982414245605,
          8.714570045471191,
          -0.97222501039505,
          10.554963111877441,
          -14.931242942810059,
          -4.058992862701416,
          -19.41899871826172,
          13.204304695129395,
          6.164031505584717,
          17.948453903198242,
          -10.26708984375,
          6.231656551361084,
          3.9488368034362793,
          3.387759208679199,
          -15.411832809448242,
          -21.414119720458984,
          0.19463038444519043,
          0.46567848324775696,
          -12.68341064453125,
          8.545900344848633,
          8.491374015808105,
          -1.6383881568908691,
          10.434846878051758,
          -1.2283738851547241,
          4.801413536071777,
          5.90775203704834,
          16.354110717773438,
          -11.333757400512695,
          3.7604503631591797,
          13.722468376159668,
          3.2005300521850586,
          11.952359199523926,
          -5.492996692657471,
          16.886627197265625,
          12.651872634887695,
          -12.415422439575195,
          -2.5449061393737793,
          16.445415496826172,
          -14.653532981872559,
          -11.63203239440918,
          -8.333847045898438,
          -12.023039817810059,
          -0.5085227489471436,
          -10.670228958129883,
          5.158614635467529,
          -10.359964370727539,
          14.74847412109375,
          -7.3582658767700195,
          -13.981927871704102,
          15.449605941772461,
          5.965954780578613,
          2.800999164581299,
          -15.257164001464844,
          6.690837860107422,
          -1.5473904609680176,
          2.1298635005950928,
          5.666834354400635,
          10.639509201049805,
          -6.2414469718933105,
          0.6526369452476501,
          -0.7322314381599426,
          -8.174909591674805,
          0.18169113993644714,
          7.029242038726807,
          -4.583497047424316,
          1.6048096418380737,
          9.244254112243652,
          0.3139394521713257,
          3.7692646980285645,
          -13.301671028137207,
          8.959636688232422,
          15.79715347290039,
          -1.8186731338500977,
          -16.060585021972656,
          3.5760462284088135,
          2.2755191326141357,
          -18.048948287963867,
          5.06477689743042,
          -21.12741470336914,
          -0.006541236769407988,
          -11.882272720336914,
          11.920804023742676,
          -0.5937725305557251,
          10.798972129821777,
          11.006928443908691,
          4.963067531585693,
          1.293372631072998,
          -1.8175886869430542,
          -14.307353019714355,
          -3.9966111183166504,
          4.354252338409424,
          -13.184914588928223,
          -2.130052089691162,
          3.610844135284424,
          4.082611560821533,
          -2.748709201812744,
          -14.640800476074219,
          -1.1273704767227173,
          16.506183624267578,
          6.577381134033203,
          -15.302165985107422,
          -13.932111740112305,
          -16.0614070892334,
          -22.60804557800293,
          -8.339262008666992,
          -11.795485496520996,
          -5.50310754776001,
          -18.72958755493164,
          20.868040084838867,
          -4.233574390411377,
          -18.340131759643555,
          -5.043432712554932,
          7.681164741516113,
          6.053791522979736,
          14.133440971374512,
          26.864931106567383,
          -6.463979721069336,
          -21.09575843811035,
          -5.68341588973999,
          7.4197564125061035,
          0.5592580437660217,
          12.559465408325195,
          -3.052917718887329,
          8.188082695007324,
          5.131649494171143,
          24.772998809814453,
          -0.9210114479064941,
          17.247575759887695,
          -17.26069450378418,
          -1.8432310819625854,
          2.6236729621887207,
          20.50360679626465,
          1.131008505821228,
          -3.264564275741577,
          -1.3319772481918335,
          8.174738883972168,
          13.858243942260742,
          0.9149735569953918,
          -13.225393295288086,
          -24.9340763092041,
          -13.503979682922363,
          1.3731638193130493,
          -10.072539329528809,
          2.677760124206543,
          -4.564676284790039,
          -9.30469799041748,
          -18.251399993896484,
          -19.86958122253418,
          9.508522987365723,
          -18.47557830810547,
          -19.430831909179688,
          -5.994561672210693,
          9.348945617675781,
          11.287972450256348,
          12.068623542785645,
          -7.8437886238098145,
          0.8262880444526672,
          -19.107446670532227,
          17.380395889282227,
          7.145388603210449,
          -22.476266860961914,
          10.53959846496582,
          25.780521392822266,
          23.599496841430664,
          -0.9510573744773865,
          0.2684071362018585,
          -17.322132110595703,
          -11.34226131439209,
          16.270263671875,
          15.827275276184082,
          17.01681137084961,
          13.296977043151855,
          2.9061882495880127,
          -14.062506675720215,
          8.729318618774414,
          -8.159682273864746,
          5.94813346862793,
          4.527048587799072,
          10.226468086242676,
          0.0213340874761343,
          14.690509796142578,
          15.441450119018555,
          1.9414328336715698,
          -1.6757489442825317,
          -7.055571556091309,
          -4.295568943023682,
          -11.994450569152832,
          7.376864910125732,
          0.1256701648235321,
          -4.726570129394531,
          2.735583782196045,
          1.4933297634124756,
          -15.31047248840332,
          -9.666420936584473,
          5.297276496887207,
          -0.8079010844230652,
          -5.9475884437561035,
          3.9553310871124268,
          -6.403891563415527,
          -16.25844955444336,
          -0.9703410863876343,
          -15.196309089660645,
          -0.5877729058265686,
          -5.475761413574219,
          0.37441039085388184,
          -16.387861251831055,
          -0.6227670311927795,
          17.261943817138672,
          -4.618133068084717,
          1.3200247287750244,
          4.189395427703857,
          11.356735229492188,
          -15.819515228271484,
          8.272245407104492,
          -16.129493713378906,
          -6.473615646362305,
          3.2709131240844727,
          12.08420181274414,
          -6.2039103507995605,
          2.181143283843994,
          -12.04114055633545,
          0.8962740302085876,
          -5.917036533355713,
          -1.1714069843292236,
          0.06958799064159393,
          -4.141566753387451,
          11.79106330871582,
          -15.094465255737305,
          -5.149649143218994,
          13.526315689086914,
          -5.379525184631348,
          24.07911491394043,
          -1.9076436758041382,
          -17.50684356689453,
          -4.747105121612549,
          -2.3414673805236816,
          -0.05604752525687218,
          11.741450309753418,
          4.6256327629089355,
          -18.365859985351562,
          -0.641298234462738,
          -14.415080070495605,
          2.7627060413360596,
          -16.16193962097168,
          -4.407107830047607,
          12.58915901184082,
          -7.585044860839844,
          11.783088684082031,
          3.848754405975342,
          -11.189170837402344,
          -1.8062267303466797,
          9.685514450073242,
          -6.167550563812256,
          16.737548828125,
          6.772740364074707,
          -13.226940155029297,
          1.8774211406707764,
          -0.0003338928217999637,
          -6.5169830322265625,
          -7.647075653076172,
          -9.903578758239746,
          -8.491255760192871,
          6.234156131744385,
          27.727893829345703,
          8.544045448303223,
          10.917827606201172,
          0.6664935350418091,
          13.517061233520508,
          9.825796127319336,
          6.398618221282959,
          0.4301742613315582,
          7.436670303344727,
          22.272811889648438,
          14.083733558654785,
          12.746295928955078,
          -9.266986846923828,
          0.5740674138069153,
          -0.12154535204172134,
          -12.19563102722168,
          -2.693114757537842,
          7.918325901031494,
          8.63683795928955,
          15.907087326049805,
          20.888507843017578,
          12.506195068359375,
          4.6777262687683105,
          2.0359411239624023,
          -8.527031898498535,
          -0.16759197413921356,
          8.83466911315918,
          -1.9332730770111084,
          -12.52141284942627,
          22.307798385620117,
          1.9832593202590942,
          -13.738428115844727,
          -8.567532539367676,
          -13.58630084991455,
          -17.734516143798828,
          10.653863906860352,
          -13.718186378479004,
          17.790454864501953,
          17.36908531188965,
          14.042901992797852,
          -12.004728317260742,
          18.067218780517578,
          18.243938446044922,
          18.626455307006836,
          23.03192138671875,
          -3.671283006668091,
          20.68809700012207,
          -18.967111587524414,
          13.023707389831543,
          -2.657527208328247,
          -15.233214378356934,
          19.082046508789062,
          -6.483731269836426,
          20.32115936279297,
          21.898908615112305,
          13.871260643005371,
          4.569432735443115,
          18.334888458251953,
          5.102370262145996,
          20.569419860839844,
          -10.485125541687012,
          7.538729190826416,
          -8.867868423461914,
          -10.714627265930176,
          17.744218826293945,
          -2.698723077774048,
          -2.1886932849884033,
          11.440535545349121,
          0.6450023651123047,
          -15.480496406555176,
          7.122673511505127,
          14.535487174987793,
          3.468198299407959,
          -18.587623596191406,
          3.9845969676971436,
          -2.5921695232391357,
          16.582427978515625,
          21.47168731689453,
          15.560100555419922,
          -4.422358989715576,
          16.521652221679688,
          -8.595987319946289,
          6.719303607940674,
          -18.927331924438477,
          5.563750743865967,
          -8.775039672851562,
          -3.232266664505005,
          -13.314766883850098,
          2.8333280086517334,
          -9.375815391540527,
          11.62720775604248,
          11.511191368103027,
          21.280410766601562,
          -16.739620208740234,
          -1.7295854091644287,
          -6.789322853088379,
          -13.479559898376465,
          -2.6994054317474365,
          3.884143829345703,
          -6.127101421356201,
          -13.394097328186035,
          -10.73893928527832,
          0.7761367559432983,
          -7.683152198791504,
          -3.736591100692749,
          6.133813858032227,
          12.469513893127441,
          8.128912925720215,
          8.25851821899414,
          -2.327493667602539,
          6.202837944030762,
          -0.3464955687522888,
          9.737648010253906,
          16.751394271850586,
          5.970396995544434,
          8.126323699951172,
          8.759804725646973,
          0.9657748937606812,
          11.408674240112305,
          5.808207988739014,
          12.560090065002441,
          -14.649039268493652,
          -13.044964790344238,
          6.976806163787842,
          14.326476097106934,
          6.747283935546875,
          14.006582260131836,
          -1.0624747276306152,
          -8.503152847290039,
          1.7115033864974976,
          11.300214767456055,
          -4.471526622772217,
          -12.681970596313477,
          9.120648384094238,
          10.097795486450195,
          -1.314145565032959,
          6.594898700714111,
          -7.076074123382568,
          12.344529151916504,
          -14.54810619354248,
          10.269072532653809,
          -12.577627182006836,
          2.53818941116333,
          -12.538511276245117,
          -1.4591662883758545,
          21.44986915588379,
          -5.333700656890869,
          2.1151742935180664,
          10.782909393310547,
          11.63508129119873,
          16.558626174926758,
          -9.811814308166504,
          0.9000123739242554,
          -3.125650405883789,
          -13.882051467895508,
          -3.2402913570404053,
          -1.3433237075805664,
          7.367604732513428,
          7.7759857177734375,
          -7.460400104522705,
          7.2557692527771,
          9.307984352111816,
          10.38186264038086,
          19.015989303588867,
          5.157100200653076,
          7.0428571701049805,
          4.084898471832275,
          14.412320137023926,
          -11.319425582885742,
          7.80349588394165,
          -6.7510762214660645,
          -16.601287841796875,
          -1.5958852767944336,
          -4.030108451843262,
          13.742116928100586,
          4.183863639831543,
          5.215705394744873,
          -10.003833770751953,
          11.098309516906738,
          12.222959518432617,
          -16.571157455444336,
          19.513389587402344,
          1.093288779258728,
          10.535486221313477,
          7.102192401885986,
          -1.5575670003890991,
          -11.71689224243164,
          -7.106693267822266,
          7.966651916503906,
          10.416646957397461,
          -3.770522117614746,
          -3.757460832595825,
          4.3713579177856445,
          -12.113875389099121,
          -12.999079704284668,
          7.1474103927612305,
          -12.227686882019043,
          -7.685692310333252,
          -5.662733554840088,
          -3.5812864303588867,
          7.0871357917785645,
          -11.281876564025879,
          -22.611621856689453,
          0.39416250586509705,
          -8.2252197265625,
          7.719854354858398,
          7.891790866851807,
          4.703690528869629,
          -18.14349365234375,
          -4.6477952003479,
          -3.17061185836792,
          12.855233192443848,
          -5.525357723236084,
          -9.25803279876709,
          15.4144926071167,
          4.505373001098633,
          -6.187363624572754,
          19.76396369934082,
          -17.656129837036133,
          4.856862545013428,
          8.84340763092041,
          -6.061336994171143,
          18.625476837158203,
          17.75942611694336,
          -7.985186576843262,
          -2.7554664611816406,
          -5.068790435791016,
          -2.2707974910736084,
          1.5165793895721436,
          -15.426983833312988,
          -8.254804611206055,
          -12.317429542541504,
          7.110510349273682,
          -11.945897102355957,
          -5.887353897094727,
          8.996066093444824,
          1.364795207977295,
          1.2343897819519043,
          -7.223586082458496,
          15.278878211975098,
          15.131381034851074,
          14.962461471557617,
          7.109592437744141,
          -3.7335872650146484,
          -4.99821662902832,
          -6.368745803833008,
          -2.696258544921875,
          0.8094566464424133,
          25.329923629760742,
          1.4678223133087158,
          -6.3650922775268555,
          -0.36249762773513794,
          23.302356719970703,
          -0.7227761745452881,
          13.15449333190918,
          -2.7853286266326904,
          12.152630805969238,
          4.225167751312256,
          17.925870895385742,
          -3.1537797451019287,
          -16.526607513427734,
          13.250746726989746,
          24.894607543945312,
          5.866452693939209,
          12.5573091506958,
          7.860750675201416,
          13.72183895111084,
          0.7998510599136353,
          0.5443357229232788,
          6.583061695098877,
          5.159977912902832,
          -12.674333572387695,
          -12.772860527038574,
          1.6898269653320312,
          -12.591511726379395,
          -8.015400886535645,
          8.111443519592285,
          -7.485867023468018,
          -10.480555534362793,
          -15.84776496887207,
          15.50114917755127,
          1.8506405353546143,
          11.709023475646973,
          -3.658129930496216,
          15.983121871948242,
          -5.7239179611206055,
          7.002987861633301,
          10.326910018920898,
          -4.173160076141357,
          -3.538949966430664,
          -1.7729719877243042,
          5.073729991912842,
          13.793878555297852,
          -14.498481750488281,
          -9.724262237548828,
          -2.0781850814819336,
          1.03224515914917,
          12.571147918701172,
          1.3929884433746338,
          12.100383758544922,
          -10.043929100036621,
          -0.7748680710792542,
          1.3406450748443604,
          0.11544549465179443,
          15.644119262695312,
          4.627193450927734,
          -0.8729515075683594,
          18.70787811279297,
          1.1615670919418335,
          9.103551864624023,
          -1.5831630229949951,
          -11.16203784942627,
          -4.2142181396484375,
          10.542770385742188,
          12.735547065734863,
          24.96356201171875,
          2.4996702671051025,
          7.533817291259766,
          -4.397287845611572,
          5.860620975494385,
          -4.669816970825195,
          23.75564193725586,
          -1.366237759590149,
          -2.6450283527374268,
          9.89273738861084,
          -6.383570671081543,
          5.713508605957031,
          -11.843647003173828,
          -0.2902314364910126,
          -1.4252614974975586,
          21.671358108520508,
          18.52202033996582,
          -1.409461259841919,
          -2.820913553237915,
          -5.419042110443115,
          -8.473207473754883,
          3.6532113552093506,
          -4.932447910308838,
          4.188352584838867,
          1.898474931716919,
          -11.416600227355957,
          -9.480502128601074,
          9.05154037475586,
          -0.4938894510269165,
          -14.842458724975586,
          -21.77767562866211,
          17.29033088684082,
          -2.4270713329315186,
          14.61959171295166,
          16.28495979309082,
          -4.7081804275512695,
          -2.2236526012420654,
          13.971552848815918,
          2.19053316116333,
          -0.4705127775669098,
          8.43108081817627,
          0.387616366147995,
          9.391776084899902,
          8.659764289855957,
          -1.9644006490707397,
          -6.796709060668945,
          2.4464149475097656,
          -1.9341167211532593,
          4.3176045417785645,
          -10.815633773803711,
          -10.007420539855957,
          20.51866340637207,
          4.04929780960083,
          -0.2599685788154602,
          4.000394344329834,
          -7.80438756942749,
          8.466544151306152,
          -6.787861347198486,
          -17.57737922668457,
          2.8031861782073975,
          -16.592872619628906,
          -3.99630069732666,
          5.3126606941223145,
          2.0429744720458984,
          0.2817980647087097,
          -5.421893119812012,
          10.33906364440918,
          1.1781539916992188,
          -12.038896560668945,
          -4.223745346069336,
          7.417489528656006,
          -2.0266144275665283,
          1.6991736888885498,
          2.830756425857544,
          12.714595794677734,
          17.370601654052734,
          -1.0895581245422363,
          17.210872650146484,
          8.803450584411621,
          9.926098823547363,
          22.750974655151367,
          16.398962020874023,
          2.2505173683166504,
          20.47117042541504,
          -10.415024757385254,
          15.924989700317383,
          -4.0779643058776855,
          -2.9136219024658203,
          -3.447190046310425,
          -5.1923041343688965,
          2.452759027481079,
          16.992862701416016,
          19.806119918823242,
          -8.781567573547363,
          -3.947115182876587,
          4.684319972991943,
          -4.1769022941589355,
          0.5493413805961609,
          5.6653900146484375,
          11.307129859924316,
          0.20286783576011658,
          9.661375045776367,
          -1.1839210987091064,
          4.831584930419922,
          8.406435012817383,
          20.335927963256836,
          2.06131911277771,
          0.9289870858192444,
          5.5003981590271,
          -18.807064056396484,
          7.041174411773682,
          0.3488500118255615,
          5.404410362243652,
          0.7558200359344482,
          2.914402484893799,
          -0.9169203042984009,
          10.628181457519531,
          8.6447114944458,
          11.664554595947266,
          1.1044484376907349,
          -10.557049751281738,
          19.78531265258789,
          -3.513085126876831,
          8.360297203063965,
          -7.9742937088012695,
          -18.946544647216797,
          11.94364070892334,
          7.80647611618042,
          3.692509651184082,
          0.5365546941757202,
          -2.0569684505462646,
          10.678547859191895,
          -6.520793914794922,
          17.504772186279297,
          -18.136661529541016,
          -9.57206916809082,
          16.648517608642578,
          -4.187239646911621,
          11.02405834197998,
          11.407858848571777,
          0.9639002680778503,
          5.001361846923828,
          20.467300415039062,
          3.9399502277374268,
          -1.2239123582839966,
          -2.185788631439209,
          -7.701867580413818,
          0.7807542085647583,
          -0.1400449275970459,
          -3.24407696723938,
          0.7391077876091003,
          -0.5028366446495056,
          1.6402438879013062,
          9.49869155883789,
          -5.576900005340576,
          13.800065040588379,
          17.80206871032715,
          5.422036170959473,
          -0.07958158850669861,
          3.581059217453003,
          6.03079891204834,
          -3.287339687347412,
          -7.646234512329102,
          4.1147379875183105,
          -0.7983165383338928,
          6.985831260681152,
          5.781617641448975,
          -3.5840749740600586,
          23.23164176940918,
          -1.0319494009017944,
          1.5306506156921387,
          16.549488067626953,
          3.2342398166656494,
          1.0720996856689453,
          7.20460319519043,
          -2.0801806449890137,
          3.6783924102783203,
          -6.660731792449951,
          0.6395405530929565,
          6.3565168380737305,
          6.185988903045654,
          7.2034382820129395,
          16.74907684326172,
          6.244476795196533,
          19.99098014831543,
          -8.95814037322998,
          19.129995346069336,
          9.621537208557129,
          7.331543445587158,
          -3.7614920139312744,
          6.738936901092529,
          3.839980125427246,
          5.99049711227417,
          1.2363898754119873,
          6.147592067718506,
          9.531057357788086,
          4.042463302612305,
          3.1462268829345703,
          16.813983917236328,
          5.815034866333008,
          0.6127090454101562,
          -5.117109775543213,
          6.544824123382568,
          6.291604995727539,
          -0.5748414993286133,
          -0.3944924771785736,
          6.511809349060059,
          16.027992248535156,
          2.940772533416748,
          1.4359729290008545,
          9.864463806152344,
          1.5796394348144531,
          13.508922576904297,
          6.816967010498047,
          5.414304733276367,
          14.500041007995605,
          2.7381012439727783,
          6.739668369293213,
          0.6336821913719177,
          17.098846435546875,
          3.9643619060516357,
          17.25393295288086,
          20.444189071655273,
          -9.174192428588867,
          -0.45226308703422546,
          9.064902305603027,
          4.811580657958984,
          -9.802423477172852,
          17.13884735107422,
          -10.10707950592041,
          -9.47424030303955,
          -10.384369850158691,
          -9.39706802368164,
          -12.085904121398926,
          21.727697372436523,
          4.953423023223877,
          10.81930160522461,
          -9.775972366333008,
          -4.2783379554748535,
          -5.598669528961182,
          -9.013922691345215,
          -9.887828826904297,
          1.9819082021713257,
          -4.057300567626953,
          0.31229227781295776,
          12.98768138885498,
          7.633317947387695,
          5.962337017059326,
          3.8231518268585205,
          -8.833090782165527,
          -7.7347731590271,
          1.5605405569076538,
          0.7827032208442688,
          -1.059840440750122,
          0.01664873957633972,
          7.079370975494385,
          -0.9356822967529297,
          10.418313026428223,
          3.1015899181365967,
          -1.7341125011444092,
          0.13566511869430542,
          -10.875720977783203,
          0.04589284583926201,
          2.5328941345214844,
          0.6546046733856201,
          3.18855619430542,
          12.692477226257324,
          1.8807884454727173,
          -3.797060966491699,
          5.943241596221924,
          5.702926158905029,
          16.197500228881836,
          -0.9236027002334595,
          10.614839553833008,
          14.847416877746582,
          0.3802218437194824,
          -2.107985258102417,
          -2.7641031742095947,
          -0.12177019566297531,
          -8.38914680480957,
          -14.21750545501709,
          -7.210958480834961,
          -1.8312184810638428,
          -14.987483978271484,
          -12.288826942443848,
          5.137846946716309,
          -6.466648578643799,
          -9.651678085327148,
          -2.92425274848938,
          6.131526947021484,
          -9.545829772949219,
          10.935181617736816,
          -9.64812183380127,
          -2.9255003929138184,
          -1.4096359014511108,
          0.4775814414024353,
          -9.103779792785645,
          -9.635624885559082,
          -9.677858352661133,
          4.220756530761719,
          -2.7584891319274902,
          -0.24244113266468048,
          14.283828735351562,
          -2.061892032623291,
          10.615306854248047,
          3.120936393737793,
          18.554534912109375,
          12.77328872680664,
          -7.251708507537842,
          -6.369486331939697,
          6.313352108001709,
          4.899328231811523,
          -0.5511949062347412,
          -7.941787242889404,
          -7.998340129852295,
          19.577098846435547,
          -2.229247570037842,
          -10.223732948303223,
          -6.847857475280762,
          -2.0882458686828613,
          6.112387180328369,
          -1.3700183629989624,
          9.393831253051758,
          -4.2854084968566895,
          -5.987170696258545,
          -1.5003933906555176,
          0.2685419023036957,
          0.8218644261360168,
          3.837064266204834,
          -5.6018571853637695,
          -3.276102066040039,
          -1.5748729705810547,
          -3.3925139904022217,
          -3.2719149589538574,
          0.312788188457489,
          -2.069995880126953,
          7.5080084800720215,
          -2.889920473098755,
          -3.036547899246216,
          13.851225852966309,
          11.687466621398926,
          3.9949705600738525,
          0.25520059466362,
          -17.818317413330078,
          17.02787971496582,
          -0.7204524278640747,
          9.660917282104492,
          3.805820941925049,
          -5.341246128082275,
          2.8421459197998047,
          3.0073578357696533,
          5.357100009918213,
          5.872324466705322,
          0.23913146555423737,
          -1.8038694858551025,
          -0.7726892828941345,
          -9.037627220153809,
          -4.3066301345825195,
          -14.263395309448242,
          -5.082433223724365,
          1.0176550149917603,
          -10.152922630310059,
          -10.177440643310547,
          0.13042892515659332,
          16.5454158782959,
          -0.5122678875923157,
          -2.604443311691284,
          -5.962299823760986,
          -9.34245491027832,
          3.714655876159668,
          -0.3967292904853821,
          -7.342281341552734,
          -2.312886953353882,
          8.76053524017334,
          3.8035426139831543,
          8.468709945678711,
          11.465348243713379,
          15.995309829711914,
          12.415291786193848,
          2.853520154953003,
          -12.586687088012695,
          -1.0453014373779297,
          -2.3095650672912598,
          -2.375025749206543,
          -6.658880710601807,
          10.237753868103027,
          1.088089108467102,
          -2.322803020477295,
          -0.7293193936347961,
          -0.005671808496117592,
          -2.126563549041748,
          -2.5928101539611816,
          -5.6411027908325195,
          -2.5676486492156982,
          -2.1330649852752686,
          4.0181498527526855,
          -0.19282375276088715,
          1.3647983074188232,
          8.597329139709473,
          0.5008363127708435,
          11.30288314819336,
          -0.3473854660987854,
          0.9024191498756409,
          0.8262616991996765,
          -1.1198004484176636,
          0.5885950922966003,
          -2.4462690353393555,
          -1.8932199478149414,
          1.2313774824142456,
          0.6860889196395874,
          -3.5157291889190674,
          0.464297354221344,
          1.016107201576233,
          0.6060088276863098,
          0.6894566416740417,
          1.4942678213119507,
          0.05773356929421425,
          0.5901561379432678,
          3.5742275714874268,
          -0.3965960741043091,
          1.3647472858428955,
          -0.4036714434623718,
          0.3691161572933197,
          -3.5178141593933105,
          -1.531948447227478,
          4.025696277618408,
          0.90010005235672,
          -0.5705418586730957,
          -9.671292304992676,
          -2.452211856842041,
          -9.928778648376465,
          15.15015697479248,
          13.587427139282227,
          0.15389719605445862,
          -15.136506080627441,
          -1.7836604118347168,
          -0.7778565883636475,
          5.737360954284668,
          -5.737576484680176,
          -12.716259002685547,
          11.31500244140625,
          4.897175312042236,
          17.023862838745117,
          0.13582295179367065,
          7.292503833770752,
          -10.827743530273438,
          0.49322274327278137,
          16.33222198486328,
          -7.302371025085449,
          -0.19197997450828552,
          4.774406433105469,
          3.5738725662231445,
          21.297542572021484,
          21.165483474731445,
          -0.45039102435112,
          -7.457653045654297,
          -0.13171899318695068,
          17.300029754638672,
          -1.532875895500183,
          -7.290288925170898,
          7.179672718048096,
          -0.1918782889842987,
          1.5062199831008911,
          8.25776481628418,
          -7.044131278991699,
          21.31975555419922,
          4.632850646972656,
          -9.262777328491211,
          13.059781074523926,
          -2.1656644344329834,
          3.436790943145752,
          0.5364570021629333,
          3.3723368644714355,
          2.98939847946167,
          -2.248615264892578,
          3.0386619567871094,
          0.6787095069885254,
          2.850782871246338,
          0.4370655417442322,
          3.562443971633911,
          3.306398630142212,
          -2.1920697689056396,
          17.249004364013672,
          10.515585899353027,
          -0.9409335255622864,
          -0.03657066822052002,
          19.040712356567383,
          3.5173511505126953,
          -0.43840277194976807,
          3.3936572074890137,
          -2.4249684810638428,
          0.8442521691322327,
          4.87243127822876,
          -2.755204677581787,
          -1.2647149562835693,
          0.4209989011287689,
          10.892913818359375,
          -12.182787895202637,
          15.598554611206055,
          0.4660845100879669,
          3.58046293258667,
          4.476261138916016,
          -6.4337077140808105,
          -8.042813301086426,
          11.101587295532227,
          -3.522280693054199,
          -7.191206455230713,
          -9.618181228637695,
          -9.558269500732422,
          -7.7661943435668945,
          -9.185004234313965,
          0.8184125423431396,
          1.0991127490997314,
          1.236775279045105,
          2.9777886867523193,
          -0.3829583525657654,
          2.782665729522705,
          1.8112555742263794,
          0.2659599184989929,
          -8.588194847106934,
          -1.9414585828781128,
          3.416328191757202,
          3.204671621322632
         ],
         "yaxis": "y"
        }
       ],
       "layout": {
        "coloraxis": {
         "colorbar": {
          "title": {
           "text": "popularity"
          }
         },
         "colorscale": [
          [
           0,
           "#0d0887"
          ],
          [
           0.1111111111111111,
           "#46039f"
          ],
          [
           0.2222222222222222,
           "#7201a8"
          ],
          [
           0.3333333333333333,
           "#9c179e"
          ],
          [
           0.4444444444444444,
           "#bd3786"
          ],
          [
           0.5555555555555556,
           "#d8576b"
          ],
          [
           0.6666666666666666,
           "#ed7953"
          ],
          [
           0.7777777777777778,
           "#fb9f3a"
          ],
          [
           0.8888888888888888,
           "#fdca26"
          ],
          [
           1,
           "#f0f921"
          ]
         ]
        },
        "legend": {
         "tracegroupgap": 0
        },
        "margin": {
         "t": 60
        },
        "template": {
         "data": {
          "bar": [
           {
            "error_x": {
             "color": "#2a3f5f"
            },
            "error_y": {
             "color": "#2a3f5f"
            },
            "marker": {
             "line": {
              "color": "#E5ECF6",
              "width": 0.5
             },
             "pattern": {
              "fillmode": "overlay",
              "size": 10,
              "solidity": 0.2
             }
            },
            "type": "bar"
           }
          ],
          "barpolar": [
           {
            "marker": {
             "line": {
              "color": "#E5ECF6",
              "width": 0.5
             },
             "pattern": {
              "fillmode": "overlay",
              "size": 10,
              "solidity": 0.2
             }
            },
            "type": "barpolar"
           }
          ],
          "carpet": [
           {
            "aaxis": {
             "endlinecolor": "#2a3f5f",
             "gridcolor": "white",
             "linecolor": "white",
             "minorgridcolor": "white",
             "startlinecolor": "#2a3f5f"
            },
            "baxis": {
             "endlinecolor": "#2a3f5f",
             "gridcolor": "white",
             "linecolor": "white",
             "minorgridcolor": "white",
             "startlinecolor": "#2a3f5f"
            },
            "type": "carpet"
           }
          ],
          "choropleth": [
           {
            "colorbar": {
             "outlinewidth": 0,
             "ticks": ""
            },
            "type": "choropleth"
           }
          ],
          "contour": [
           {
            "colorbar": {
             "outlinewidth": 0,
             "ticks": ""
            },
            "colorscale": [
             [
              0,
              "#0d0887"
             ],
             [
              0.1111111111111111,
              "#46039f"
             ],
             [
              0.2222222222222222,
              "#7201a8"
             ],
             [
              0.3333333333333333,
              "#9c179e"
             ],
             [
              0.4444444444444444,
              "#bd3786"
             ],
             [
              0.5555555555555556,
              "#d8576b"
             ],
             [
              0.6666666666666666,
              "#ed7953"
             ],
             [
              0.7777777777777778,
              "#fb9f3a"
             ],
             [
              0.8888888888888888,
              "#fdca26"
             ],
             [
              1,
              "#f0f921"
             ]
            ],
            "type": "contour"
           }
          ],
          "contourcarpet": [
           {
            "colorbar": {
             "outlinewidth": 0,
             "ticks": ""
            },
            "type": "contourcarpet"
           }
          ],
          "heatmap": [
           {
            "colorbar": {
             "outlinewidth": 0,
             "ticks": ""
            },
            "colorscale": [
             [
              0,
              "#0d0887"
             ],
             [
              0.1111111111111111,
              "#46039f"
             ],
             [
              0.2222222222222222,
              "#7201a8"
             ],
             [
              0.3333333333333333,
              "#9c179e"
             ],
             [
              0.4444444444444444,
              "#bd3786"
             ],
             [
              0.5555555555555556,
              "#d8576b"
             ],
             [
              0.6666666666666666,
              "#ed7953"
             ],
             [
              0.7777777777777778,
              "#fb9f3a"
             ],
             [
              0.8888888888888888,
              "#fdca26"
             ],
             [
              1,
              "#f0f921"
             ]
            ],
            "type": "heatmap"
           }
          ],
          "heatmapgl": [
           {
            "colorbar": {
             "outlinewidth": 0,
             "ticks": ""
            },
            "colorscale": [
             [
              0,
              "#0d0887"
             ],
             [
              0.1111111111111111,
              "#46039f"
             ],
             [
              0.2222222222222222,
              "#7201a8"
             ],
             [
              0.3333333333333333,
              "#9c179e"
             ],
             [
              0.4444444444444444,
              "#bd3786"
             ],
             [
              0.5555555555555556,
              "#d8576b"
             ],
             [
              0.6666666666666666,
              "#ed7953"
             ],
             [
              0.7777777777777778,
              "#fb9f3a"
             ],
             [
              0.8888888888888888,
              "#fdca26"
             ],
             [
              1,
              "#f0f921"
             ]
            ],
            "type": "heatmapgl"
           }
          ],
          "histogram": [
           {
            "marker": {
             "pattern": {
              "fillmode": "overlay",
              "size": 10,
              "solidity": 0.2
             }
            },
            "type": "histogram"
           }
          ],
          "histogram2d": [
           {
            "colorbar": {
             "outlinewidth": 0,
             "ticks": ""
            },
            "colorscale": [
             [
              0,
              "#0d0887"
             ],
             [
              0.1111111111111111,
              "#46039f"
             ],
             [
              0.2222222222222222,
              "#7201a8"
             ],
             [
              0.3333333333333333,
              "#9c179e"
             ],
             [
              0.4444444444444444,
              "#bd3786"
             ],
             [
              0.5555555555555556,
              "#d8576b"
             ],
             [
              0.6666666666666666,
              "#ed7953"
             ],
             [
              0.7777777777777778,
              "#fb9f3a"
             ],
             [
              0.8888888888888888,
              "#fdca26"
             ],
             [
              1,
              "#f0f921"
             ]
            ],
            "type": "histogram2d"
           }
          ],
          "histogram2dcontour": [
           {
            "colorbar": {
             "outlinewidth": 0,
             "ticks": ""
            },
            "colorscale": [
             [
              0,
              "#0d0887"
             ],
             [
              0.1111111111111111,
              "#46039f"
             ],
             [
              0.2222222222222222,
              "#7201a8"
             ],
             [
              0.3333333333333333,
              "#9c179e"
             ],
             [
              0.4444444444444444,
              "#bd3786"
             ],
             [
              0.5555555555555556,
              "#d8576b"
             ],
             [
              0.6666666666666666,
              "#ed7953"
             ],
             [
              0.7777777777777778,
              "#fb9f3a"
             ],
             [
              0.8888888888888888,
              "#fdca26"
             ],
             [
              1,
              "#f0f921"
             ]
            ],
            "type": "histogram2dcontour"
           }
          ],
          "mesh3d": [
           {
            "colorbar": {
             "outlinewidth": 0,
             "ticks": ""
            },
            "type": "mesh3d"
           }
          ],
          "parcoords": [
           {
            "line": {
             "colorbar": {
              "outlinewidth": 0,
              "ticks": ""
             }
            },
            "type": "parcoords"
           }
          ],
          "pie": [
           {
            "automargin": true,
            "type": "pie"
           }
          ],
          "scatter": [
           {
            "fillpattern": {
             "fillmode": "overlay",
             "size": 10,
             "solidity": 0.2
            },
            "type": "scatter"
           }
          ],
          "scatter3d": [
           {
            "line": {
             "colorbar": {
              "outlinewidth": 0,
              "ticks": ""
             }
            },
            "marker": {
             "colorbar": {
              "outlinewidth": 0,
              "ticks": ""
             }
            },
            "type": "scatter3d"
           }
          ],
          "scattercarpet": [
           {
            "marker": {
             "colorbar": {
              "outlinewidth": 0,
              "ticks": ""
             }
            },
            "type": "scattercarpet"
           }
          ],
          "scattergeo": [
           {
            "marker": {
             "colorbar": {
              "outlinewidth": 0,
              "ticks": ""
             }
            },
            "type": "scattergeo"
           }
          ],
          "scattergl": [
           {
            "marker": {
             "colorbar": {
              "outlinewidth": 0,
              "ticks": ""
             }
            },
            "type": "scattergl"
           }
          ],
          "scattermapbox": [
           {
            "marker": {
             "colorbar": {
              "outlinewidth": 0,
              "ticks": ""
             }
            },
            "type": "scattermapbox"
           }
          ],
          "scatterpolar": [
           {
            "marker": {
             "colorbar": {
              "outlinewidth": 0,
              "ticks": ""
             }
            },
            "type": "scatterpolar"
           }
          ],
          "scatterpolargl": [
           {
            "marker": {
             "colorbar": {
              "outlinewidth": 0,
              "ticks": ""
             }
            },
            "type": "scatterpolargl"
           }
          ],
          "scatterternary": [
           {
            "marker": {
             "colorbar": {
              "outlinewidth": 0,
              "ticks": ""
             }
            },
            "type": "scatterternary"
           }
          ],
          "surface": [
           {
            "colorbar": {
             "outlinewidth": 0,
             "ticks": ""
            },
            "colorscale": [
             [
              0,
              "#0d0887"
             ],
             [
              0.1111111111111111,
              "#46039f"
             ],
             [
              0.2222222222222222,
              "#7201a8"
             ],
             [
              0.3333333333333333,
              "#9c179e"
             ],
             [
              0.4444444444444444,
              "#bd3786"
             ],
             [
              0.5555555555555556,
              "#d8576b"
             ],
             [
              0.6666666666666666,
              "#ed7953"
             ],
             [
              0.7777777777777778,
              "#fb9f3a"
             ],
             [
              0.8888888888888888,
              "#fdca26"
             ],
             [
              1,
              "#f0f921"
             ]
            ],
            "type": "surface"
           }
          ],
          "table": [
           {
            "cells": {
             "fill": {
              "color": "#EBF0F8"
             },
             "line": {
              "color": "white"
             }
            },
            "header": {
             "fill": {
              "color": "#C8D4E3"
             },
             "line": {
              "color": "white"
             }
            },
            "type": "table"
           }
          ]
         },
         "layout": {
          "annotationdefaults": {
           "arrowcolor": "#2a3f5f",
           "arrowhead": 0,
           "arrowwidth": 1
          },
          "autotypenumbers": "strict",
          "coloraxis": {
           "colorbar": {
            "outlinewidth": 0,
            "ticks": ""
           }
          },
          "colorscale": {
           "diverging": [
            [
             0,
             "#8e0152"
            ],
            [
             0.1,
             "#c51b7d"
            ],
            [
             0.2,
             "#de77ae"
            ],
            [
             0.3,
             "#f1b6da"
            ],
            [
             0.4,
             "#fde0ef"
            ],
            [
             0.5,
             "#f7f7f7"
            ],
            [
             0.6,
             "#e6f5d0"
            ],
            [
             0.7,
             "#b8e186"
            ],
            [
             0.8,
             "#7fbc41"
            ],
            [
             0.9,
             "#4d9221"
            ],
            [
             1,
             "#276419"
            ]
           ],
           "sequential": [
            [
             0,
             "#0d0887"
            ],
            [
             0.1111111111111111,
             "#46039f"
            ],
            [
             0.2222222222222222,
             "#7201a8"
            ],
            [
             0.3333333333333333,
             "#9c179e"
            ],
            [
             0.4444444444444444,
             "#bd3786"
            ],
            [
             0.5555555555555556,
             "#d8576b"
            ],
            [
             0.6666666666666666,
             "#ed7953"
            ],
            [
             0.7777777777777778,
             "#fb9f3a"
            ],
            [
             0.8888888888888888,
             "#fdca26"
            ],
            [
             1,
             "#f0f921"
            ]
           ],
           "sequentialminus": [
            [
             0,
             "#0d0887"
            ],
            [
             0.1111111111111111,
             "#46039f"
            ],
            [
             0.2222222222222222,
             "#7201a8"
            ],
            [
             0.3333333333333333,
             "#9c179e"
            ],
            [
             0.4444444444444444,
             "#bd3786"
            ],
            [
             0.5555555555555556,
             "#d8576b"
            ],
            [
             0.6666666666666666,
             "#ed7953"
            ],
            [
             0.7777777777777778,
             "#fb9f3a"
            ],
            [
             0.8888888888888888,
             "#fdca26"
            ],
            [
             1,
             "#f0f921"
            ]
           ]
          },
          "colorway": [
           "#636efa",
           "#EF553B",
           "#00cc96",
           "#ab63fa",
           "#FFA15A",
           "#19d3f3",
           "#FF6692",
           "#B6E880",
           "#FF97FF",
           "#FECB52"
          ],
          "font": {
           "color": "#2a3f5f"
          },
          "geo": {
           "bgcolor": "white",
           "lakecolor": "white",
           "landcolor": "#E5ECF6",
           "showlakes": true,
           "showland": true,
           "subunitcolor": "white"
          },
          "hoverlabel": {
           "align": "left"
          },
          "hovermode": "closest",
          "mapbox": {
           "style": "light"
          },
          "paper_bgcolor": "white",
          "plot_bgcolor": "#E5ECF6",
          "polar": {
           "angularaxis": {
            "gridcolor": "white",
            "linecolor": "white",
            "ticks": ""
           },
           "bgcolor": "#E5ECF6",
           "radialaxis": {
            "gridcolor": "white",
            "linecolor": "white",
            "ticks": ""
           }
          },
          "scene": {
           "xaxis": {
            "backgroundcolor": "#E5ECF6",
            "gridcolor": "white",
            "gridwidth": 2,
            "linecolor": "white",
            "showbackground": true,
            "ticks": "",
            "zerolinecolor": "white"
           },
           "yaxis": {
            "backgroundcolor": "#E5ECF6",
            "gridcolor": "white",
            "gridwidth": 2,
            "linecolor": "white",
            "showbackground": true,
            "ticks": "",
            "zerolinecolor": "white"
           },
           "zaxis": {
            "backgroundcolor": "#E5ECF6",
            "gridcolor": "white",
            "gridwidth": 2,
            "linecolor": "white",
            "showbackground": true,
            "ticks": "",
            "zerolinecolor": "white"
           }
          },
          "shapedefaults": {
           "line": {
            "color": "#2a3f5f"
           }
          },
          "ternary": {
           "aaxis": {
            "gridcolor": "white",
            "linecolor": "white",
            "ticks": ""
           },
           "baxis": {
            "gridcolor": "white",
            "linecolor": "white",
            "ticks": ""
           },
           "bgcolor": "#E5ECF6",
           "caxis": {
            "gridcolor": "white",
            "linecolor": "white",
            "ticks": ""
           }
          },
          "title": {
           "x": 0.05
          },
          "xaxis": {
           "automargin": true,
           "gridcolor": "white",
           "linecolor": "white",
           "ticks": "",
           "title": {
            "standoff": 15
           },
           "zerolinecolor": "white",
           "zerolinewidth": 2
          },
          "yaxis": {
           "automargin": true,
           "gridcolor": "white",
           "linecolor": "white",
           "ticks": "",
           "title": {
            "standoff": 15
           },
           "zerolinecolor": "white",
           "zerolinewidth": 2
          }
         }
        },
        "xaxis": {
         "anchor": "y",
         "domain": [
          0,
          1
         ],
         "title": {
          "text": "tsne_1"
         }
        },
        "yaxis": {
         "anchor": "x",
         "domain": [
          0,
          1
         ],
         "title": {
          "text": "tsne_2"
         }
        }
       }
      }
     },
     "metadata": {},
     "output_type": "display_data"
    }
   ],
   "source": [
    "import plotly.express as px\n",
    "\n",
    "tsne_df = pd.DataFrame(item_tsne, columns=[\"tsne_1\", \"tsne_2\"])\n",
    "tsne_df[\"item_id\"] = np.arange(item_tsne.shape[0])\n",
    "tsne_df = tsne_df.merge(items.reset_index())\n",
    "\n",
    "px.scatter(tsne_df, x=\"tsne_1\", y=\"tsne_2\",\n",
    "           color=\"popularity\",\n",
    "           hover_data=[\"item_id\", \"title\", \"popularity\"])"
   ]
  },
  {
   "cell_type": "markdown",
   "metadata": {},
   "source": [
    "### Exercises\n",
    "\n",
    " - Add another layer to the neural network and retrain, compare train/test error.\n",
    " - Try adding more dropout and change layer sizes.\n"
   ]
  },
  {
   "cell_type": "markdown",
   "metadata": {},
   "source": [
    "### A recommendation function for a given user\n",
    "\n",
    "Once the model is trained, the system can be used to recommend a few items for a user that they haven't seen before. The following code does that.\n",
    "\n",
    "- we use the `model.predict` to compute the ratings a user would have given to all items\n",
    "- we build a function that sorts these items and excludes those the user has already seen."
   ]
  },
  {
   "cell_type": "code",
   "execution_count": 38,
   "metadata": {
    "scrolled": true
   },
   "outputs": [],
   "source": [
    "def recommend(user_id, top_n=10):\n",
    "    item_ids = range(1, items['item_id'].max())\n",
    "    seen_mask = all_ratings[\"user_id\"] == user_id\n",
    "    seen_movies = set(all_ratings[seen_mask][\"item_id\"])\n",
    "    item_ids = list(filter(lambda x: x not in seen_movies, item_ids))\n",
    "\n",
    "    user = np.zeros_like(item_ids)\n",
    "    user[:len(item_ids)] = user_id\n",
    "    items_ = np.array(item_ids)\n",
    "    ratings = model.predict([user, items_]).flatten()\n",
    "    top_items = ratings.argsort()[-top_n:][::-1]\n",
    "    return [(indexed_items.loc[item_id][\"title\"], ratings[item_id]) for item_id in top_items]"
   ]
  },
  {
   "cell_type": "code",
   "execution_count": 39,
   "metadata": {},
   "outputs": [
    {
     "name": "stdout",
     "output_type": "stream",
     "text": [
      "48/48 [==============================] - 0s 863us/step\n",
      "    4.5: Eat Drink Man Woman (1994)\n",
      "    4.2: Dead Man Walking (1995)\n",
      "    4.2: Faster Pussycat! Kill! Kill! (1965)\n",
      "    4.1: Terminator 2: Judgment Day (1991)\n",
      "    4.1: 20,000 Leagues Under the Sea (1954)\n",
      "    4.1: Little Odessa (1994)\n",
      "    4.1: Color of Night (1994)\n",
      "    4.0: Rock, The (1996)\n",
      "    4.0: Cyrano de Bergerac (1990)\n",
      "    4.0: Celtic Pride (1996)\n"
     ]
    }
   ],
   "source": [
    "for title, pred_rating in recommend(5):\n",
    "    print(\"    %0.1f: %s\" % (pred_rating, title))"
   ]
  },
  {
   "cell_type": "markdown",
   "metadata": {
    "collapsed": false
   },
   "source": [
    "### Exercises\n",
    "\n",
    "- Try modifying our neural network to improve recommendation. You could try adding more layers, or using a different loss function. \n",
    "- Your goal is to improve the Mean Absolute Error on the test set. Show the results of your best model."
   ]
  },
  {
   "cell_type": "code",
   "execution_count": 40,
   "metadata": {
    "collapsed": false
   },
   "outputs": [],
   "source": [
    "# Extend and improve the model below\n",
    "class RegressionModel(Model):\n",
    "    def __init__(self, embedding_size, max_user_id, max_item_id):\n",
    "        super().__init__()\n",
    "\n",
    "        self.user_embedding = Embedding(output_dim=embedding_size,\n",
    "                                        input_dim=max_user_id + 1,\n",
    "                                        input_length=1,\n",
    "                                        name='user_embedding')\n",
    "        self.item_embedding = Embedding(output_dim=embedding_size,\n",
    "                                        input_dim=max_item_id + 1,\n",
    "                                        input_length=1,\n",
    "                                        name='item_embedding')\n",
    "\n",
    "        # The following two layers don't have parameters.\n",
    "        self.flatten = Flatten()\n",
    "        self.dot = Dot(axes=1)\n",
    "\n",
    "    def call(self, inputs):\n",
    "        user_inputs = inputs[0]\n",
    "        item_inputs = inputs[1]\n",
    "\n",
    "        user_vecs = self.flatten(self.user_embedding(user_inputs))\n",
    "        item_vecs = self.flatten(self.item_embedding(item_inputs))\n",
    "\n",
    "        y = self.dot([user_vecs, item_vecs])\n",
    "        return y\n",
    "\n",
    "\n",
    "model = RegressionModel(embedding_size=64, max_user_id=all_ratings['user_id'].max(), max_item_id=all_ratings['item_id'].max())\n",
    "model.compile(optimizer=\"adam\", loss='mae')"
   ]
  },
  {
   "cell_type": "code",
   "execution_count": 41,
   "metadata": {
    "collapsed": false
   },
   "outputs": [
    {
     "name": "stdout",
     "output_type": "stream",
     "text": [
      "Epoch 1/10\n",
      "1125/1125 [==============================] - 2s 2ms/step - loss: 2.6655 - val_loss: 1.0591\n",
      "Epoch 2/10\n",
      "1125/1125 [==============================] - 2s 2ms/step - loss: 0.8523 - val_loss: 0.7958\n",
      "Epoch 3/10\n",
      "1125/1125 [==============================] - 2s 2ms/step - loss: 0.7544 - val_loss: 0.7698\n",
      "Epoch 4/10\n",
      "1125/1125 [==============================] - 2s 2ms/step - loss: 0.7266 - val_loss: 0.7597\n",
      "Epoch 5/10\n",
      "1125/1125 [==============================] - 2s 2ms/step - loss: 0.7034 - val_loss: 0.7461\n",
      "Epoch 6/10\n",
      "1125/1125 [==============================] - 2s 2ms/step - loss: 0.6815 - val_loss: 0.7451\n",
      "Epoch 7/10\n",
      "1125/1125 [==============================] - 2s 2ms/step - loss: 0.6587 - val_loss: 0.7389\n",
      "Epoch 8/10\n",
      "1125/1125 [==============================] - 2s 2ms/step - loss: 0.6366 - val_loss: 0.7352\n",
      "Epoch 9/10\n",
      "1125/1125 [==============================] - 2s 2ms/step - loss: 0.6133 - val_loss: 0.7350\n",
      "Epoch 10/10\n",
      "1125/1125 [==============================] - 2s 2ms/step - loss: 0.5904 - val_loss: 0.7403\n"
     ]
    },
    {
     "data": {
      "image/png": "[encoded data removed]",
      "text/plain": [
       "<Figure size 640x480 with 1 Axes>"
      ]
     },
     "metadata": {},
     "output_type": "display_data"
    }
   ],
   "source": [
    "# Training the model\n",
    "history = model.fit([user_id_train, item_id_train], rating_train,\n",
    "                    batch_size=64, epochs=10, validation_split=0.1,\n",
    "                    shuffle=True)\n",
    "\n",
    "import matplotlib.pyplot as plt\n",
    "\n",
    "plt.plot(history.history['loss'], label='Train Loss')\n",
    "plt.plot(history.history['val_loss'], label='Validation Loss')\n",
    "plt.xlabel('Epoch')\n",
    "plt.ylabel('MAE')\n",
    "plt.legend()\n",
    "plt.show()"
   ]
  },
  {
   "cell_type": "code",
   "execution_count": 42,
   "metadata": {},
   "outputs": [],
   "source": [
    "from tensorflow.keras.layers import Dense, Dropout\n",
    "from tensorflow.keras.models import Model\n",
    "\n",
    "class ImprovedRegressionModel(Model):\n",
    "    def __init__(self, embedding_size, max_user_id, max_item_id):\n",
    "        super().__init__()\n",
    "\n",
    "        self.user_embedding = Embedding(output_dim=embedding_size,\n",
    "                                        input_dim=max_user_id + 1,\n",
    "                                        input_length=1,\n",
    "                                        name='user_embedding')\n",
    "        self.item_embedding = Embedding(output_dim=embedding_size,\n",
    "                                        input_dim=max_item_id + 1,\n",
    "                                        input_length=1,\n",
    "                                        name='item_embedding')\n",
    "        self.flatten = Flatten()\n",
    "        self.dot = Dot(axes=1)\n",
    "        self.dropout = Dropout(0.2)\n",
    "        self.user_transform_layer = Dense(16, activation='relu')\n",
    "        self.item_transform_layer = Dense(16, activation='relu')\n",
    "\n",
    "    def call(self, inputs):\n",
    "        user_inputs = inputs[0]\n",
    "        item_inputs = inputs[1]\n",
    "        user_vecs = self.user_embedding(user_inputs)\n",
    "        item_vecs = self.item_embedding(item_inputs)\n",
    "\n",
    "        transformed_user_vecs = self.flatten(self.user_transform_layer(self.dropout(user_vecs)))\n",
    "        transformed_item_vecs = self.flatten(self.item_transform_layer(self.dropout(item_vecs)))\n",
    "        \n",
    "        return self.dot([transformed_user_vecs, transformed_item_vecs])\n",
    "\n",
    "model = ImprovedRegressionModel(embedding_size=16, max_user_id=all_ratings['user_id'].max(), max_item_id=all_ratings['item_id'].max())\n",
    "model.compile(optimizer='adam', loss='mae')"
   ]
  },
  {
   "cell_type": "code",
   "execution_count": 43,
   "metadata": {},
   "outputs": [
    {
     "name": "stdout",
     "output_type": "stream",
     "text": [
      "Epoch 1/10\n",
      "1125/1125 [==============================] - 3s 2ms/step - loss: 1.1255 - val_loss: 0.7605\n",
      "Epoch 2/10\n",
      "1125/1125 [==============================] - 2s 2ms/step - loss: 0.7597 - val_loss: 0.7504\n",
      "Epoch 3/10\n",
      "1125/1125 [==============================] - 2s 2ms/step - loss: 0.7436 - val_loss: 0.7452\n",
      "Epoch 4/10\n",
      "1125/1125 [==============================] - 2s 2ms/step - loss: 0.7349 - val_loss: 0.7401\n",
      "Epoch 5/10\n",
      "1125/1125 [==============================] - 2s 2ms/step - loss: 0.7264 - val_loss: 0.7334\n",
      "Epoch 6/10\n",
      "1125/1125 [==============================] - 2s 2ms/step - loss: 0.7187 - val_loss: 0.7327\n",
      "Epoch 7/10\n",
      "1125/1125 [==============================] - 2s 2ms/step - loss: 0.7128 - val_loss: 0.7320\n",
      "Epoch 8/10\n",
      "1125/1125 [==============================] - 2s 2ms/step - loss: 0.7085 - val_loss: 0.7297\n",
      "Epoch 9/10\n",
      "1125/1125 [==============================] - 2s 2ms/step - loss: 0.7049 - val_loss: 0.7322\n",
      "Epoch 10/10\n",
      "1125/1125 [==============================] - 2s 2ms/step - loss: 0.7002 - val_loss: 0.7284\n",
      "625/625 [==============================] - 1s 996us/step - loss: 0.7255\n"
     ]
    },
    {
     "data": {
      "image/png": "[encoded data removed]",
      "text/plain": [
       "<Figure size 640x480 with 1 Axes>"
      ]
     },
     "metadata": {},
     "output_type": "display_data"
    },
    {
     "name": "stdout",
     "output_type": "stream",
     "text": [
      "Testing MAE: 0.7255470752716064\n"
     ]
    }
   ],
   "source": [
    "fit_result = model.fit([user_id_train, item_id_train], rating_train,\n",
    "          batch_size=64, epochs=10, validation_split=0.1,\n",
    "          shuffle=True)\n",
    "\n",
    "test_loss = model.evaluate([user_id_test, item_id_test], rating_test)\n",
    "\n",
    "plt.plot(fit_result.history['loss'], label='Train Loss')\n",
    "plt.plot(fit_result.history['val_loss'], label='Validation Loss')\n",
    "plt.ylim(0, 2)\n",
    "plt.xlabel('Epoch#')\n",
    "plt.ylabel('MAE')\n",
    "plt.legend()\n",
    "plt.show()\n",
    "print(f\"Testing MAE: {test_loss}\")"
   ]
  }
 ],
 "metadata": {
  "kernelspec": {
   "display_name": "Python 3 (ipykernel)",
   "language": "python",
   "name": "python3"
  },
  "language_info": {
   "codemirror_mode": {
    "name": "ipython",
    "version": 3
   },
   "file_extension": ".py",
   "mimetype": "text/x-python",
   "name": "python",
   "nbconvert_exporter": "python",
   "pygments_lexer": "ipython3",
   "version": "3.9.19"
  }
 },
 "nbformat": 4,
 "nbformat_minor": 4
}
